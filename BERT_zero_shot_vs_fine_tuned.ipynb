{
  "cells": [
    {
      "cell_type": "markdown",
      "metadata": {
        "id": "A4P2neq3gVF5"
      },
      "source": [
        "# Installing/importing packages"
      ]
    },
    {
      "cell_type": "code",
      "execution_count": null,
      "metadata": {
        "colab": {
          "base_uri": "https://localhost:8080/"
        },
        "id": "upEEN8GX_Zmf",
        "outputId": "838afc51-af4e-4bce-cbec-2c20c167a393"
      },
      "outputs": [
        {
          "output_type": "stream",
          "name": "stdout",
          "text": [
            "Requirement already satisfied: datasets in /usr/local/lib/python3.10/dist-packages (2.18.0)\n",
            "Requirement already satisfied: filelock in /usr/local/lib/python3.10/dist-packages (from datasets) (3.13.3)\n",
            "Requirement already satisfied: numpy>=1.17 in /usr/local/lib/python3.10/dist-packages (from datasets) (1.25.2)\n",
            "Requirement already satisfied: pyarrow>=12.0.0 in /usr/local/lib/python3.10/dist-packages (from datasets) (14.0.2)\n",
            "Requirement already satisfied: pyarrow-hotfix in /usr/local/lib/python3.10/dist-packages (from datasets) (0.6)\n",
            "Requirement already satisfied: dill<0.3.9,>=0.3.0 in /usr/local/lib/python3.10/dist-packages (from datasets) (0.3.8)\n",
            "Requirement already satisfied: pandas in /usr/local/lib/python3.10/dist-packages (from datasets) (2.0.3)\n",
            "Requirement already satisfied: requests>=2.19.0 in /usr/local/lib/python3.10/dist-packages (from datasets) (2.31.0)\n",
            "Requirement already satisfied: tqdm>=4.62.1 in /usr/local/lib/python3.10/dist-packages (from datasets) (4.66.2)\n",
            "Requirement already satisfied: xxhash in /usr/local/lib/python3.10/dist-packages (from datasets) (3.4.1)\n",
            "Requirement already satisfied: multiprocess in /usr/local/lib/python3.10/dist-packages (from datasets) (0.70.16)\n",
            "Requirement already satisfied: fsspec[http]<=2024.2.0,>=2023.1.0 in /usr/local/lib/python3.10/dist-packages (from datasets) (2023.6.0)\n",
            "Requirement already satisfied: aiohttp in /usr/local/lib/python3.10/dist-packages (from datasets) (3.9.3)\n",
            "Requirement already satisfied: huggingface-hub>=0.19.4 in /usr/local/lib/python3.10/dist-packages (from datasets) (0.20.3)\n",
            "Requirement already satisfied: packaging in /usr/local/lib/python3.10/dist-packages (from datasets) (24.0)\n",
            "Requirement already satisfied: pyyaml>=5.1 in /usr/local/lib/python3.10/dist-packages (from datasets) (6.0.1)\n",
            "Requirement already satisfied: aiosignal>=1.1.2 in /usr/local/lib/python3.10/dist-packages (from aiohttp->datasets) (1.3.1)\n",
            "Requirement already satisfied: attrs>=17.3.0 in /usr/local/lib/python3.10/dist-packages (from aiohttp->datasets) (23.2.0)\n",
            "Requirement already satisfied: frozenlist>=1.1.1 in /usr/local/lib/python3.10/dist-packages (from aiohttp->datasets) (1.4.1)\n",
            "Requirement already satisfied: multidict<7.0,>=4.5 in /usr/local/lib/python3.10/dist-packages (from aiohttp->datasets) (6.0.5)\n",
            "Requirement already satisfied: yarl<2.0,>=1.0 in /usr/local/lib/python3.10/dist-packages (from aiohttp->datasets) (1.9.4)\n",
            "Requirement already satisfied: async-timeout<5.0,>=4.0 in /usr/local/lib/python3.10/dist-packages (from aiohttp->datasets) (4.0.3)\n",
            "Requirement already satisfied: typing-extensions>=3.7.4.3 in /usr/local/lib/python3.10/dist-packages (from huggingface-hub>=0.19.4->datasets) (4.10.0)\n",
            "Requirement already satisfied: charset-normalizer<4,>=2 in /usr/local/lib/python3.10/dist-packages (from requests>=2.19.0->datasets) (3.3.2)\n",
            "Requirement already satisfied: idna<4,>=2.5 in /usr/local/lib/python3.10/dist-packages (from requests>=2.19.0->datasets) (3.6)\n",
            "Requirement already satisfied: urllib3<3,>=1.21.1 in /usr/local/lib/python3.10/dist-packages (from requests>=2.19.0->datasets) (2.0.7)\n",
            "Requirement already satisfied: certifi>=2017.4.17 in /usr/local/lib/python3.10/dist-packages (from requests>=2.19.0->datasets) (2024.2.2)\n",
            "Requirement already satisfied: python-dateutil>=2.8.2 in /usr/local/lib/python3.10/dist-packages (from pandas->datasets) (2.8.2)\n",
            "Requirement already satisfied: pytz>=2020.1 in /usr/local/lib/python3.10/dist-packages (from pandas->datasets) (2023.4)\n",
            "Requirement already satisfied: tzdata>=2022.1 in /usr/local/lib/python3.10/dist-packages (from pandas->datasets) (2024.1)\n",
            "Requirement already satisfied: six>=1.5 in /usr/local/lib/python3.10/dist-packages (from python-dateutil>=2.8.2->pandas->datasets) (1.16.0)\n",
            "Requirement already satisfied: evaluate in /usr/local/lib/python3.10/dist-packages (0.4.1)\n",
            "Requirement already satisfied: datasets>=2.0.0 in /usr/local/lib/python3.10/dist-packages (from evaluate) (2.18.0)\n",
            "Requirement already satisfied: numpy>=1.17 in /usr/local/lib/python3.10/dist-packages (from evaluate) (1.25.2)\n",
            "Requirement already satisfied: dill in /usr/local/lib/python3.10/dist-packages (from evaluate) (0.3.8)\n",
            "Requirement already satisfied: pandas in /usr/local/lib/python3.10/dist-packages (from evaluate) (2.0.3)\n",
            "Requirement already satisfied: requests>=2.19.0 in /usr/local/lib/python3.10/dist-packages (from evaluate) (2.31.0)\n",
            "Requirement already satisfied: tqdm>=4.62.1 in /usr/local/lib/python3.10/dist-packages (from evaluate) (4.66.2)\n",
            "Requirement already satisfied: xxhash in /usr/local/lib/python3.10/dist-packages (from evaluate) (3.4.1)\n",
            "Requirement already satisfied: multiprocess in /usr/local/lib/python3.10/dist-packages (from evaluate) (0.70.16)\n",
            "Requirement already satisfied: fsspec[http]>=2021.05.0 in /usr/local/lib/python3.10/dist-packages (from evaluate) (2023.6.0)\n",
            "Requirement already satisfied: huggingface-hub>=0.7.0 in /usr/local/lib/python3.10/dist-packages (from evaluate) (0.20.3)\n",
            "Requirement already satisfied: packaging in /usr/local/lib/python3.10/dist-packages (from evaluate) (24.0)\n",
            "Requirement already satisfied: responses<0.19 in /usr/local/lib/python3.10/dist-packages (from evaluate) (0.18.0)\n",
            "Requirement already satisfied: filelock in /usr/local/lib/python3.10/dist-packages (from datasets>=2.0.0->evaluate) (3.13.3)\n",
            "Requirement already satisfied: pyarrow>=12.0.0 in /usr/local/lib/python3.10/dist-packages (from datasets>=2.0.0->evaluate) (14.0.2)\n",
            "Requirement already satisfied: pyarrow-hotfix in /usr/local/lib/python3.10/dist-packages (from datasets>=2.0.0->evaluate) (0.6)\n",
            "Requirement already satisfied: aiohttp in /usr/local/lib/python3.10/dist-packages (from datasets>=2.0.0->evaluate) (3.9.3)\n",
            "Requirement already satisfied: pyyaml>=5.1 in /usr/local/lib/python3.10/dist-packages (from datasets>=2.0.0->evaluate) (6.0.1)\n",
            "Requirement already satisfied: typing-extensions>=3.7.4.3 in /usr/local/lib/python3.10/dist-packages (from huggingface-hub>=0.7.0->evaluate) (4.10.0)\n",
            "Requirement already satisfied: charset-normalizer<4,>=2 in /usr/local/lib/python3.10/dist-packages (from requests>=2.19.0->evaluate) (3.3.2)\n",
            "Requirement already satisfied: idna<4,>=2.5 in /usr/local/lib/python3.10/dist-packages (from requests>=2.19.0->evaluate) (3.6)\n",
            "Requirement already satisfied: urllib3<3,>=1.21.1 in /usr/local/lib/python3.10/dist-packages (from requests>=2.19.0->evaluate) (2.0.7)\n",
            "Requirement already satisfied: certifi>=2017.4.17 in /usr/local/lib/python3.10/dist-packages (from requests>=2.19.0->evaluate) (2024.2.2)\n",
            "Requirement already satisfied: python-dateutil>=2.8.2 in /usr/local/lib/python3.10/dist-packages (from pandas->evaluate) (2.8.2)\n",
            "Requirement already satisfied: pytz>=2020.1 in /usr/local/lib/python3.10/dist-packages (from pandas->evaluate) (2023.4)\n",
            "Requirement already satisfied: tzdata>=2022.1 in /usr/local/lib/python3.10/dist-packages (from pandas->evaluate) (2024.1)\n",
            "Requirement already satisfied: aiosignal>=1.1.2 in /usr/local/lib/python3.10/dist-packages (from aiohttp->datasets>=2.0.0->evaluate) (1.3.1)\n",
            "Requirement already satisfied: attrs>=17.3.0 in /usr/local/lib/python3.10/dist-packages (from aiohttp->datasets>=2.0.0->evaluate) (23.2.0)\n",
            "Requirement already satisfied: frozenlist>=1.1.1 in /usr/local/lib/python3.10/dist-packages (from aiohttp->datasets>=2.0.0->evaluate) (1.4.1)\n",
            "Requirement already satisfied: multidict<7.0,>=4.5 in /usr/local/lib/python3.10/dist-packages (from aiohttp->datasets>=2.0.0->evaluate) (6.0.5)\n",
            "Requirement already satisfied: yarl<2.0,>=1.0 in /usr/local/lib/python3.10/dist-packages (from aiohttp->datasets>=2.0.0->evaluate) (1.9.4)\n",
            "Requirement already satisfied: async-timeout<5.0,>=4.0 in /usr/local/lib/python3.10/dist-packages (from aiohttp->datasets>=2.0.0->evaluate) (4.0.3)\n",
            "Requirement already satisfied: six>=1.5 in /usr/local/lib/python3.10/dist-packages (from python-dateutil>=2.8.2->pandas->evaluate) (1.16.0)\n",
            "Requirement already satisfied: transformers[torch] in /usr/local/lib/python3.10/dist-packages (4.38.2)\n",
            "Requirement already satisfied: filelock in /usr/local/lib/python3.10/dist-packages (from transformers[torch]) (3.13.3)\n",
            "Requirement already satisfied: huggingface-hub<1.0,>=0.19.3 in /usr/local/lib/python3.10/dist-packages (from transformers[torch]) (0.20.3)\n",
            "Requirement already satisfied: numpy>=1.17 in /usr/local/lib/python3.10/dist-packages (from transformers[torch]) (1.25.2)\n",
            "Requirement already satisfied: packaging>=20.0 in /usr/local/lib/python3.10/dist-packages (from transformers[torch]) (24.0)\n",
            "Requirement already satisfied: pyyaml>=5.1 in /usr/local/lib/python3.10/dist-packages (from transformers[torch]) (6.0.1)\n",
            "Requirement already satisfied: regex!=2019.12.17 in /usr/local/lib/python3.10/dist-packages (from transformers[torch]) (2023.12.25)\n",
            "Requirement already satisfied: requests in /usr/local/lib/python3.10/dist-packages (from transformers[torch]) (2.31.0)\n",
            "Requirement already satisfied: tokenizers<0.19,>=0.14 in /usr/local/lib/python3.10/dist-packages (from transformers[torch]) (0.15.2)\n",
            "Requirement already satisfied: safetensors>=0.4.1 in /usr/local/lib/python3.10/dist-packages (from transformers[torch]) (0.4.2)\n",
            "Requirement already satisfied: tqdm>=4.27 in /usr/local/lib/python3.10/dist-packages (from transformers[torch]) (4.66.2)\n",
            "Requirement already satisfied: torch in /usr/local/lib/python3.10/dist-packages (from transformers[torch]) (2.2.1+cu121)\n",
            "Requirement already satisfied: accelerate>=0.21.0 in /usr/local/lib/python3.10/dist-packages (from transformers[torch]) (0.28.0)\n",
            "Requirement already satisfied: psutil in /usr/local/lib/python3.10/dist-packages (from accelerate>=0.21.0->transformers[torch]) (5.9.5)\n",
            "Requirement already satisfied: fsspec>=2023.5.0 in /usr/local/lib/python3.10/dist-packages (from huggingface-hub<1.0,>=0.19.3->transformers[torch]) (2023.6.0)\n",
            "Requirement already satisfied: typing-extensions>=3.7.4.3 in /usr/local/lib/python3.10/dist-packages (from huggingface-hub<1.0,>=0.19.3->transformers[torch]) (4.10.0)\n",
            "Requirement already satisfied: sympy in /usr/local/lib/python3.10/dist-packages (from torch->transformers[torch]) (1.12)\n",
            "Requirement already satisfied: networkx in /usr/local/lib/python3.10/dist-packages (from torch->transformers[torch]) (3.2.1)\n",
            "Requirement already satisfied: jinja2 in /usr/local/lib/python3.10/dist-packages (from torch->transformers[torch]) (3.1.3)\n",
            "Requirement already satisfied: nvidia-cuda-nvrtc-cu12==12.1.105 in /usr/local/lib/python3.10/dist-packages (from torch->transformers[torch]) (12.1.105)\n",
            "Requirement already satisfied: nvidia-cuda-runtime-cu12==12.1.105 in /usr/local/lib/python3.10/dist-packages (from torch->transformers[torch]) (12.1.105)\n",
            "Requirement already satisfied: nvidia-cuda-cupti-cu12==12.1.105 in /usr/local/lib/python3.10/dist-packages (from torch->transformers[torch]) (12.1.105)\n",
            "Requirement already satisfied: nvidia-cudnn-cu12==8.9.2.26 in /usr/local/lib/python3.10/dist-packages (from torch->transformers[torch]) (8.9.2.26)\n",
            "Requirement already satisfied: nvidia-cublas-cu12==12.1.3.1 in /usr/local/lib/python3.10/dist-packages (from torch->transformers[torch]) (12.1.3.1)\n",
            "Requirement already satisfied: nvidia-cufft-cu12==11.0.2.54 in /usr/local/lib/python3.10/dist-packages (from torch->transformers[torch]) (11.0.2.54)\n",
            "Requirement already satisfied: nvidia-curand-cu12==10.3.2.106 in /usr/local/lib/python3.10/dist-packages (from torch->transformers[torch]) (10.3.2.106)\n",
            "Requirement already satisfied: nvidia-cusolver-cu12==11.4.5.107 in /usr/local/lib/python3.10/dist-packages (from torch->transformers[torch]) (11.4.5.107)\n",
            "Requirement already satisfied: nvidia-cusparse-cu12==12.1.0.106 in /usr/local/lib/python3.10/dist-packages (from torch->transformers[torch]) (12.1.0.106)\n",
            "Requirement already satisfied: nvidia-nccl-cu12==2.19.3 in /usr/local/lib/python3.10/dist-packages (from torch->transformers[torch]) (2.19.3)\n",
            "Requirement already satisfied: nvidia-nvtx-cu12==12.1.105 in /usr/local/lib/python3.10/dist-packages (from torch->transformers[torch]) (12.1.105)\n",
            "Requirement already satisfied: triton==2.2.0 in /usr/local/lib/python3.10/dist-packages (from torch->transformers[torch]) (2.2.0)\n",
            "Requirement already satisfied: nvidia-nvjitlink-cu12 in /usr/local/lib/python3.10/dist-packages (from nvidia-cusolver-cu12==11.4.5.107->torch->transformers[torch]) (12.4.127)\n",
            "Requirement already satisfied: charset-normalizer<4,>=2 in /usr/local/lib/python3.10/dist-packages (from requests->transformers[torch]) (3.3.2)\n",
            "Requirement already satisfied: idna<4,>=2.5 in /usr/local/lib/python3.10/dist-packages (from requests->transformers[torch]) (3.6)\n",
            "Requirement already satisfied: urllib3<3,>=1.21.1 in /usr/local/lib/python3.10/dist-packages (from requests->transformers[torch]) (2.0.7)\n",
            "Requirement already satisfied: certifi>=2017.4.17 in /usr/local/lib/python3.10/dist-packages (from requests->transformers[torch]) (2024.2.2)\n",
            "Requirement already satisfied: MarkupSafe>=2.0 in /usr/local/lib/python3.10/dist-packages (from jinja2->torch->transformers[torch]) (2.1.5)\n",
            "Requirement already satisfied: mpmath>=0.19 in /usr/local/lib/python3.10/dist-packages (from sympy->torch->transformers[torch]) (1.3.0)\n",
            "Requirement already satisfied: accelerate in /usr/local/lib/python3.10/dist-packages (0.28.0)\n",
            "Requirement already satisfied: numpy>=1.17 in /usr/local/lib/python3.10/dist-packages (from accelerate) (1.25.2)\n",
            "Requirement already satisfied: packaging>=20.0 in /usr/local/lib/python3.10/dist-packages (from accelerate) (24.0)\n",
            "Requirement already satisfied: psutil in /usr/local/lib/python3.10/dist-packages (from accelerate) (5.9.5)\n",
            "Requirement already satisfied: pyyaml in /usr/local/lib/python3.10/dist-packages (from accelerate) (6.0.1)\n",
            "Requirement already satisfied: torch>=1.10.0 in /usr/local/lib/python3.10/dist-packages (from accelerate) (2.2.1+cu121)\n",
            "Requirement already satisfied: huggingface-hub in /usr/local/lib/python3.10/dist-packages (from accelerate) (0.20.3)\n",
            "Requirement already satisfied: safetensors>=0.3.1 in /usr/local/lib/python3.10/dist-packages (from accelerate) (0.4.2)\n",
            "Requirement already satisfied: filelock in /usr/local/lib/python3.10/dist-packages (from torch>=1.10.0->accelerate) (3.13.3)\n",
            "Requirement already satisfied: typing-extensions>=4.8.0 in /usr/local/lib/python3.10/dist-packages (from torch>=1.10.0->accelerate) (4.10.0)\n",
            "Requirement already satisfied: sympy in /usr/local/lib/python3.10/dist-packages (from torch>=1.10.0->accelerate) (1.12)\n",
            "Requirement already satisfied: networkx in /usr/local/lib/python3.10/dist-packages (from torch>=1.10.0->accelerate) (3.2.1)\n",
            "Requirement already satisfied: jinja2 in /usr/local/lib/python3.10/dist-packages (from torch>=1.10.0->accelerate) (3.1.3)\n",
            "Requirement already satisfied: fsspec in /usr/local/lib/python3.10/dist-packages (from torch>=1.10.0->accelerate) (2023.6.0)\n",
            "Requirement already satisfied: nvidia-cuda-nvrtc-cu12==12.1.105 in /usr/local/lib/python3.10/dist-packages (from torch>=1.10.0->accelerate) (12.1.105)\n",
            "Requirement already satisfied: nvidia-cuda-runtime-cu12==12.1.105 in /usr/local/lib/python3.10/dist-packages (from torch>=1.10.0->accelerate) (12.1.105)\n",
            "Requirement already satisfied: nvidia-cuda-cupti-cu12==12.1.105 in /usr/local/lib/python3.10/dist-packages (from torch>=1.10.0->accelerate) (12.1.105)\n",
            "Requirement already satisfied: nvidia-cudnn-cu12==8.9.2.26 in /usr/local/lib/python3.10/dist-packages (from torch>=1.10.0->accelerate) (8.9.2.26)\n",
            "Requirement already satisfied: nvidia-cublas-cu12==12.1.3.1 in /usr/local/lib/python3.10/dist-packages (from torch>=1.10.0->accelerate) (12.1.3.1)\n",
            "Requirement already satisfied: nvidia-cufft-cu12==11.0.2.54 in /usr/local/lib/python3.10/dist-packages (from torch>=1.10.0->accelerate) (11.0.2.54)\n",
            "Requirement already satisfied: nvidia-curand-cu12==10.3.2.106 in /usr/local/lib/python3.10/dist-packages (from torch>=1.10.0->accelerate) (10.3.2.106)\n",
            "Requirement already satisfied: nvidia-cusolver-cu12==11.4.5.107 in /usr/local/lib/python3.10/dist-packages (from torch>=1.10.0->accelerate) (11.4.5.107)\n",
            "Requirement already satisfied: nvidia-cusparse-cu12==12.1.0.106 in /usr/local/lib/python3.10/dist-packages (from torch>=1.10.0->accelerate) (12.1.0.106)\n",
            "Requirement already satisfied: nvidia-nccl-cu12==2.19.3 in /usr/local/lib/python3.10/dist-packages (from torch>=1.10.0->accelerate) (2.19.3)\n",
            "Requirement already satisfied: nvidia-nvtx-cu12==12.1.105 in /usr/local/lib/python3.10/dist-packages (from torch>=1.10.0->accelerate) (12.1.105)\n",
            "Requirement already satisfied: triton==2.2.0 in /usr/local/lib/python3.10/dist-packages (from torch>=1.10.0->accelerate) (2.2.0)\n",
            "Requirement already satisfied: nvidia-nvjitlink-cu12 in /usr/local/lib/python3.10/dist-packages (from nvidia-cusolver-cu12==11.4.5.107->torch>=1.10.0->accelerate) (12.4.127)\n",
            "Requirement already satisfied: requests in /usr/local/lib/python3.10/dist-packages (from huggingface-hub->accelerate) (2.31.0)\n",
            "Requirement already satisfied: tqdm>=4.42.1 in /usr/local/lib/python3.10/dist-packages (from huggingface-hub->accelerate) (4.66.2)\n",
            "Requirement already satisfied: MarkupSafe>=2.0 in /usr/local/lib/python3.10/dist-packages (from jinja2->torch>=1.10.0->accelerate) (2.1.5)\n",
            "Requirement already satisfied: charset-normalizer<4,>=2 in /usr/local/lib/python3.10/dist-packages (from requests->huggingface-hub->accelerate) (3.3.2)\n",
            "Requirement already satisfied: idna<4,>=2.5 in /usr/local/lib/python3.10/dist-packages (from requests->huggingface-hub->accelerate) (3.6)\n",
            "Requirement already satisfied: urllib3<3,>=1.21.1 in /usr/local/lib/python3.10/dist-packages (from requests->huggingface-hub->accelerate) (2.0.7)\n",
            "Requirement already satisfied: certifi>=2017.4.17 in /usr/local/lib/python3.10/dist-packages (from requests->huggingface-hub->accelerate) (2024.2.2)\n",
            "Requirement already satisfied: mpmath>=0.19 in /usr/local/lib/python3.10/dist-packages (from sympy->torch>=1.10.0->accelerate) (1.3.0)\n"
          ]
        }
      ],
      "source": [
        "# Install required packages\n",
        "!pip install datasets\n",
        "!pip install evaluate\n",
        "!pip install transformers[torch]\n",
        "!pip install accelerate -U"
      ]
    },
    {
      "cell_type": "code",
      "execution_count": null,
      "metadata": {
        "id": "Gf7mVOk8Nyj1"
      },
      "outputs": [],
      "source": [
        "# Import required packages\n",
        "import pandas as pd\n",
        "from collections import Counter\n",
        "from sklearn.metrics import confusion_matrix\n",
        "import matplotlib.pyplot as plt\n",
        "import numpy as np\n",
        "import torch"
      ]
    },
    {
      "cell_type": "markdown",
      "metadata": {
        "id": "_AAXAjchRv65"
      },
      "source": [
        "# Data processing - Nieuw"
      ]
    },
    {
      "cell_type": "code",
      "execution_count": null,
      "metadata": {
        "id": "rmD7SYzVSFnH",
        "colab": {
          "base_uri": "https://localhost:8080/"
        },
        "outputId": "e0750be4-e24a-4ec3-b380-f187efc63603"
      },
      "outputs": [
        {
          "output_type": "stream",
          "name": "stderr",
          "text": [
            "/usr/local/lib/python3.10/dist-packages/huggingface_hub/utils/_token.py:88: UserWarning: \n",
            "The secret `HF_TOKEN` does not exist in your Colab secrets.\n",
            "To authenticate with the Hugging Face Hub, create a token in your settings tab (https://huggingface.co/settings/tokens), set it as secret in your Google Colab and restart your session.\n",
            "You will be able to reuse this secret in all of your notebooks.\n",
            "Please note that authentication is recommended but still optional to access public models or datasets.\n",
            "  warnings.warn(\n"
          ]
        }
      ],
      "source": [
        "from datasets import load_dataset\n",
        "\n",
        "# Loading data from HF\n",
        "yelp_reviews_dataset = load_dataset('yelp_review_full')\n",
        "app_reviews_dataset = load_dataset('app_reviews')\n",
        "product_reviews_dataset = load_dataset('generated_reviews_enth')"
      ]
    },
    {
      "cell_type": "code",
      "execution_count": null,
      "metadata": {
        "colab": {
          "base_uri": "https://localhost:8080/"
        },
        "id": "ryXPfYVgS3j8",
        "outputId": "23ff1805-c496-46d5-8ef9-2ddc0709f412"
      },
      "outputs": [
        {
          "output_type": "execute_result",
          "data": {
            "text/plain": [
              "DatasetDict({\n",
              "    train: Dataset({\n",
              "        features: ['label', 'text'],\n",
              "        num_rows: 650000\n",
              "    })\n",
              "    test: Dataset({\n",
              "        features: ['label', 'text'],\n",
              "        num_rows: 50000\n",
              "    })\n",
              "})"
            ]
          },
          "metadata": {},
          "execution_count": 4
        }
      ],
      "source": [
        "yelp_reviews_dataset"
      ]
    },
    {
      "cell_type": "code",
      "execution_count": null,
      "metadata": {
        "colab": {
          "base_uri": "https://localhost:8080/"
        },
        "id": "Bb3hrbCyS8nf",
        "outputId": "e1864544-44cd-4f63-975a-5e0ab7cf8efb"
      },
      "outputs": [
        {
          "output_type": "execute_result",
          "data": {
            "text/plain": [
              "DatasetDict({\n",
              "    train: Dataset({\n",
              "        features: ['package_name', 'review', 'date', 'star'],\n",
              "        num_rows: 288065\n",
              "    })\n",
              "})"
            ]
          },
          "metadata": {},
          "execution_count": 5
        }
      ],
      "source": [
        "app_reviews_dataset"
      ]
    },
    {
      "cell_type": "code",
      "execution_count": null,
      "metadata": {
        "colab": {
          "base_uri": "https://localhost:8080/"
        },
        "id": "0jx7jIM7S_qR",
        "outputId": "c00b66fb-a862-4217-b940-1042a08d444f"
      },
      "outputs": [
        {
          "output_type": "execute_result",
          "data": {
            "text/plain": [
              "DatasetDict({\n",
              "    train: Dataset({\n",
              "        features: ['translation', 'review_star', 'correct'],\n",
              "        num_rows: 141369\n",
              "    })\n",
              "    validation: Dataset({\n",
              "        features: ['translation', 'review_star', 'correct'],\n",
              "        num_rows: 15708\n",
              "    })\n",
              "    test: Dataset({\n",
              "        features: ['translation', 'review_star', 'correct'],\n",
              "        num_rows: 17453\n",
              "    })\n",
              "})"
            ]
          },
          "metadata": {},
          "execution_count": 6
        }
      ],
      "source": [
        "product_reviews_dataset"
      ]
    },
    {
      "cell_type": "code",
      "execution_count": null,
      "metadata": {
        "id": "7Ig34KOwSuOJ"
      },
      "outputs": [],
      "source": [
        "from datasets import concatenate_datasets\n",
        "\n",
        "# Combine train, val, test data if needed\n",
        "yelp_reviews = concatenate_datasets([yelp_reviews_dataset[\"train\"], yelp_reviews_dataset[\"test\"]])\n",
        "app_reviews = app_reviews_dataset['train']\n",
        "product_reviews = concatenate_datasets([product_reviews_dataset[\"train\"], product_reviews_dataset[\"validation\"], product_reviews_dataset[\"test\"]])"
      ]
    },
    {
      "cell_type": "code",
      "execution_count": null,
      "metadata": {
        "colab": {
          "base_uri": "https://localhost:8080/"
        },
        "id": "ntCW-abhUo-J",
        "outputId": "d8d8ec1d-58b0-41a1-8d65-507de06af5c9"
      },
      "outputs": [
        {
          "output_type": "stream",
          "name": "stdout",
          "text": [
            "{'en': \"I had a hard time finding a case for my new LG Lucid 2 but finally found this one on amazon. The colors are really pretty and it works just as well as, if not better than the otterbox. Hopefully there will be more available by next Xmas season. Overall, very cute case. I love cheetah's. :)\", 'th': 'ฉันมีปัญหาในการหาเคสสำหรับ LG Lucid 2 ใหม่ของฉัน แต่ในที่สุดก็พบเคสนี้ใน Amazon สีสวยมากและใช้งานได้ดีเช่นเดียวกับถ้าไม่ดีกว่านาก หวังว่าจะมีให้มากขึ้นในช่วงเทศกาลคริสต์มาสหน้า โดยรวมแล้วน่ารักมาก ๆ ฉันรักเสือชีตาห์ :)'}\n"
          ]
        }
      ],
      "source": [
        "# Inspect data\n",
        "print(product_reviews['translation'][0])"
      ]
    },
    {
      "cell_type": "code",
      "execution_count": null,
      "metadata": {
        "id": "W0HU2FI7UUZy"
      },
      "outputs": [],
      "source": [
        "# Rename columns\n",
        "app_reviews = app_reviews.rename_column(\"review\", \"text\")\n",
        "app_reviews = app_reviews.rename_column(\"star\", \"label\")\n",
        "\n",
        "product_reviews = product_reviews.rename_column(\"translation\", \"text\")\n",
        "product_reviews = product_reviews.rename_column(\"review_star\", \"label\")"
      ]
    },
    {
      "cell_type": "code",
      "execution_count": null,
      "metadata": {
        "id": "fMCnOFteWKqC"
      },
      "outputs": [],
      "source": [
        "# Transform 'text' of product reviews to only get english translation\n",
        "def extract_en(data):\n",
        "  data['text'] = data['text']['en']\n",
        "  return data\n",
        "\n",
        "product_reviews = product_reviews.map(extract_en)"
      ]
    },
    {
      "cell_type": "code",
      "execution_count": null,
      "metadata": {
        "colab": {
          "base_uri": "https://localhost:8080/",
          "height": 71
        },
        "id": "xMNvkUthaIja",
        "outputId": "131c6aef-cca9-4a27-c1f0-7086149d322f"
      },
      "outputs": [
        {
          "output_type": "execute_result",
          "data": {
            "text/plain": [
              "\"I had a hard time finding a case for my new LG Lucid 2 but finally found this one on amazon. The colors are really pretty and it works just as well as, if not better than the otterbox. Hopefully there will be more available by next Xmas season. Overall, very cute case. I love cheetah's. :)\""
            ],
            "application/vnd.google.colaboratory.intrinsic+json": {
              "type": "string"
            }
          },
          "metadata": {},
          "execution_count": 11
        }
      ],
      "source": [
        "# Inspect data\n",
        "product_reviews['text'][0]"
      ]
    },
    {
      "cell_type": "markdown",
      "metadata": {
        "id": "9Rfw5dXCTyn8"
      },
      "source": [
        "## Convert stars to sentiment"
      ]
    },
    {
      "cell_type": "code",
      "execution_count": null,
      "metadata": {
        "colab": {
          "base_uri": "https://localhost:8080/"
        },
        "id": "GH3h1s4KSg6s",
        "outputId": "08c781f6-d5b9-4c2c-eb4a-0c0e8f973a5b"
      },
      "outputs": [
        {
          "output_type": "stream",
          "name": "stdout",
          "text": [
            "Yelp: {0, 1, 2, 3, 4}\n",
            "App: {1, 2, 3, 4, 5}\n",
            "Product: {1, 2, 3, 4, 5}\n"
          ]
        }
      ],
      "source": [
        "# Unique star labels\n",
        "print(f\"Yelp: {set(yelp_reviews['label'])}\")    # 0-4 scale\n",
        "print(f\"App: {set(app_reviews['label'])}\")      # 1-5 scale\n",
        "print(f\"Product: {set(app_reviews['label'])}\")  # 1-5 scale"
      ]
    },
    {
      "cell_type": "code",
      "execution_count": null,
      "metadata": {
        "id": "GWqd6umyT4xB"
      },
      "outputs": [],
      "source": [
        "# Function to convert stars to sentiment class 'positive', 'neutral', 'negative'\n",
        "def transform_labels(data, max_star):\n",
        "  if data['label'] <= (max_star-3):\n",
        "      data['label_class'] = 'negative'\n",
        "      data['label_class_num'] = 0\n",
        "  elif data['label'] == (max_star-2):\n",
        "      data['label_class'] = 'neutral'\n",
        "      data['label_class_num'] = 1\n",
        "  else:  # data['label'] is 3, 4 or 5 (depending on max stars)\n",
        "      data['label_class'] = 'positive'\n",
        "      data['label_class_num'] = 2\n",
        "  return data"
      ]
    },
    {
      "cell_type": "code",
      "execution_count": null,
      "metadata": {
        "id": "O8xBaI0dVaX0"
      },
      "outputs": [],
      "source": [
        "# Convert labels to labels_new\n",
        "yelp_reviews = yelp_reviews.map(transform_labels, fn_kwargs={'max_star': 4})\n",
        "app_reviews = app_reviews.map(transform_labels, fn_kwargs={'max_star': 5})\n",
        "product_reviews = product_reviews.map(transform_labels, fn_kwargs={'max_star': 5})"
      ]
    },
    {
      "cell_type": "code",
      "execution_count": null,
      "metadata": {
        "colab": {
          "base_uri": "https://localhost:8080/"
        },
        "id": "OR5KZbLxVmlm",
        "outputId": "d5579c6d-fe1a-4006-a43d-f81b51f6a150"
      },
      "outputs": [
        {
          "output_type": "stream",
          "name": "stdout",
          "text": [
            "positive dr. goldberg offers everything i look for in a general practitioner.  he's nice and easy to talk to without being patronizing; he's always on time in seeing his patients; he's affiliated with a top-notch hospital (nyu) which my parents have explained to me is very important in case something happens and you need surgery; and you can get referrals to see specialists without having to see him first.  really, what more do you need?  i'm sitting here trying to think of any complaints i have about him, but i'm really drawing a blank.\n",
            "neutral Great App. But Great App  actually it's the only one so far I found stable & never break down  an app which announce everything.. Except: ?)Clock time announce. ?) Battery low announce. If these options can be added it'll be the best ever for sure\n",
            "negative This is the second battery charger I bought as a Christmas present, that came from Amazon, after one purchased before for my son. His was still working. The first charger, received in July, broke apart and wouldn't charge anymore. Just found out two days ago they discontinued it without warning. It took quite some time to find the exact replacement charger. Too bad, really liked it. One of these days, will purchase an actual Nikon product, or go back to buying batteries.\n"
          ]
        }
      ],
      "source": [
        "# Inspect data\n",
        "print(yelp_reviews['label_class'][0], yelp_reviews['text'][0])\n",
        "print(app_reviews['label_class'][150], app_reviews['text'][150])\n",
        "print(product_reviews['label_class'][100], product_reviews['text'][100])"
      ]
    },
    {
      "cell_type": "markdown",
      "metadata": {
        "id": "yzNxs5ZRR91G"
      },
      "source": [
        "## Train-val-test split"
      ]
    },
    {
      "cell_type": "code",
      "execution_count": null,
      "metadata": {
        "id": "VlUjuzD2R8wL"
      },
      "outputs": [],
      "source": [
        "from sklearn.model_selection import train_test_split\n",
        "from datasets import Dataset, DatasetDict\n",
        "\n",
        "# Function to make train, val, test split of df and convert it back HF dataset object\n",
        "def split_data(data):\n",
        "  # Data to pandas\n",
        "  df = data.to_pandas()\n",
        "\n",
        "  # Split into train and intermediate set\n",
        "  train_df, intermediate_df = train_test_split(df, test_size=0.3, random_state=42, stratify=df['label_class'])\n",
        "\n",
        "  # Split the intermediate set into validation and test sets\n",
        "  validation_df, test_df = train_test_split(intermediate_df, test_size=0.5, random_state=42, stratify=intermediate_df['label_class'])\n",
        "\n",
        "  # Convert DataFrames into Hugging Face Datasets\n",
        "  datasets = {\n",
        "      'train': Dataset.from_pandas(train_df),\n",
        "      'validation': Dataset.from_pandas(validation_df),\n",
        "      'test': Dataset.from_pandas(test_df)\n",
        "  }\n",
        "\n",
        "  # Create a single Hugging Face Dataset with splits\n",
        "  dataset = DatasetDict(datasets).flatten()\n",
        "\n",
        "  return dataset"
      ]
    },
    {
      "cell_type": "code",
      "execution_count": null,
      "metadata": {
        "colab": {
          "base_uri": "https://localhost:8080/"
        },
        "id": "rXMjzYLsd_1o",
        "outputId": "511f48c9-ff43-488f-b5ce-31e94c68ec3c"
      },
      "outputs": [
        {
          "output_type": "execute_result",
          "data": {
            "text/plain": [
              "DatasetDict({\n",
              "    train: Dataset({\n",
              "        features: ['label', 'text', 'label_class', 'label_class_num', '__index_level_0__'],\n",
              "        num_rows: 490000\n",
              "    })\n",
              "    validation: Dataset({\n",
              "        features: ['label', 'text', 'label_class', 'label_class_num', '__index_level_0__'],\n",
              "        num_rows: 105000\n",
              "    })\n",
              "    test: Dataset({\n",
              "        features: ['label', 'text', 'label_class', 'label_class_num', '__index_level_0__'],\n",
              "        num_rows: 105000\n",
              "    })\n",
              "})"
            ]
          },
          "metadata": {},
          "execution_count": 17
        }
      ],
      "source": [
        "yelp_reviews = split_data(yelp_reviews)\n",
        "yelp_reviews"
      ]
    },
    {
      "cell_type": "code",
      "execution_count": null,
      "metadata": {
        "colab": {
          "base_uri": "https://localhost:8080/"
        },
        "id": "F2FRDkUiedbT",
        "outputId": "8cf6a7b8-cbb6-4e52-c2cc-bf6f9a11d0cd"
      },
      "outputs": [
        {
          "output_type": "execute_result",
          "data": {
            "text/plain": [
              "DatasetDict({\n",
              "    train: Dataset({\n",
              "        features: ['package_name', 'text', 'date', 'label', 'label_class', 'label_class_num', '__index_level_0__'],\n",
              "        num_rows: 201645\n",
              "    })\n",
              "    validation: Dataset({\n",
              "        features: ['package_name', 'text', 'date', 'label', 'label_class', 'label_class_num', '__index_level_0__'],\n",
              "        num_rows: 43210\n",
              "    })\n",
              "    test: Dataset({\n",
              "        features: ['package_name', 'text', 'date', 'label', 'label_class', 'label_class_num', '__index_level_0__'],\n",
              "        num_rows: 43210\n",
              "    })\n",
              "})"
            ]
          },
          "metadata": {},
          "execution_count": 18
        }
      ],
      "source": [
        "app_reviews = split_data(app_reviews)\n",
        "app_reviews"
      ]
    },
    {
      "cell_type": "code",
      "execution_count": null,
      "metadata": {
        "colab": {
          "base_uri": "https://localhost:8080/"
        },
        "id": "E4dF3RvkeiT1",
        "outputId": "6b9f83a3-92ed-4032-b859-0c9e63578eec"
      },
      "outputs": [
        {
          "output_type": "execute_result",
          "data": {
            "text/plain": [
              "DatasetDict({\n",
              "    train: Dataset({\n",
              "        features: ['text', 'label', 'correct', 'label_class', 'label_class_num', '__index_level_0__'],\n",
              "        num_rows: 122171\n",
              "    })\n",
              "    validation: Dataset({\n",
              "        features: ['text', 'label', 'correct', 'label_class', 'label_class_num', '__index_level_0__'],\n",
              "        num_rows: 26179\n",
              "    })\n",
              "    test: Dataset({\n",
              "        features: ['text', 'label', 'correct', 'label_class', 'label_class_num', '__index_level_0__'],\n",
              "        num_rows: 26180\n",
              "    })\n",
              "})"
            ]
          },
          "metadata": {},
          "execution_count": 19
        }
      ],
      "source": [
        "product_reviews = split_data(product_reviews)\n",
        "product_reviews"
      ]
    },
    {
      "cell_type": "markdown",
      "metadata": {
        "id": "WOyRXmHMetVW"
      },
      "source": [
        "## Force class balance train sets"
      ]
    },
    {
      "cell_type": "markdown",
      "metadata": {
        "id": "I37O8Kh7g9Jn"
      },
      "source": [
        "### Yelp reviews"
      ]
    },
    {
      "cell_type": "code",
      "execution_count": null,
      "metadata": {
        "colab": {
          "base_uri": "https://localhost:8080/",
          "height": 541
        },
        "id": "vp-zPu4leruV",
        "outputId": "31a67e7e-e3df-417f-cb47-a4f79d11730a"
      },
      "outputs": [
        {
          "output_type": "display_data",
          "data": {
            "text/plain": [
              "<Figure size 640x480 with 1 Axes>"
            ],
            "image/png": "[encoded data removed]"
          },
          "metadata": {}
        },
        {
          "output_type": "stream",
          "name": "stdout",
          "text": [
            "label_class\n",
            "neutral      98000\n",
            "positive    196000\n",
            "negative    196000\n",
            "Name: count, dtype: int64\n"
          ]
        }
      ],
      "source": [
        "df_yelp_train = yelp_reviews['train'].to_pandas()\n",
        "df_yelp_train['label_class'].value_counts(ascending=True).plot.barh()\n",
        "plt.title('Frequency of Classes (Yelp Reviews)')\n",
        "plt.show()\n",
        "\n",
        "counts = df_yelp_train['label_class'].value_counts(ascending=True)\n",
        "print(counts)"
      ]
    },
    {
      "cell_type": "code",
      "execution_count": null,
      "metadata": {
        "id": "OKxHiiuff7u4"
      },
      "outputs": [],
      "source": [
        "from sklearn.utils import resample\n",
        "\n",
        "# Funtion to undersample classes to min observations minority class\n",
        "def undersample_classes(df):\n",
        "  # Get the counts for each class\n",
        "  counts = df['label_class'].value_counts()\n",
        "\n",
        "  # Find the class with the least samples\n",
        "  min_class_count = counts.min()\n",
        "\n",
        "  # Create a list containing dataframes for each class\n",
        "  dfs = [df[df['label_class'] == label] for label in counts.index]\n",
        "\n",
        "  # Undersample each dataframe in the list to have min_class_count examples\n",
        "  dfs_undersampled = [resample(df, replace=False, n_samples=min_class_count, random_state=42) for df in dfs]\n",
        "\n",
        "  # Combine undersampled dataframes\n",
        "  df_balanced = pd.concat(dfs_undersampled)\n",
        "\n",
        "  # Shuffle for good measure\n",
        "  df_balanced = df_balanced.sample(frac=1).reset_index(drop=True)\n",
        "\n",
        "  return df_balanced"
      ]
    },
    {
      "cell_type": "code",
      "execution_count": null,
      "metadata": {
        "id": "Z6dxksFegA34"
      },
      "outputs": [],
      "source": [
        "df_yelp_train_bal = undersample_classes(df_yelp_train)"
      ]
    },
    {
      "cell_type": "code",
      "execution_count": null,
      "metadata": {
        "colab": {
          "base_uri": "https://localhost:8080/"
        },
        "id": "RsB92dK6gJ_N",
        "outputId": "90de9f53-3171-4d19-9fdd-231259634eee"
      },
      "outputs": [
        {
          "output_type": "stream",
          "name": "stdout",
          "text": [
            "label_class\n",
            "negative    98000\n",
            "neutral     98000\n",
            "positive    98000\n",
            "Name: count, dtype: int64\n"
          ]
        }
      ],
      "source": [
        "counts = df_yelp_train_bal['label_class'].value_counts(ascending=True)\n",
        "print(counts)"
      ]
    },
    {
      "cell_type": "markdown",
      "metadata": {
        "id": "Ku-ntCrphA_t"
      },
      "source": [
        "### App reviews"
      ]
    },
    {
      "cell_type": "code",
      "execution_count": null,
      "metadata": {
        "colab": {
          "base_uri": "https://localhost:8080/",
          "height": 541
        },
        "id": "Sn6no1lKhFJB",
        "outputId": "bda53451-0f69-48d8-a7dc-79419e86deca"
      },
      "outputs": [
        {
          "output_type": "display_data",
          "data": {
            "text/plain": [
              "<Figure size 640x480 with 1 Axes>"
            ],
            "image/png": "[encoded data removed]"
          },
          "metadata": {}
        },
        {
          "output_type": "stream",
          "name": "stdout",
          "text": [
            "label_class\n",
            "neutral      16237\n",
            "negative     37274\n",
            "positive    148134\n",
            "Name: count, dtype: int64\n"
          ]
        }
      ],
      "source": [
        "df_app_train = app_reviews['train'].to_pandas()\n",
        "df_app_train['label_class'].value_counts(ascending=True).plot.barh()\n",
        "plt.title('Frequency of Classes (App Reviews)')\n",
        "plt.show()\n",
        "\n",
        "counts = df_app_train['label_class'].value_counts(ascending=True)\n",
        "print(counts)"
      ]
    },
    {
      "cell_type": "code",
      "execution_count": null,
      "metadata": {
        "id": "5qjUjsfRhY8f"
      },
      "outputs": [],
      "source": [
        "df_app_train_bal = undersample_classes(df_app_train)"
      ]
    },
    {
      "cell_type": "code",
      "execution_count": null,
      "metadata": {
        "colab": {
          "base_uri": "https://localhost:8080/"
        },
        "id": "Rh5ZcZnlhfrN",
        "outputId": "d860b3d8-69f8-457b-c154-3b7e410e987d"
      },
      "outputs": [
        {
          "output_type": "stream",
          "name": "stdout",
          "text": [
            "label_class\n",
            "negative    16237\n",
            "positive    16237\n",
            "neutral     16237\n",
            "Name: count, dtype: int64\n"
          ]
        }
      ],
      "source": [
        "counts = df_app_train_bal['label_class'].value_counts(ascending=True)\n",
        "print(counts)"
      ]
    },
    {
      "cell_type": "markdown",
      "metadata": {
        "id": "w0tiE1HLhCXM"
      },
      "source": [
        "### Product reviews"
      ]
    },
    {
      "cell_type": "code",
      "execution_count": null,
      "metadata": {
        "colab": {
          "base_uri": "https://localhost:8080/",
          "height": 541
        },
        "id": "xdqCn5MWhMBV",
        "outputId": "27bee056-299a-4f09-9e2c-bdd418222478"
      },
      "outputs": [
        {
          "output_type": "display_data",
          "data": {
            "text/plain": [
              "<Figure size 640x480 with 1 Axes>"
            ],
            "image/png": "[encoded data removed]"
          },
          "metadata": {}
        },
        {
          "output_type": "stream",
          "name": "stdout",
          "text": [
            "label_class\n",
            "neutral     19626\n",
            "positive    39376\n",
            "negative    63169\n",
            "Name: count, dtype: int64\n"
          ]
        }
      ],
      "source": [
        "df_product_train = product_reviews['train'].to_pandas()\n",
        "df_product_train['label_class'].value_counts(ascending=True).plot.barh()\n",
        "plt.title('Frequency of Classes (Product Reviews)')\n",
        "plt.show()\n",
        "\n",
        "counts = df_product_train['label_class'].value_counts(ascending=True)\n",
        "print(counts)"
      ]
    },
    {
      "cell_type": "code",
      "execution_count": null,
      "metadata": {
        "id": "JrXyqNTUhbyU"
      },
      "outputs": [],
      "source": [
        "df_product_train_bal = undersample_classes(df_product_train)"
      ]
    },
    {
      "cell_type": "code",
      "execution_count": null,
      "metadata": {
        "colab": {
          "base_uri": "https://localhost:8080/"
        },
        "id": "KJzMAjrvhkRt",
        "outputId": "d6f23639-b9af-45b0-cf21-ae5882032621"
      },
      "outputs": [
        {
          "output_type": "stream",
          "name": "stdout",
          "text": [
            "label_class\n",
            "positive    19626\n",
            "neutral     19626\n",
            "negative    19626\n",
            "Name: count, dtype: int64\n"
          ]
        }
      ],
      "source": [
        "counts = df_product_train_bal['label_class'].value_counts(ascending=True)\n",
        "print(counts)"
      ]
    },
    {
      "cell_type": "markdown",
      "metadata": {
        "id": "8vSoGfccgiUl"
      },
      "source": [
        "## Equal training set sizes"
      ]
    },
    {
      "cell_type": "code",
      "execution_count": null,
      "metadata": {
        "id": "m189Nq-lgR80"
      },
      "outputs": [],
      "source": [
        "# Function to make sure all training sets have an equal number of observations\n",
        "def sample_dfs(df1, df2, df3):\n",
        "  min_rows = ((min(df1.shape[0], df2.shape[0], df3.shape[0])) / 3) -1 # Determine the minimum number of rows / 3 classes (-1 to round down)\n",
        "  min_rows = int(round(min_rows, 0))\n",
        "\n",
        "  df1_sampled = df1.groupby('label_class').apply(lambda x: x.sample(n=min_rows, random_state=42))\n",
        "  df2_sampled = df2.groupby('label_class').apply(lambda x: x.sample(n=min_rows, random_state=42))\n",
        "  df3_sampled = df3.groupby('label_class').apply(lambda x: x.sample(n=min_rows, random_state=42))\n",
        "\n",
        "  return df1_sampled, df2_sampled, df3_sampled"
      ]
    },
    {
      "cell_type": "code",
      "execution_count": null,
      "metadata": {
        "id": "slqvhS62hnge"
      },
      "outputs": [],
      "source": [
        "df_yelp_train_bal_sampled, df_app_train_bal_sampled, df_product_train_bal_sampled = sample_dfs(df_yelp_train_bal, df_app_train_bal, df_product_train_bal)"
      ]
    },
    {
      "cell_type": "code",
      "execution_count": null,
      "metadata": {
        "colab": {
          "base_uri": "https://localhost:8080/"
        },
        "id": "D1_9kJ2ah2v_",
        "outputId": "30e54691-8457-4c96-d5be-53eb2bed668d"
      },
      "outputs": [
        {
          "output_type": "stream",
          "name": "stdout",
          "text": [
            "Yelp train:\n",
            "label_class\n",
            "negative    16236\n",
            "neutral     16236\n",
            "positive    16236\n",
            "Name: count, dtype: int64\n"
          ]
        }
      ],
      "source": [
        "counts = df_yelp_train_bal_sampled['label_class'].value_counts(ascending=True)\n",
        "print('Yelp train:')\n",
        "print(counts)"
      ]
    },
    {
      "cell_type": "code",
      "execution_count": null,
      "metadata": {
        "colab": {
          "base_uri": "https://localhost:8080/"
        },
        "id": "jO_kcoWMh932",
        "outputId": "f9139f8c-95d8-4b18-ed2b-dda9ced064e4"
      },
      "outputs": [
        {
          "output_type": "stream",
          "name": "stdout",
          "text": [
            "App train:\n",
            "label_class\n",
            "negative    16236\n",
            "neutral     16236\n",
            "positive    16236\n",
            "Name: count, dtype: int64\n"
          ]
        }
      ],
      "source": [
        "counts = df_app_train_bal_sampled['label_class'].value_counts(ascending=True)\n",
        "print('App train:')\n",
        "print(counts)"
      ]
    },
    {
      "cell_type": "code",
      "execution_count": null,
      "metadata": {
        "colab": {
          "base_uri": "https://localhost:8080/"
        },
        "id": "VoKbgPYUiA0V",
        "outputId": "d92285ec-e3d6-4c00-d945-9753ee3c9ae5"
      },
      "outputs": [
        {
          "output_type": "stream",
          "name": "stdout",
          "text": [
            "Product train:\n",
            "label_class\n",
            "negative    16236\n",
            "neutral     16236\n",
            "positive    16236\n",
            "Name: count, dtype: int64\n"
          ]
        }
      ],
      "source": [
        "counts = df_product_train_bal_sampled['label_class'].value_counts(ascending=True)\n",
        "print('Product train:')\n",
        "print(counts)"
      ]
    },
    {
      "cell_type": "markdown",
      "metadata": {
        "id": "1wjo0qhdiF7q"
      },
      "source": [
        "## Replace balanced and sampled training data"
      ]
    },
    {
      "cell_type": "code",
      "execution_count": null,
      "metadata": {
        "id": "2YS2f2jWiFms"
      },
      "outputs": [],
      "source": [
        "# Replace new training set\n",
        "def replace_train(dataset, df_train):\n",
        "  new_train_dataset = Dataset.from_pandas(df_train[['text', 'label', 'label_class', 'label_class_num']])\n",
        "  dataset['train'] = new_train_dataset\n",
        "  return dataset"
      ]
    },
    {
      "cell_type": "code",
      "execution_count": null,
      "metadata": {
        "id": "Ovetj_YmoC8l"
      },
      "outputs": [],
      "source": [
        "yelp_reviews_final = replace_train(yelp_reviews, df_yelp_train_bal_sampled)\n",
        "app_reviews_final = replace_train(app_reviews, df_app_train_bal_sampled)\n",
        "product_reviews_final = replace_train(product_reviews, df_product_train_bal_sampled)"
      ]
    },
    {
      "cell_type": "code",
      "execution_count": null,
      "metadata": {
        "colab": {
          "base_uri": "https://localhost:8080/"
        },
        "id": "GM2MNr2FqM2w",
        "outputId": "3fcc4c4f-4120-4446-fe41-000fb0624ec4"
      },
      "outputs": [
        {
          "output_type": "stream",
          "name": "stdout",
          "text": [
            "Best steak ever. Lovely bottle of wine (under $50) and fantastic service. Overall, great romantic date place.\n",
            "4\n",
            "positive\n"
          ]
        }
      ],
      "source": [
        "# Inspect data to check if text and labels still match\n",
        "print(yelp_reviews_final['train']['text'][48000])\n",
        "print(yelp_reviews_final['train']['label'][48000])\n",
        "print(yelp_reviews_final['train']['label_class'][48000])"
      ]
    },
    {
      "cell_type": "code",
      "execution_count": null,
      "metadata": {
        "colab": {
          "base_uri": "https://localhost:8080/"
        },
        "id": "BhRvQcu5qcf6",
        "outputId": "847a8fb6-f5e8-422c-f19c-8b2da8e4adb0"
      },
      "outputs": [
        {
          "output_type": "stream",
          "name": "stdout",
          "text": [
            "5 Star if a can send text to search box of Exodus\n",
            "3\n",
            "neutral\n"
          ]
        }
      ],
      "source": [
        "# Inspect data to check if text and labels still match\n",
        "print(app_reviews_final['train']['text'][21000])\n",
        "print(app_reviews_final['train']['label'][21000])\n",
        "print(app_reviews_final['train']['label_class'][21000])"
      ]
    },
    {
      "cell_type": "code",
      "execution_count": null,
      "metadata": {
        "colab": {
          "base_uri": "https://localhost:8080/"
        },
        "id": "MEpFdJGAqdWK",
        "outputId": "44da3e0e-9de7-4424-ece1-7ff5154569ea"
      },
      "outputs": [
        {
          "output_type": "stream",
          "name": "stdout",
          "text": [
            "This company is a rip off. You can get it at almost any store for $2. Don't waste your money on their overpriced stuff. I'm shocked that the government has approved selling this in stores. Maybe it's better than some other products because its less toxic. Whatever you make of it, go and pick up some hydrogen peroxide. It'll kill all bugs within an hour...as long as the larvae are inside you.\n",
            "1\n",
            "negative\n"
          ]
        }
      ],
      "source": [
        "# Inspect data to check if text and labels still match\n",
        "print(product_reviews_final['train']['text'][20])\n",
        "print(product_reviews_final['train']['label'][20])\n",
        "print(product_reviews_final['train']['label_class'][20])"
      ]
    },
    {
      "cell_type": "markdown",
      "metadata": {
        "id": "tEWRn-a_eWgO"
      },
      "source": [
        "## Undersample datasets (keep original class balance)"
      ]
    },
    {
      "cell_type": "code",
      "execution_count": null,
      "metadata": {
        "id": "d7KwrJysea94"
      },
      "outputs": [],
      "source": [
        "def undersample_data(dataset, set, samples):\n",
        "  df = dataset[set].to_pandas()\n",
        "\n",
        "  # Undersample test_set to n_samples, stratify=True\n",
        "  df_undersampled = resample(df, replace=False, n_samples=samples, stratify=df, random_state=42)\n",
        "\n",
        "  # Store new test dataset\n",
        "  new_dataset = Dataset.from_pandas(df_undersampled[['text', 'label', 'label_class', 'label_class_num']])\n",
        "  dataset[set] = new_dataset\n",
        "\n",
        "  return dataset"
      ]
    },
    {
      "cell_type": "code",
      "execution_count": null,
      "metadata": {
        "id": "CAc3RS6f3p7n"
      },
      "outputs": [],
      "source": [
        "# Undersample train\n",
        "yelp_reviews_final = undersample_data(yelp_reviews_final, 'train', 30000)\n",
        "app_reviews_final = undersample_data(app_reviews_final, 'train', 30000)\n",
        "product_reviews_final = undersample_data(product_reviews_final, 'train', 30000)"
      ]
    },
    {
      "cell_type": "code",
      "execution_count": null,
      "metadata": {
        "id": "SbBmU3x6kgt7"
      },
      "outputs": [],
      "source": [
        "# Undersample test\n",
        "yelp_reviews_final = undersample_data(yelp_reviews_final, 'test', 10000)\n",
        "app_reviews_final = undersample_data(app_reviews_final, 'test', 10000)\n",
        "product_reviews_final = undersample_data(product_reviews_final, 'test', 10000)"
      ]
    },
    {
      "cell_type": "code",
      "execution_count": null,
      "metadata": {
        "id": "01hrCWjz3hTK"
      },
      "outputs": [],
      "source": [
        "# Undersample val\n",
        "yelp_reviews_final = undersample_data(yelp_reviews_final, 'validation', 10000)\n",
        "app_reviews_final = undersample_data(app_reviews_final, 'validation', 10000)\n",
        "product_reviews_final = undersample_data(product_reviews_final, 'validation', 10000)"
      ]
    },
    {
      "cell_type": "markdown",
      "metadata": {
        "id": "tYlBuJduU3MK"
      },
      "source": [
        "## Drop and rename needed columns"
      ]
    },
    {
      "cell_type": "code",
      "execution_count": null,
      "metadata": {
        "id": "sVBo8xSy4VGd"
      },
      "outputs": [],
      "source": [
        "# Keep necessary columns\n",
        "columns_to_keep = ['text', 'label_class', 'label_class_num']\n",
        "\n",
        "def drop_and_rename_cols(dataset):\n",
        "  # Drop\n",
        "  dataset['train']  = dataset['train'].remove_columns([col for col in dataset['train'].column_names if col not in columns_to_keep])\n",
        "  dataset['validation']  = dataset['validation'].remove_columns([col for col in dataset['validation'].column_names if col not in columns_to_keep])\n",
        "  dataset['test']  = dataset['test'].remove_columns([col for col in dataset['test'].column_names if col not in columns_to_keep])\n",
        "\n",
        "  # Rename\n",
        "  dataset = dataset.rename_column(\"label_class_num\", \"label\")\n",
        "  dataset = dataset.rename_column(\"label_class\", \"label_text\")\n",
        "\n",
        "  return dataset"
      ]
    },
    {
      "cell_type": "code",
      "execution_count": null,
      "metadata": {
        "id": "rHcV-quZU7zC"
      },
      "outputs": [],
      "source": [
        "yelp_reviews_final = drop_and_rename_cols(yelp_reviews_final)\n",
        "app_reviews_final = drop_and_rename_cols(app_reviews_final)\n",
        "product_reviews_final = drop_and_rename_cols(product_reviews_final)"
      ]
    },
    {
      "cell_type": "code",
      "execution_count": null,
      "metadata": {
        "colab": {
          "base_uri": "https://localhost:8080/"
        },
        "id": "VGommpt_q_XO",
        "outputId": "a125f610-4675-4e00-a779-a660e0ef9e42"
      },
      "outputs": [
        {
          "output_type": "execute_result",
          "data": {
            "text/plain": [
              "DatasetDict({\n",
              "    train: Dataset({\n",
              "        features: ['text', 'label_text', 'label'],\n",
              "        num_rows: 30000\n",
              "    })\n",
              "    validation: Dataset({\n",
              "        features: ['text', 'label_text', 'label'],\n",
              "        num_rows: 10000\n",
              "    })\n",
              "    test: Dataset({\n",
              "        features: ['text', 'label_text', 'label'],\n",
              "        num_rows: 10000\n",
              "    })\n",
              "})"
            ]
          },
          "metadata": {},
          "execution_count": 46
        }
      ],
      "source": [
        "# Check final dataset\n",
        "yelp_reviews_final"
      ]
    },
    {
      "cell_type": "code",
      "execution_count": null,
      "metadata": {
        "colab": {
          "base_uri": "https://localhost:8080/"
        },
        "id": "LSEVIjqxrA23",
        "outputId": "c3824ffb-ab98-48df-e0d6-685264713e63"
      },
      "outputs": [
        {
          "output_type": "execute_result",
          "data": {
            "text/plain": [
              "DatasetDict({\n",
              "    train: Dataset({\n",
              "        features: ['text', 'label_text', 'label'],\n",
              "        num_rows: 30000\n",
              "    })\n",
              "    validation: Dataset({\n",
              "        features: ['text', 'label_text', 'label'],\n",
              "        num_rows: 10000\n",
              "    })\n",
              "    test: Dataset({\n",
              "        features: ['text', 'label_text', 'label'],\n",
              "        num_rows: 10000\n",
              "    })\n",
              "})"
            ]
          },
          "metadata": {},
          "execution_count": 47
        }
      ],
      "source": [
        "# Check final dataset\n",
        "app_reviews_final"
      ]
    },
    {
      "cell_type": "code",
      "execution_count": null,
      "metadata": {
        "colab": {
          "base_uri": "https://localhost:8080/"
        },
        "id": "sL9XLOm8rCYR",
        "outputId": "04405261-e97a-475e-f01f-0f14a361d0f0"
      },
      "outputs": [
        {
          "output_type": "execute_result",
          "data": {
            "text/plain": [
              "DatasetDict({\n",
              "    train: Dataset({\n",
              "        features: ['text', 'label_text', 'label'],\n",
              "        num_rows: 30000\n",
              "    })\n",
              "    validation: Dataset({\n",
              "        features: ['text', 'label_text', 'label'],\n",
              "        num_rows: 10000\n",
              "    })\n",
              "    test: Dataset({\n",
              "        features: ['text', 'label_text', 'label'],\n",
              "        num_rows: 10000\n",
              "    })\n",
              "})"
            ]
          },
          "metadata": {},
          "execution_count": 48
        }
      ],
      "source": [
        "# Check final dataset\n",
        "product_reviews_final"
      ]
    },
    {
      "cell_type": "markdown",
      "metadata": {
        "id": "pFbxSSZ5t5Do"
      },
      "source": [
        "# Zero-Shot"
      ]
    },
    {
      "cell_type": "markdown",
      "metadata": {
        "id": "2xxnrilfuot9"
      },
      "source": [
        "## Yelp reviews prediction"
      ]
    },
    {
      "cell_type": "code",
      "execution_count": null,
      "metadata": {
        "colab": {
          "base_uri": "https://localhost:8080/"
        },
        "id": "Lj2SQY7IuCK6",
        "outputId": "a17d118f-cc29-4e91-d2a9-c0c414692bb0"
      },
      "outputs": [
        {
          "output_type": "stream",
          "name": "stdout",
          "text": [
            "['I\\'ve only been here once, but thought I\\'d share after reading some other reviews. \\\\n\\\\nFirst off, this is NOT TexMex. I\\'m not sure what I would classify it as, maybe AmeriMex, but definitely NOT TexMex. \\\\n\\\\nNow that I have that out of the way, I\\'ll say that I like El Cancun. \\\\n\\\\nI do not like this El Cancun. \\\\n\\\\nWhile it looks decent on the outside and the inside, the food and service were simply terrible. Chicken was very watered down, the salsa was flavorless, and the service make a fast food chain look really good. Just a poor, poor experience at this location overall. If this was the only El Cancun in Charlotte, I would feel the same way many posters do and just never come back. \\\\n\\\\nLuckily for me, I live in Rock Hill. There\\'s an El Cancun here. And it\\'s pretty awesome. I won\\'t give it a full on review because this isn\\'t really the place for it, but suffice it to say that if you\\'re in RH and you see the El Cancun and you go \\\\\"ugh, no way that place is terrible\\\\\" don\\'t put your experience with the really shitty location on to the one in Rock Hill and give the other one a chance.', \"A restaurant warm with wood heavy decor with a very simple menu and reasonable BYOB rates, Noodlehead is winner. With outdoor seating to soak up the (sometimes) beautiful Pittsburgh weather and a great selection of Thai inspired noodle dishes, it's hard not to have a good time. Give the Pork Belly Steamed Buns a try, a warm soft bun with pulled pork and sweet cucumber slices, they are a treat.\\\\nNick Smarto\\\\nNick Smarto\", 'Keep in mind it is May 2013 and I have been to Maya twice (only been open for just over a week): opening night and first major pool party (Calvin Harris).  A lot of other reviews have focused on the vibe but I will focus a bit more on the logistics (and discuss vibe at the end).\\\\n\\\\nBasics: Maya is possibly the largest club in Scottsdale with a very large outdoor pool area and a medium-sized indoor area (where the main dancefloor is located).  It is possible to peer inside the club from the outside by peaking in through the cracks of the wooden planks in the wall near the pool area.\\\\n\\\\nDress Code: this is hard to figure out because Maya is a place to party both during the day and at night.  Opening night I (as a guy) walked in by myself relatively early (beat the long line that occurred an hour or two later) wearing regular shoes, jeans (that I usually wear for going to clubs), and a v-neck.  This is typically more than enough to get in to any club in Scottsdale except perhaps for the Mint or the W.  I was told by the bouncer at the door \\\\\"we\\'ll let you in this time with a v-neck but next time you\\'ll have to wear a collared shirt)\\\\\".  Keep in mind this was late April (already 85-90 degrees out at night).\\\\nTherein lies problem #1: the way their indoor club area was set up at night was with all the large doors to the outside completely open.  In my clothes I hit the dancefloor and was almost immediately experiencing a decent amount of sweating.  Once it hits June they are either going to have to close the large doors that lead from the dancefloor to the pool area (to keep the heat out and AC in) or no one, especially guys, is going to be able to dance with that dress code.it will be interesting to see how they handle this... either by letting in people with shorts or?\\\\n\\\\nDuring the day the dress code is obviously relaxed since day parties are focused around the pool area.  I suppose at some point during the early evening they probably tell guys in bathing suits that they need to change or leave.\\\\n\\\\nPool: the pool is possibly the largest for a club in Scottsdale.  I haven\\'t been to the W\\'s pool in a while but Maya\\'s seemed larger.  It\\'s definitely a great area to part, especially when the DJ is right out there, but there are still some significant issues that I have with the pool setup and they are as follows:\\\\n1.) The pool only seems to have one real depth (about waist high for the average guy).  If a DJ is playing out there then that depth of water is too deep to naturally dance in the water.  It would be nice if there were a slightly shallower area somewhere (especially close to the DJ area).  This leads to #2...\\\\n2.) The best area for dancing is a small \\\\\"island\\\\\" (there is a small walkway to the area outside the pool) in the center BUT during large pool parties they rent the area out as a cabana area for the day.  Even if you have a cabana there it will be difficult to dance because your table, seats, and umbrella are all in that area and it will be packed with people.\\\\n3.) The more people that are in the pool, the more urine that\\'s in it.  At Calvin Harris I could hardly see the bottom.  It\\'d be interesting to see how much filtering this pool has per cubic foot of water vs. a regular swimming pool.  If you\\'re going to spend time in the pool you should probably do it earlier in the day.\\\\n4.) Only other real area to dance is right up near the DJ booth and while this area is good, it certainly got packed during Cavin Harris and there doesn\\'t seem to be much good drainage for the water.  Dancing in a small layer of water will rip your feet up pretty quickly.  All the other area that you can walk and dance are really too far away from the main speaker system and DJ booth to really accumulate a bunch of dancers.\\\\n\\\\nService: I\\'ve had no issues with the service thus far.  Both times I\\'ve went to Maya there have been literally thousands of people but there are several different bar areas.  I can\\'t comment on the VIP or cabana areas because I typically don\\'t spend much time there... even when my group goes big I spend most of the time near the dancefloor (ie away from VIP area and cabanas).\\\\n\\\\nPrice: drink prices are a bit inflated but I used to live in LA so I\\'m \\'used to it.  Their PR people showed off a bottle of champaigne on their menu that cost over $100k on their Facebook which gives you an idea of what sort of reputation their aiming for.  I suppose I\\'ll be a bit more impressed when I see it listed on a receipt rather than a menu.  Calvin Harris cost $100 at the door if you were even able to get a ticket but then again it was Maya\\'s first big pool party.  Opening night didn\\'t cost me anything but I think they were specifically trying to get as many people in that time around.  Morgan Page is a few days away and tix are already sold out at $50.  \\\\n\\\\n*With the biggest pool party area in Scottsdale and an excellent location, Maya will likely be the place to go for pool parties.  At night, though, the jury is still out.*']\n"
          ]
        }
      ],
      "source": [
        "# Test inputs\n",
        "test_set = yelp_reviews_final['test']['text'][50:53]\n",
        "print(test_set)"
      ]
    },
    {
      "cell_type": "code",
      "execution_count": null,
      "metadata": {
        "colab": {
          "base_uri": "https://localhost:8080/"
        },
        "id": "dgNDmsgszqqx",
        "outputId": "2be67779-cbc4-4ba7-8dec-b2d65727f282"
      },
      "outputs": [
        {
          "output_type": "stream",
          "name": "stdout",
          "text": [
            "['negative', 'positive', 'neutral']\n"
          ]
        }
      ],
      "source": [
        "test_set_answ = yelp_reviews_final['test']['label_text'][50:53]\n",
        "print(test_set_answ)"
      ]
    },
    {
      "cell_type": "code",
      "execution_count": null,
      "metadata": {
        "colab": {
          "base_uri": "https://localhost:8080/"
        },
        "id": "ZggroPhX5wlb",
        "outputId": "b987b62c-2dfd-46f6-821a-0054de1ae3d5"
      },
      "outputs": [
        {
          "output_type": "stream",
          "name": "stderr",
          "text": [
            "The `xla_device` argument has been deprecated in v4.4.0 of Transformers. It is ignored and you can safely remove it from your `config.json` file.\n",
            "The `xla_device` argument has been deprecated in v4.4.0 of Transformers. It is ignored and you can safely remove it from your `config.json` file.\n",
            "The `xla_device` argument has been deprecated in v4.4.0 of Transformers. It is ignored and you can safely remove it from your `config.json` file.\n",
            "The `xla_device` argument has been deprecated in v4.4.0 of Transformers. It is ignored and you can safely remove it from your `config.json` file.\n"
          ]
        }
      ],
      "source": [
        "from transformers import pipeline, AutoTokenizer, AutoModelForSequenceClassification\n",
        "from datasets import load_dataset\n",
        "\n",
        "device = \"cuda:0\" if torch.cuda.is_available() else \"cpu\"  # Use GPU if available\n",
        "\n",
        "# Load the zero-shot classifier\n",
        "model_name = \"typeform/distilbert-base-uncased-mnli\"\n",
        "tokenizer = AutoTokenizer.from_pretrained(model_name)\n",
        "model = AutoModelForSequenceClassification.from_pretrained(model_name).to(device)\n",
        "\n",
        "# Define classifier\n",
        "classifier = pipeline(\"zero-shot-classification\",\n",
        "                      model = model,\n",
        "                      tokenizer = tokenizer,\n",
        "                      device = device)\n",
        "\n",
        "# Define candidate labels\n",
        "candidate_labels = ['negative', 'neutral', 'positive']"
      ]
    },
    {
      "cell_type": "code",
      "execution_count": null,
      "metadata": {
        "id": "sO7xDc019Zmq"
      },
      "outputs": [],
      "source": [
        "# Yelp predictions using zero-shot classifier\n",
        "predictions = classifier(yelp_reviews_final['test']['text'], candidate_labels)\n",
        "\n",
        "yelp_pred_label_text = []\n",
        "yelp_pred_label = []\n",
        "\n",
        "label_mapping = {'negative': 0, 'neutral': 1, 'positive': 2}\n",
        "\n",
        "# Retrieve highest scoring label/class\n",
        "for prediction in predictions:\n",
        "  predicted_label_text = prediction['labels'][0]   # Prediction output auto sorts highest to largest scores, so 0 index is highest scoring label\n",
        "  predicted_label = label_mapping[predicted_label_text]\n",
        "\n",
        "  # Append labels to lists\n",
        "  yelp_pred_label_text.append(predicted_label_text)\n",
        "  yelp_pred_label.append(predicted_label)"
      ]
    },
    {
      "cell_type": "code",
      "execution_count": null,
      "metadata": {
        "id": "RthmoS5Rqn-B",
        "colab": {
          "base_uri": "https://localhost:8080/"
        },
        "outputId": "b3d4d734-4311-4a4b-a5f1-06c825e327d0"
      },
      "outputs": [
        {
          "output_type": "stream",
          "name": "stdout",
          "text": [
            "Drive already mounted at /content/drive; to attempt to forcibly remount, call drive.mount(\"/content/drive\", force_remount=True).\n"
          ]
        }
      ],
      "source": [
        "import csv\n",
        "from google.colab import drive\n",
        "\n",
        "# Save predictions to Google Drive\n",
        "drive.mount('/content/drive')\n",
        "\n",
        "# Save predictions to the CSV file\n",
        "with open('/content/drive/My Drive/yelp_zero_shot_predictions.csv', 'w', newline='') as csvfile:\n",
        "    writer = csv.writer(csvfile)\n",
        "\n",
        "    # Header row\n",
        "    writer.writerow(['Review Text', 'Predicted Label Text', 'Predicted Label'])\n",
        "\n",
        "    # Data rows\n",
        "    for i in range(len(yelp_reviews_final['test']['text'])):\n",
        "        writer.writerow([yelp_reviews_final['test']['text'][i],\n",
        "                         yelp_pred_label_text[i],\n",
        "                         yelp_pred_label[i]])"
      ]
    },
    {
      "cell_type": "code",
      "execution_count": null,
      "metadata": {
        "id": "samyOF5091wT",
        "colab": {
          "base_uri": "https://localhost:8080/"
        },
        "outputId": "702dd7ab-d06d-43e5-a99b-6c6abbaf06d0"
      },
      "outputs": [
        {
          "output_type": "stream",
          "name": "stdout",
          "text": [
            "              precision    recall  f1-score   support\n",
            "\n",
            "           0       0.74      0.54      0.63      4083\n",
            "           1       0.23      0.25      0.24      1989\n",
            "           2       0.61      0.76      0.68      3928\n",
            "\n",
            "    accuracy                           0.57     10000\n",
            "   macro avg       0.53      0.52      0.52     10000\n",
            "weighted avg       0.59      0.57      0.57     10000\n",
            "\n"
          ]
        }
      ],
      "source": [
        "# Score zero-shot\n",
        "from sklearn.metrics import classification_report\n",
        "\n",
        "y_true = yelp_reviews_final['test']['label']\n",
        "\n",
        "df_pred = pd.read_csv('/content/drive/My Drive/yelp_zero_shot_predictions.csv')  # Retrieve predictions from csv\n",
        "y_pred = df_pred['Predicted Label']\n",
        "\n",
        "print(classification_report(y_true, y_pred))"
      ]
    },
    {
      "cell_type": "markdown",
      "metadata": {
        "id": "3uTm3r1huYQm"
      },
      "source": [
        "## App reviews prediction"
      ]
    },
    {
      "cell_type": "code",
      "execution_count": null,
      "metadata": {
        "id": "8o6BoxpWuYdK"
      },
      "outputs": [],
      "source": [
        "# App predictions using zero-shot classifier\n",
        "predictions = classifier(app_reviews_final['test']['text'], candidate_labels)\n",
        "\n",
        "app_pred_label_text = []\n",
        "app_pred_label = []\n",
        "\n",
        "label_mapping = {'negative': 0, 'neutral': 1, 'positive': 2}\n",
        "\n",
        "# Retrieve highest scoring label/class\n",
        "for prediction in predictions:\n",
        "    predicted_label_text = prediction['labels'][0]   # Prediction output auto sorts highest to largest scores, so 0 index is highest scoring label\n",
        "    predicted_label = label_mapping[predicted_label_text]\n",
        "\n",
        "    # Append labels to lists\n",
        "    app_pred_label_text.append(predicted_label_text)\n",
        "    app_pred_label.append(predicted_label)\n"
      ]
    },
    {
      "cell_type": "code",
      "execution_count": null,
      "metadata": {
        "colab": {
          "base_uri": "https://localhost:8080/"
        },
        "id": "8vRi-pb1unZG",
        "outputId": "576b72b9-d8ae-4544-d2d3-06deddbff5f1"
      },
      "outputs": [
        {
          "output_type": "stream",
          "name": "stdout",
          "text": [
            "Drive already mounted at /content/drive; to attempt to forcibly remount, call drive.mount(\"/content/drive\", force_remount=True).\n"
          ]
        }
      ],
      "source": [
        "import csv\n",
        "from google.colab import drive\n",
        "\n",
        "# Save predictions to Google Drive\n",
        "drive.mount('/content/drive')\n",
        "\n",
        "# Save predictions to the CSV file\n",
        "with open('/content/drive/My Drive/app_zero_shot_predictions.csv', 'w', newline='') as csvfile:\n",
        "    writer = csv.writer(csvfile)\n",
        "\n",
        "    # Header row\n",
        "    writer.writerow(['Review Text', 'Predicted Label Text', 'Predicted Label'])\n",
        "\n",
        "    # Data rows\n",
        "    for i in range(len(app_reviews_final['test']['text'])):\n",
        "        writer.writerow([app_reviews_final['test']['text'][i],\n",
        "                         app_pred_label_text[i],\n",
        "                         app_pred_label[i]])\n"
      ]
    },
    {
      "cell_type": "code",
      "execution_count": null,
      "metadata": {
        "colab": {
          "base_uri": "https://localhost:8080/"
        },
        "id": "bVQBJcO4unQ-",
        "outputId": "826b8be4-e198-47f2-eea7-2424231b0858"
      },
      "outputs": [
        {
          "output_type": "stream",
          "name": "stdout",
          "text": [
            "              precision    recall  f1-score   support\n",
            "\n",
            "           0       0.61      0.51      0.56      1817\n",
            "           1       0.12      0.09      0.10       759\n",
            "           2       0.86      0.91      0.89      7424\n",
            "\n",
            "    accuracy                           0.78     10000\n",
            "   macro avg       0.53      0.51      0.52     10000\n",
            "weighted avg       0.76      0.78      0.77     10000\n",
            "\n"
          ]
        }
      ],
      "source": [
        "# Score zero-shot\n",
        "from sklearn.metrics import classification_report\n",
        "\n",
        "y_true = app_reviews_final['test']['label']\n",
        "\n",
        "df_pred = pd.read_csv('/content/drive/My Drive/app_zero_shot_predictions.csv')  # Retrieve predictions from csv\n",
        "y_pred = df_pred['Predicted Label']\n",
        "\n",
        "print(classification_report(y_true, y_pred))\n"
      ]
    },
    {
      "cell_type": "code",
      "execution_count": null,
      "metadata": {
        "id": "BTlIzXgcunEd"
      },
      "outputs": [],
      "source": []
    },
    {
      "cell_type": "markdown",
      "metadata": {
        "id": "DoCBImkuun4z"
      },
      "source": [
        "## Product reviews prediction"
      ]
    },
    {
      "cell_type": "code",
      "execution_count": null,
      "metadata": {
        "id": "4e0cG937uoTf"
      },
      "outputs": [],
      "source": [
        "# Product predictions using zero-shot classifier\n",
        "predictions = classifier(product_reviews_final['test']['text'], candidate_labels)\n",
        "\n",
        "product_pred_label_text = []\n",
        "product_pred_label = []\n",
        "\n",
        "label_mapping = {'negative': 0, 'neutral': 1, 'positive': 2}\n",
        "\n",
        "# Retrieve highest scoring label/class\n",
        "for prediction in predictions:\n",
        "    predicted_label_text = prediction['labels'][0]   # Prediction output auto sorts highest to largest scores, so 0 index is highest scoring label\n",
        "    predicted_label = label_mapping[predicted_label_text]\n",
        "\n",
        "    # Append labels to lists\n",
        "    product_pred_label_text.append(predicted_label_text)\n",
        "    product_pred_label.append(predicted_label)\n"
      ]
    },
    {
      "cell_type": "code",
      "execution_count": null,
      "metadata": {
        "id": "NP6Lt76avyx2",
        "colab": {
          "base_uri": "https://localhost:8080/"
        },
        "outputId": "c47bd087-0a7f-496a-9a0b-e4059dbdfb55"
      },
      "outputs": [
        {
          "output_type": "stream",
          "name": "stdout",
          "text": [
            "Drive already mounted at /content/drive; to attempt to forcibly remount, call drive.mount(\"/content/drive\", force_remount=True).\n"
          ]
        }
      ],
      "source": [
        "import csv\n",
        "from google.colab import drive\n",
        "\n",
        "# Save predictions to Google Drive\n",
        "drive.mount('/content/drive')\n",
        "\n",
        "# Save predictions to the CSV file\n",
        "with open('/content/drive/My Drive/product_zero_shot_predictions.csv', 'w', newline='') as csvfile:\n",
        "    writer = csv.writer(csvfile)\n",
        "\n",
        "    # Header row\n",
        "    writer.writerow(['Review Text', 'Predicted Label Text', 'Predicted Label'])\n",
        "\n",
        "    # Data rows\n",
        "    for i in range(len(product_reviews_final['test']['text'])):\n",
        "        writer.writerow([product_reviews_final['test']['text'][i],\n",
        "                         product_pred_label_text[i],\n",
        "                         product_pred_label[i]])\n"
      ]
    },
    {
      "cell_type": "code",
      "execution_count": null,
      "metadata": {
        "id": "WHeCRAcfvyoV",
        "colab": {
          "base_uri": "https://localhost:8080/"
        },
        "outputId": "a550879a-adc4-4124-ffec-2731a1557e41"
      },
      "outputs": [
        {
          "output_type": "stream",
          "name": "stdout",
          "text": [
            "              precision    recall  f1-score   support\n",
            "\n",
            "           0       0.80      0.58      0.67      5221\n",
            "           1       0.16      0.12      0.14      1590\n",
            "           2       0.54      0.87      0.67      3189\n",
            "\n",
            "    accuracy                           0.60     10000\n",
            "   macro avg       0.50      0.52      0.49     10000\n",
            "weighted avg       0.62      0.60      0.59     10000\n",
            "\n"
          ]
        }
      ],
      "source": [
        "# Score zero-shot\n",
        "from sklearn.metrics import classification_report\n",
        "\n",
        "y_true = product_reviews_final['test']['label']\n",
        "\n",
        "df_pred = pd.read_csv('/content/drive/My Drive/product_zero_shot_predictions.csv')  # Retrieve predictions from csv\n",
        "y_pred = df_pred['Predicted Label']\n",
        "\n",
        "print(classification_report(y_true, y_pred))\n"
      ]
    },
    {
      "cell_type": "markdown",
      "metadata": {
        "id": "3HprBUE3NocR"
      },
      "source": [
        "# Fine-tuned Yelp reviews (training)"
      ]
    },
    {
      "cell_type": "code",
      "execution_count": null,
      "metadata": {
        "id": "gXuJrB4VJsSO",
        "colab": {
          "base_uri": "https://localhost:8080/"
        },
        "outputId": "826cbcfc-6ff2-4e89-970b-bd720a89d03b"
      },
      "outputs": [
        {
          "output_type": "stream",
          "name": "stderr",
          "text": [
            "The `xla_device` argument has been deprecated in v4.4.0 of Transformers. It is ignored and you can safely remove it from your `config.json` file.\n",
            "The `xla_device` argument has been deprecated in v4.4.0 of Transformers. It is ignored and you can safely remove it from your `config.json` file.\n",
            "The `xla_device` argument has been deprecated in v4.4.0 of Transformers. It is ignored and you can safely remove it from your `config.json` file.\n",
            "The `xla_device` argument has been deprecated in v4.4.0 of Transformers. It is ignored and you can safely remove it from your `config.json` file.\n"
          ]
        }
      ],
      "source": [
        "from transformers import pipeline, AutoTokenizer, AutoModelForSequenceClassification, BertForSequenceClassification\n",
        "from datasets import load_dataset\n",
        "\n",
        "device = \"cuda:0\" if torch.cuda.is_available() else \"cpu\"\n",
        "\n",
        "# Loading model\n",
        "model_name = \"typeform/distilbert-base-uncased-mnli\"\n",
        "num_labels = 3\n",
        "model = (AutoModelForSequenceClassification\n",
        "         .from_pretrained(model_name, num_labels=3)\n",
        "         .to(device))\n",
        "tokenizer = AutoTokenizer.from_pretrained(model_name)"
      ]
    },
    {
      "cell_type": "code",
      "execution_count": null,
      "metadata": {
        "id": "MRjmsU-ESACK"
      },
      "outputs": [],
      "source": [
        "import torch.nn as nn\n",
        "\n",
        "# Adapt model for three labels\n",
        "model.classifier = nn.Linear(model.config.hidden_size, 3)"
      ]
    },
    {
      "cell_type": "code",
      "execution_count": null,
      "metadata": {
        "id": "BQK3lq_ZhH3r"
      },
      "outputs": [],
      "source": [
        "def tokenize_function(batch):\n",
        "  text = batch[\"text\"]\n",
        "  return tokenizer(text, padding='max_length', truncation=True, max_length=256)"
      ]
    },
    {
      "cell_type": "code",
      "execution_count": null,
      "metadata": {
        "id": "Nl7_ajDR-Db8",
        "colab": {
          "base_uri": "https://localhost:8080/",
          "height": 113,
          "referenced_widgets": [
            "1788b3ee35e74658819a5a106227076d",
            "d9f583e3a5c749d195ce825013d047f9",
            "3c4b5b6f92b24fc399e60a991d4c3af9",
            "bf2f3b2d5fc9432cb4a37a9bba13b8ae",
            "13ab4f1191f24f0392603bd15f11684f",
            "5f9ec544a41342a0b915840ab1eadb89",
            "b9fd6bb9fc934fcab6c68d8fc5f0e7b0",
            "cd2219b2287746a78b60e4129881e430",
            "7ca31ae67634492a858ffec5e546b480",
            "b7b86ff605ab4a9cb918cb28ce215f01",
            "4dce776badf34d2197973d56fcada26a",
            "c35a5edb07324aa88275e0cadfdbb596",
            "6fbc36b7939b45fc8650b1ef9022e84c",
            "001849248ade49debcf4fd46dd0ba3df",
            "482eee0caa2f4a28967e59a04bbfbe3c",
            "731d488d6b7a4f0c849734d6bcf3cde3",
            "1c377d077b124224bb3789a9d18f5185",
            "34db9581c2ab475b940770497bb0eb51",
            "f64d0225a1734a1b94aa5aac3665e235",
            "631de77360be48798af3cfc488a29a5e",
            "f6276a65d59742e1a331348ecc92315a",
            "b3043b07403e4154b6a71685f481c8ff",
            "84e6060e6f404184b8729cb7e1d0416a",
            "65f58d5b1cd841bd9071afbf62c26cfd",
            "6df29b277d3c496dbabf738c82e88a90",
            "851e64f152c64ff6af3af2675f58a67c",
            "112c026b71024facbc3064c3fff4e797",
            "c7cfc79ca9ad4de389a2264031408c6c",
            "071e750a52014860b9d7167d9cbd9128",
            "d8f4bb7b84364c9c90da5c036f0c9756",
            "78414a8a10e44ef28d2efec8b24f1598",
            "39bae684957a4fb7aa6c1a0a67b2ff9e",
            "5034e24f33ca41fab9dc5de28767be22"
          ]
        },
        "outputId": "c6a138c1-9189-49c9-fac7-df40ade1d19a"
      },
      "outputs": [
        {
          "output_type": "display_data",
          "data": {
            "text/plain": [
              "Map:   0%|          | 0/30000 [00:00<?, ? examples/s]"
            ],
            "application/vnd.jupyter.widget-view+json": {
              "version_major": 2,
              "version_minor": 0,
              "model_id": "1788b3ee35e74658819a5a106227076d"
            }
          },
          "metadata": {}
        },
        {
          "output_type": "display_data",
          "data": {
            "text/plain": [
              "Map:   0%|          | 0/10000 [00:00<?, ? examples/s]"
            ],
            "application/vnd.jupyter.widget-view+json": {
              "version_major": 2,
              "version_minor": 0,
              "model_id": "c35a5edb07324aa88275e0cadfdbb596"
            }
          },
          "metadata": {}
        },
        {
          "output_type": "display_data",
          "data": {
            "text/plain": [
              "Map:   0%|          | 0/10000 [00:00<?, ? examples/s]"
            ],
            "application/vnd.jupyter.widget-view+json": {
              "version_major": 2,
              "version_minor": 0,
              "model_id": "84e6060e6f404184b8729cb7e1d0416a"
            }
          },
          "metadata": {}
        }
      ],
      "source": [
        "yelp_reviews_final_encoded = yelp_reviews_final.map(tokenize_function, batched=True, batch_size=64)"
      ]
    },
    {
      "cell_type": "code",
      "execution_count": null,
      "metadata": {
        "id": "CsYY2v1p-KBI",
        "colab": {
          "base_uri": "https://localhost:8080/"
        },
        "outputId": "9320ad8d-838c-4f9d-e21e-e27e1fb57f8e"
      },
      "outputs": [
        {
          "output_type": "execute_result",
          "data": {
            "text/plain": [
              "DatasetDict({\n",
              "    train: Dataset({\n",
              "        features: ['text', 'label_text', 'label', 'input_ids', 'attention_mask'],\n",
              "        num_rows: 30000\n",
              "    })\n",
              "    validation: Dataset({\n",
              "        features: ['text', 'label_text', 'label', 'input_ids', 'attention_mask'],\n",
              "        num_rows: 10000\n",
              "    })\n",
              "    test: Dataset({\n",
              "        features: ['text', 'label_text', 'label', 'input_ids', 'attention_mask'],\n",
              "        num_rows: 10000\n",
              "    })\n",
              "})"
            ]
          },
          "metadata": {},
          "execution_count": 65
        }
      ],
      "source": [
        "yelp_reviews_final_encoded"
      ]
    },
    {
      "cell_type": "code",
      "execution_count": null,
      "metadata": {
        "id": "QkZ0Oq2zgNDk"
      },
      "outputs": [],
      "source": [
        "from sklearn.metrics import f1_score, accuracy_score, precision_score, recall_score\n",
        "\n",
        "def compute_metrics(pred):\n",
        "    labels = pred.label_ids\n",
        "    preds = pred.predictions.argmax(-1)\n",
        "    acc = accuracy_score(labels, preds)\n",
        "    f1 = f1_score(labels, preds, average=\"weighted\")\n",
        "    precision = precision_score(labels, preds, average=\"weighted\")\n",
        "    recall = recall_score(labels, preds, average=\"weighted\")\n",
        "\n",
        "    return {\n",
        "        \"accuracy\": acc,\n",
        "        \"f1\": f1,\n",
        "        \"precision\": precision,\n",
        "        \"recall\": recall\n",
        "    }\n"
      ]
    },
    {
      "cell_type": "code",
      "execution_count": null,
      "metadata": {
        "id": "PFdLLr27NvAm"
      },
      "outputs": [],
      "source": [
        "from transformers import TrainingArguments, Trainer\n",
        "\n",
        "# Defining training args\n",
        "batch_size = 32\n",
        "logging_steps = len(yelp_reviews_final_encoded['train']) // batch_size\n",
        "model_name_arg = f\"{model_name}-finetuned-yelp\"\n",
        "training_args = TrainingArguments(output_dir=model_name_arg,\n",
        "                                  num_train_epochs=3,\n",
        "                                  learning_rate=2e-5,\n",
        "                                  per_device_train_batch_size=batch_size,\n",
        "                                  per_device_eval_batch_size=batch_size,\n",
        "                                  weight_decay=0.01,\n",
        "                                  evaluation_strategy=\"epoch\",\n",
        "                                  save_strategy=\"epoch\",\n",
        "                                  disable_tqdm=False,\n",
        "                                  logging_steps=logging_steps,\n",
        "                                  push_to_hub=False,\n",
        "                                  load_best_model_at_end=True,\n",
        "                                  log_level=\"error\")"
      ]
    },
    {
      "cell_type": "code",
      "execution_count": null,
      "metadata": {
        "id": "JJEBlkYDmPLh",
        "colab": {
          "base_uri": "https://localhost:8080/"
        },
        "outputId": "bb091977-13a9-4d82-dc21-9dc85468b754"
      },
      "outputs": [
        {
          "output_type": "stream",
          "name": "stderr",
          "text": [
            "/usr/local/lib/python3.10/dist-packages/accelerate/accelerator.py:432: FutureWarning: Passing the following arguments to `Accelerator` is deprecated and will be removed in version 1.0 of Accelerate: dict_keys(['dispatch_batches', 'split_batches', 'even_batches', 'use_seedable_sampler']). Please pass an `accelerate.DataLoaderConfiguration` instead: \n",
            "dataloader_config = DataLoaderConfiguration(dispatch_batches=None, split_batches=False, even_batches=True, use_seedable_sampler=True)\n",
            "  warnings.warn(\n"
          ]
        }
      ],
      "source": [
        "trainer_yelp = Trainer(\n",
        "    model=model,\n",
        "    args=training_args,\n",
        "    train_dataset=yelp_reviews_final_encoded['train'],\n",
        "    eval_dataset=yelp_reviews_final_encoded['validation'],\n",
        "    compute_metrics=compute_metrics,\n",
        "    tokenizer=tokenizer\n",
        ")"
      ]
    },
    {
      "cell_type": "code",
      "execution_count": null,
      "metadata": {
        "id": "ZH8vTaOqSLuM",
        "colab": {
          "base_uri": "https://localhost:8080/",
          "height": 372
        },
        "outputId": "0d541fa8-fbb0-46fa-d64a-13c141ee9a2e"
      },
      "outputs": [
        {
          "output_type": "display_data",
          "data": {
            "text/plain": [
              "<IPython.core.display.HTML object>"
            ],
            "text/html": [
              "\n",
              "    <div>\n",
              "      \n",
              "      <progress value='939' max='2814' style='width:300px; height:20px; vertical-align: middle;'></progress>\n",
              "      [ 939/2814 03:30 < 07:02, 4.44 it/s, Epoch 1/3]\n",
              "    </div>\n",
              "    <table border=\"1\" class=\"dataframe\">\n",
              "  <thead>\n",
              " <tr style=\"text-align: left;\">\n",
              "      <th>Epoch</th>\n",
              "      <th>Training Loss</th>\n",
              "      <th>Validation Loss</th>\n",
              "    </tr>\n",
              "  </thead>\n",
              "  <tbody>\n",
              "  </tbody>\n",
              "</table><p>\n",
              "    <div>\n",
              "      \n",
              "      <progress value='313' max='313' style='width:300px; height:20px; vertical-align: middle;'></progress>\n",
              "      [313/313 00:25]\n",
              "    </div>\n",
              "    "
            ]
          },
          "metadata": {}
        },
        {
          "output_type": "error",
          "ename": "TypeError",
          "evalue": "'<' not supported between instances of 'str' and 'int'",
          "traceback": [
            "\u001b[0;31m---------------------------------------------------------------------------\u001b[0m",
            "\u001b[0;31mTypeError\u001b[0m                                 Traceback (most recent call last)",
            "\u001b[0;32m<ipython-input-85-e4859087d27a>\u001b[0m in \u001b[0;36m<cell line: 1>\u001b[0;34m()\u001b[0m\n\u001b[0;32m----> 1\u001b[0;31m \u001b[0mtrainer_yelp\u001b[0m\u001b[0;34m.\u001b[0m\u001b[0mtrain\u001b[0m\u001b[0;34m(\u001b[0m\u001b[0;34m)\u001b[0m\u001b[0;34m\u001b[0m\u001b[0;34m\u001b[0m\u001b[0m\n\u001b[0m",
            "\u001b[0;32m/usr/local/lib/python3.10/dist-packages/transformers/trainer.py\u001b[0m in \u001b[0;36mtrain\u001b[0;34m(self, resume_from_checkpoint, trial, ignore_keys_for_eval, **kwargs)\u001b[0m\n\u001b[1;32m   1622\u001b[0m                 \u001b[0mhf_hub_utils\u001b[0m\u001b[0;34m.\u001b[0m\u001b[0menable_progress_bars\u001b[0m\u001b[0;34m(\u001b[0m\u001b[0;34m)\u001b[0m\u001b[0;34m\u001b[0m\u001b[0;34m\u001b[0m\u001b[0m\n\u001b[1;32m   1623\u001b[0m         \u001b[0;32melse\u001b[0m\u001b[0;34m:\u001b[0m\u001b[0;34m\u001b[0m\u001b[0;34m\u001b[0m\u001b[0m\n\u001b[0;32m-> 1624\u001b[0;31m             return inner_training_loop(\n\u001b[0m\u001b[1;32m   1625\u001b[0m                 \u001b[0margs\u001b[0m\u001b[0;34m=\u001b[0m\u001b[0margs\u001b[0m\u001b[0;34m,\u001b[0m\u001b[0;34m\u001b[0m\u001b[0;34m\u001b[0m\u001b[0m\n\u001b[1;32m   1626\u001b[0m                 \u001b[0mresume_from_checkpoint\u001b[0m\u001b[0;34m=\u001b[0m\u001b[0mresume_from_checkpoint\u001b[0m\u001b[0;34m,\u001b[0m\u001b[0;34m\u001b[0m\u001b[0;34m\u001b[0m\u001b[0m\n",
            "\u001b[0;32m/usr/local/lib/python3.10/dist-packages/transformers/trainer.py\u001b[0m in \u001b[0;36m_inner_training_loop\u001b[0;34m(self, batch_size, args, resume_from_checkpoint, trial, ignore_keys_for_eval)\u001b[0m\n\u001b[1;32m   2047\u001b[0m \u001b[0;34m\u001b[0m\u001b[0m\n\u001b[1;32m   2048\u001b[0m             \u001b[0mself\u001b[0m\u001b[0;34m.\u001b[0m\u001b[0mcontrol\u001b[0m \u001b[0;34m=\u001b[0m \u001b[0mself\u001b[0m\u001b[0;34m.\u001b[0m\u001b[0mcallback_handler\u001b[0m\u001b[0;34m.\u001b[0m\u001b[0mon_epoch_end\u001b[0m\u001b[0;34m(\u001b[0m\u001b[0margs\u001b[0m\u001b[0;34m,\u001b[0m \u001b[0mself\u001b[0m\u001b[0;34m.\u001b[0m\u001b[0mstate\u001b[0m\u001b[0;34m,\u001b[0m \u001b[0mself\u001b[0m\u001b[0;34m.\u001b[0m\u001b[0mcontrol\u001b[0m\u001b[0;34m)\u001b[0m\u001b[0;34m\u001b[0m\u001b[0;34m\u001b[0m\u001b[0m\n\u001b[0;32m-> 2049\u001b[0;31m             \u001b[0mself\u001b[0m\u001b[0;34m.\u001b[0m\u001b[0m_maybe_log_save_evaluate\u001b[0m\u001b[0;34m(\u001b[0m\u001b[0mtr_loss\u001b[0m\u001b[0;34m,\u001b[0m \u001b[0mgrad_norm\u001b[0m\u001b[0;34m,\u001b[0m \u001b[0mmodel\u001b[0m\u001b[0;34m,\u001b[0m \u001b[0mtrial\u001b[0m\u001b[0;34m,\u001b[0m \u001b[0mepoch\u001b[0m\u001b[0;34m,\u001b[0m \u001b[0mignore_keys_for_eval\u001b[0m\u001b[0;34m)\u001b[0m\u001b[0;34m\u001b[0m\u001b[0;34m\u001b[0m\u001b[0m\n\u001b[0m\u001b[1;32m   2050\u001b[0m \u001b[0;34m\u001b[0m\u001b[0m\n\u001b[1;32m   2051\u001b[0m             \u001b[0;32mif\u001b[0m \u001b[0mDebugOption\u001b[0m\u001b[0;34m.\u001b[0m\u001b[0mTPU_METRICS_DEBUG\u001b[0m \u001b[0;32min\u001b[0m \u001b[0mself\u001b[0m\u001b[0;34m.\u001b[0m\u001b[0margs\u001b[0m\u001b[0;34m.\u001b[0m\u001b[0mdebug\u001b[0m\u001b[0;34m:\u001b[0m\u001b[0;34m\u001b[0m\u001b[0;34m\u001b[0m\u001b[0m\n",
            "\u001b[0;32m/usr/local/lib/python3.10/dist-packages/transformers/trainer.py\u001b[0m in \u001b[0;36m_maybe_log_save_evaluate\u001b[0;34m(self, tr_loss, grad_norm, model, trial, epoch, ignore_keys_for_eval)\u001b[0m\n\u001b[1;32m   2410\u001b[0m         \u001b[0mmetrics\u001b[0m \u001b[0;34m=\u001b[0m \u001b[0;32mNone\u001b[0m\u001b[0;34m\u001b[0m\u001b[0;34m\u001b[0m\u001b[0m\n\u001b[1;32m   2411\u001b[0m         \u001b[0;32mif\u001b[0m \u001b[0mself\u001b[0m\u001b[0;34m.\u001b[0m\u001b[0mcontrol\u001b[0m\u001b[0;34m.\u001b[0m\u001b[0mshould_evaluate\u001b[0m\u001b[0;34m:\u001b[0m\u001b[0;34m\u001b[0m\u001b[0;34m\u001b[0m\u001b[0m\n\u001b[0;32m-> 2412\u001b[0;31m             \u001b[0mmetrics\u001b[0m \u001b[0;34m=\u001b[0m \u001b[0mself\u001b[0m\u001b[0;34m.\u001b[0m\u001b[0mevaluate\u001b[0m\u001b[0;34m(\u001b[0m\u001b[0mignore_keys\u001b[0m\u001b[0;34m=\u001b[0m\u001b[0mignore_keys_for_eval\u001b[0m\u001b[0;34m)\u001b[0m\u001b[0;34m\u001b[0m\u001b[0;34m\u001b[0m\u001b[0m\n\u001b[0m\u001b[1;32m   2413\u001b[0m             \u001b[0mself\u001b[0m\u001b[0;34m.\u001b[0m\u001b[0m_report_to_hp_search\u001b[0m\u001b[0;34m(\u001b[0m\u001b[0mtrial\u001b[0m\u001b[0;34m,\u001b[0m \u001b[0mself\u001b[0m\u001b[0;34m.\u001b[0m\u001b[0mstate\u001b[0m\u001b[0;34m.\u001b[0m\u001b[0mglobal_step\u001b[0m\u001b[0;34m,\u001b[0m \u001b[0mmetrics\u001b[0m\u001b[0;34m)\u001b[0m\u001b[0;34m\u001b[0m\u001b[0;34m\u001b[0m\u001b[0m\n\u001b[1;32m   2414\u001b[0m \u001b[0;34m\u001b[0m\u001b[0m\n",
            "\u001b[0;32m/usr/local/lib/python3.10/dist-packages/transformers/trainer.py\u001b[0m in \u001b[0;36mevaluate\u001b[0;34m(self, eval_dataset, ignore_keys, metric_key_prefix)\u001b[0m\n\u001b[1;32m   3227\u001b[0m \u001b[0;34m\u001b[0m\u001b[0m\n\u001b[1;32m   3228\u001b[0m         \u001b[0meval_loop\u001b[0m \u001b[0;34m=\u001b[0m \u001b[0mself\u001b[0m\u001b[0;34m.\u001b[0m\u001b[0mprediction_loop\u001b[0m \u001b[0;32mif\u001b[0m \u001b[0mself\u001b[0m\u001b[0;34m.\u001b[0m\u001b[0margs\u001b[0m\u001b[0;34m.\u001b[0m\u001b[0muse_legacy_prediction_loop\u001b[0m \u001b[0;32melse\u001b[0m \u001b[0mself\u001b[0m\u001b[0;34m.\u001b[0m\u001b[0mevaluation_loop\u001b[0m\u001b[0;34m\u001b[0m\u001b[0;34m\u001b[0m\u001b[0m\n\u001b[0;32m-> 3229\u001b[0;31m         output = eval_loop(\n\u001b[0m\u001b[1;32m   3230\u001b[0m             \u001b[0meval_dataloader\u001b[0m\u001b[0;34m,\u001b[0m\u001b[0;34m\u001b[0m\u001b[0;34m\u001b[0m\u001b[0m\n\u001b[1;32m   3231\u001b[0m             \u001b[0mdescription\u001b[0m\u001b[0;34m=\u001b[0m\u001b[0;34m\"Evaluation\"\u001b[0m\u001b[0;34m,\u001b[0m\u001b[0;34m\u001b[0m\u001b[0;34m\u001b[0m\u001b[0m\n",
            "\u001b[0;32m/usr/local/lib/python3.10/dist-packages/transformers/trainer.py\u001b[0m in \u001b[0;36mevaluation_loop\u001b[0;34m(self, dataloader, description, prediction_loss_only, ignore_keys, metric_key_prefix)\u001b[0m\n\u001b[1;32m   3518\u001b[0m                 )\n\u001b[1;32m   3519\u001b[0m             \u001b[0;32melse\u001b[0m\u001b[0;34m:\u001b[0m\u001b[0;34m\u001b[0m\u001b[0;34m\u001b[0m\u001b[0m\n\u001b[0;32m-> 3520\u001b[0;31m                 \u001b[0mmetrics\u001b[0m \u001b[0;34m=\u001b[0m \u001b[0mself\u001b[0m\u001b[0;34m.\u001b[0m\u001b[0mcompute_metrics\u001b[0m\u001b[0;34m(\u001b[0m\u001b[0mEvalPrediction\u001b[0m\u001b[0;34m(\u001b[0m\u001b[0mpredictions\u001b[0m\u001b[0;34m=\u001b[0m\u001b[0mall_preds\u001b[0m\u001b[0;34m,\u001b[0m \u001b[0mlabel_ids\u001b[0m\u001b[0;34m=\u001b[0m\u001b[0mall_labels\u001b[0m\u001b[0;34m)\u001b[0m\u001b[0;34m)\u001b[0m\u001b[0;34m\u001b[0m\u001b[0;34m\u001b[0m\u001b[0m\n\u001b[0m\u001b[1;32m   3521\u001b[0m         \u001b[0;32melse\u001b[0m\u001b[0;34m:\u001b[0m\u001b[0;34m\u001b[0m\u001b[0;34m\u001b[0m\u001b[0m\n\u001b[1;32m   3522\u001b[0m             \u001b[0mmetrics\u001b[0m \u001b[0;34m=\u001b[0m \u001b[0;34m{\u001b[0m\u001b[0;34m}\u001b[0m\u001b[0;34m\u001b[0m\u001b[0;34m\u001b[0m\u001b[0m\n",
            "\u001b[0;32m<ipython-input-76-7da5d5e65e22>\u001b[0m in \u001b[0;36mcompute_metrics\u001b[0;34m(pred)\u001b[0m\n\u001b[1;32m      2\u001b[0m \u001b[0;34m\u001b[0m\u001b[0m\n\u001b[1;32m      3\u001b[0m \u001b[0;32mdef\u001b[0m \u001b[0mcompute_metrics\u001b[0m\u001b[0;34m(\u001b[0m\u001b[0mpred\u001b[0m\u001b[0;34m)\u001b[0m\u001b[0;34m:\u001b[0m\u001b[0;34m\u001b[0m\u001b[0;34m\u001b[0m\u001b[0m\n\u001b[0;32m----> 4\u001b[0;31m     \u001b[0mlabels\u001b[0m \u001b[0;34m=\u001b[0m \u001b[0mpred\u001b[0m\u001b[0;34m[\u001b[0m\u001b[0;34m'label_ids'\u001b[0m\u001b[0;34m]\u001b[0m\u001b[0;34m\u001b[0m\u001b[0;34m\u001b[0m\u001b[0m\n\u001b[0m\u001b[1;32m      5\u001b[0m     \u001b[0;31m# If your predictions are logits (raw outputs from model), you'll need to apply argmax.\u001b[0m\u001b[0;34m\u001b[0m\u001b[0;34m\u001b[0m\u001b[0m\n\u001b[1;32m      6\u001b[0m     \u001b[0;31m# If they are already class indices, you can skip the argmax step.\u001b[0m\u001b[0;34m\u001b[0m\u001b[0;34m\u001b[0m\u001b[0m\n",
            "\u001b[0;32m/usr/local/lib/python3.10/dist-packages/transformers/trainer_utils.py\u001b[0m in \u001b[0;36m__getitem__\u001b[0;34m(self, idx)\u001b[0m\n\u001b[1;32m    159\u001b[0m \u001b[0;34m\u001b[0m\u001b[0m\n\u001b[1;32m    160\u001b[0m     \u001b[0;32mdef\u001b[0m \u001b[0m__getitem__\u001b[0m\u001b[0;34m(\u001b[0m\u001b[0mself\u001b[0m\u001b[0;34m,\u001b[0m \u001b[0midx\u001b[0m\u001b[0;34m)\u001b[0m\u001b[0;34m:\u001b[0m\u001b[0;34m\u001b[0m\u001b[0;34m\u001b[0m\u001b[0m\n\u001b[0;32m--> 161\u001b[0;31m         \u001b[0;32mif\u001b[0m \u001b[0midx\u001b[0m \u001b[0;34m<\u001b[0m \u001b[0;36m0\u001b[0m \u001b[0;32mor\u001b[0m \u001b[0midx\u001b[0m \u001b[0;34m>\u001b[0m \u001b[0;36m2\u001b[0m\u001b[0;34m:\u001b[0m\u001b[0;34m\u001b[0m\u001b[0;34m\u001b[0m\u001b[0m\n\u001b[0m\u001b[1;32m    162\u001b[0m             \u001b[0;32mraise\u001b[0m \u001b[0mIndexError\u001b[0m\u001b[0;34m(\u001b[0m\u001b[0;34m\"tuple index out of range\"\u001b[0m\u001b[0;34m)\u001b[0m\u001b[0;34m\u001b[0m\u001b[0;34m\u001b[0m\u001b[0m\n\u001b[1;32m    163\u001b[0m         \u001b[0;32mif\u001b[0m \u001b[0midx\u001b[0m \u001b[0;34m==\u001b[0m \u001b[0;36m2\u001b[0m \u001b[0;32mand\u001b[0m \u001b[0mself\u001b[0m\u001b[0;34m.\u001b[0m\u001b[0minputs\u001b[0m \u001b[0;32mis\u001b[0m \u001b[0;32mNone\u001b[0m\u001b[0;34m:\u001b[0m\u001b[0;34m\u001b[0m\u001b[0;34m\u001b[0m\u001b[0m\n",
            "\u001b[0;31mTypeError\u001b[0m: '<' not supported between instances of 'str' and 'int'"
          ]
        }
      ],
      "source": [
        "trainer_yelp.train()"
      ]
    },
    {
      "cell_type": "markdown",
      "metadata": {
        "id": "gQen6l6ZxQxu"
      },
      "source": [
        "#Fine-tuned App reviews (training)"
      ]
    },
    {
      "cell_type": "code",
      "execution_count": null,
      "metadata": {
        "id": "9KRDWRzHizdS",
        "colab": {
          "base_uri": "https://localhost:8080/",
          "height": 113,
          "referenced_widgets": [
            "7f43bbbc58f94ef3abc3259d8ebfc59f",
            "601e9ce2038345efb69db938d146ce8f",
            "cd9c9a965d044ff1a06ea516c8d56ba9",
            "bdab6c35a6e741dbad1d5a81d6a50480",
            "13d4c55f2ccc4bf89041f98ee072d5b2",
            "5b79f2f361aa4354acb2f88ac033bf40",
            "bc35af5ed4664aacb92d834b23ad19d9",
            "78c88b8dde334b3aaef51d2984b35a7d",
            "b5f5ad39c80040b49683b24298f423fb",
            "971ed83c826243508ec3777ab14d56f6",
            "73ba2ac9698a48258164e4c32adc0bf8",
            "a2dc6453b9944231ac1386e4b5477e8a",
            "5815dcbda4c349488b4aa4b572e8534a",
            "3f6e4e15034d41e384ae71cf2432c595",
            "5869b70f6bcf49f38eaf2daa0c36a327",
            "3d98bdcdeac34c2d886ffca85929726f",
            "8f332bf2a01a4cff936a8171f74f56be",
            "ee9c59da7d424b14ba93a3bf1371de41",
            "72579a0e3a014441acc8c97798764493",
            "1d0ee938a86a42199eacb0149d251554",
            "798da163f33b4818ade5873ea63e8c51",
            "f1f6bc31d36d4aaeadad5c3fce27925c",
            "9db15662f4e9419cb1efdaf0bf63c1d2",
            "0377b70bbe8b4736bef7727ec6b9ca92",
            "5f630c14c9414e7485bd6ae47bd9bc5e",
            "06657b8f078e4176ba02094652b6d3b1",
            "3e7ca380db084eedaebb6fbf97fb7175",
            "035fa3a0f6ce49e0960f3beadfdf312d",
            "c69701d3e7af4c97bce24112f4950753",
            "e63039ae1af14a92b65e14542d0e7f2b",
            "638345e670dc48f593ff02c6231063b0",
            "ab89d5b609d842eab87351d31945e29c",
            "e31dcac2507e4241b180f8552ac96a77"
          ]
        },
        "outputId": "43935b13-093b-4f25-ccdb-3f60aaa5d74d"
      },
      "outputs": [
        {
          "output_type": "display_data",
          "data": {
            "text/plain": [
              "Map:   0%|          | 0/30000 [00:00<?, ? examples/s]"
            ],
            "application/vnd.jupyter.widget-view+json": {
              "version_major": 2,
              "version_minor": 0,
              "model_id": "7f43bbbc58f94ef3abc3259d8ebfc59f"
            }
          },
          "metadata": {}
        },
        {
          "output_type": "display_data",
          "data": {
            "text/plain": [
              "Map:   0%|          | 0/10000 [00:00<?, ? examples/s]"
            ],
            "application/vnd.jupyter.widget-view+json": {
              "version_major": 2,
              "version_minor": 0,
              "model_id": "a2dc6453b9944231ac1386e4b5477e8a"
            }
          },
          "metadata": {}
        },
        {
          "output_type": "display_data",
          "data": {
            "text/plain": [
              "Map:   0%|          | 0/10000 [00:00<?, ? examples/s]"
            ],
            "application/vnd.jupyter.widget-view+json": {
              "version_major": 2,
              "version_minor": 0,
              "model_id": "9db15662f4e9419cb1efdaf0bf63c1d2"
            }
          },
          "metadata": {}
        }
      ],
      "source": [
        "# Tokenize data\n",
        "app_reviews_final_encoded = app_reviews_final.map(tokenize_function, batched=True, batch_size=64)"
      ]
    },
    {
      "cell_type": "code",
      "execution_count": null,
      "metadata": {
        "id": "KFM9z6mpjIPW",
        "colab": {
          "base_uri": "https://localhost:8080/"
        },
        "outputId": "eb4a8242-0f1b-423a-8a7d-2ed21564cab6"
      },
      "outputs": [
        {
          "output_type": "execute_result",
          "data": {
            "text/plain": [
              "DatasetDict({\n",
              "    train: Dataset({\n",
              "        features: ['text', 'label_text', 'label', 'input_ids', 'attention_mask'],\n",
              "        num_rows: 30000\n",
              "    })\n",
              "    validation: Dataset({\n",
              "        features: ['text', 'label_text', 'label', 'input_ids', 'attention_mask'],\n",
              "        num_rows: 10000\n",
              "    })\n",
              "    test: Dataset({\n",
              "        features: ['text', 'label_text', 'label', 'input_ids', 'attention_mask'],\n",
              "        num_rows: 10000\n",
              "    })\n",
              "})"
            ]
          },
          "metadata": {},
          "execution_count": 67
        }
      ],
      "source": [
        "app_reviews_final_encoded"
      ]
    },
    {
      "cell_type": "code",
      "execution_count": null,
      "metadata": {
        "id": "7Di4asJmjK45"
      },
      "outputs": [],
      "source": [
        "from transformers import TrainingArguments, Trainer\n",
        "\n",
        "# Defining training args\n",
        "batch_size = 32\n",
        "logging_steps = len(app_reviews_final_encoded['train']) // batch_size\n",
        "model_name_arg = f\"{model_name}-finetuned-app\"\n",
        "training_args = TrainingArguments(output_dir=model_name_arg,\n",
        "                                  num_train_epochs=3,\n",
        "                                  learning_rate=2e-5,\n",
        "                                  per_device_train_batch_size=batch_size,\n",
        "                                  per_device_eval_batch_size=batch_size,\n",
        "                                  weight_decay=0.01,\n",
        "                                  evaluation_strategy=\"epoch\",\n",
        "                                  save_strategy=\"epoch\",\n",
        "                                  disable_tqdm=False,\n",
        "                                  logging_steps=logging_steps,\n",
        "                                  push_to_hub=False,\n",
        "                                  load_best_model_at_end=True,\n",
        "                                  log_level=\"error\")"
      ]
    },
    {
      "cell_type": "code",
      "execution_count": null,
      "metadata": {
        "id": "s-fgPv2ajnhq",
        "colab": {
          "base_uri": "https://localhost:8080/"
        },
        "outputId": "2a1680a5-0552-4888-cb9b-6034b8be25e5"
      },
      "outputs": [
        {
          "output_type": "stream",
          "name": "stderr",
          "text": [
            "/usr/local/lib/python3.10/dist-packages/accelerate/accelerator.py:432: FutureWarning: Passing the following arguments to `Accelerator` is deprecated and will be removed in version 1.0 of Accelerate: dict_keys(['dispatch_batches', 'split_batches', 'even_batches', 'use_seedable_sampler']). Please pass an `accelerate.DataLoaderConfiguration` instead: \n",
            "dataloader_config = DataLoaderConfiguration(dispatch_batches=None, split_batches=False, even_batches=True, use_seedable_sampler=True)\n",
            "  warnings.warn(\n"
          ]
        }
      ],
      "source": [
        "trainer_app = Trainer(\n",
        "    model=model,\n",
        "    args=training_args,\n",
        "    train_dataset=app_reviews_final_encoded['train'],\n",
        "    eval_dataset=app_reviews_final_encoded['validation'],\n",
        "    compute_metrics=compute_metrics,\n",
        "    tokenizer=tokenizer\n",
        ")"
      ]
    },
    {
      "cell_type": "code",
      "execution_count": null,
      "metadata": {
        "id": "3pyG2f_LjrVr",
        "colab": {
          "base_uri": "https://localhost:8080/",
          "height": 223
        },
        "outputId": "6bf82aaa-a943-44f5-aecf-2a91f04d89d7"
      },
      "outputs": [
        {
          "output_type": "display_data",
          "data": {
            "text/plain": [
              "<IPython.core.display.HTML object>"
            ],
            "text/html": [
              "\n",
              "    <div>\n",
              "      \n",
              "      <progress value='2814' max='2814' style='width:300px; height:20px; vertical-align: middle;'></progress>\n",
              "      [2814/2814 11:38, Epoch 3/3]\n",
              "    </div>\n",
              "    <table border=\"1\" class=\"dataframe\">\n",
              "  <thead>\n",
              " <tr style=\"text-align: left;\">\n",
              "      <th>Epoch</th>\n",
              "      <th>Training Loss</th>\n",
              "      <th>Validation Loss</th>\n",
              "      <th>Accuracy</th>\n",
              "      <th>F1</th>\n",
              "      <th>Precision</th>\n",
              "      <th>Recall</th>\n",
              "    </tr>\n",
              "  </thead>\n",
              "  <tbody>\n",
              "    <tr>\n",
              "      <td>1</td>\n",
              "      <td>0.812000</td>\n",
              "      <td>0.643396</td>\n",
              "      <td>0.758900</td>\n",
              "      <td>0.785888</td>\n",
              "      <td>0.826350</td>\n",
              "      <td>0.758900</td>\n",
              "    </tr>\n",
              "    <tr>\n",
              "      <td>2</td>\n",
              "      <td>0.702100</td>\n",
              "      <td>0.683189</td>\n",
              "      <td>0.727000</td>\n",
              "      <td>0.766709</td>\n",
              "      <td>0.830997</td>\n",
              "      <td>0.727000</td>\n",
              "    </tr>\n",
              "    <tr>\n",
              "      <td>3</td>\n",
              "      <td>0.631600</td>\n",
              "      <td>0.692230</td>\n",
              "      <td>0.732000</td>\n",
              "      <td>0.767503</td>\n",
              "      <td>0.824190</td>\n",
              "      <td>0.732000</td>\n",
              "    </tr>\n",
              "  </tbody>\n",
              "</table><p>"
            ]
          },
          "metadata": {}
        },
        {
          "output_type": "execute_result",
          "data": {
            "text/plain": [
              "TrainOutput(global_step=2814, training_loss=0.7150748900343699, metrics={'train_runtime': 699.0646, 'train_samples_per_second': 128.743, 'train_steps_per_second': 4.025, 'total_flos': 5961139246080000.0, 'train_loss': 0.7150748900343699, 'epoch': 3.0})"
            ]
          },
          "metadata": {},
          "execution_count": 73
        }
      ],
      "source": [
        "trainer_app.train()"
      ]
    },
    {
      "cell_type": "markdown",
      "metadata": {
        "id": "-G0rcQDuivo0"
      },
      "source": [
        "#Fine-tuned Product reviews (training)"
      ]
    },
    {
      "cell_type": "code",
      "source": [
        "product_reviews_final_encoded = product_reviews_final.map(tokenize_function, batched=True, batch_size=64)"
      ],
      "metadata": {
        "colab": {
          "base_uri": "https://localhost:8080/",
          "height": 113,
          "referenced_widgets": [
            "41050719a0c04dc6a8aa6e68898d8ce4",
            "f675ae4a72d04d42b2e48b5ebc0b737e",
            "7bf0183869cf4452a5a0d89f052aa361",
            "62cb9cf03fd84a1080a419cab75d4aab",
            "bef0a79da547446cba470d434903a9a9",
            "49de40e1ae924249ab640be7e8811c62",
            "b46d7b7341cf4fdaac60e67d0e3ef36a",
            "e4552804fd4e4ee09e1fd6a4464c162c",
            "84a488f18e8242b4835fefdf19c45b55",
            "1bda490d86b1498f943b34beaaa919e9",
            "0eaa00b622824c54a40dee9da47d52fb",
            "4ad3474f1da644768c68d2229fd57e3d",
            "3a27c0994c8c4fd89a7af1c09d03d7fb",
            "47a251ac7a4f435d83205f03d8d57544",
            "7a9ee91226df485f90324404b68dd272",
            "e6b1cda0a005448b829590e0d7dedee4",
            "2fcd820855784a678c2e4a9fcff2ec7e",
            "ede422deea0e4ac7aec383a0568c4f8a",
            "433075d7dcc441fbba4b440d38f79fc6",
            "091f405dc77f45cd838f657c07b58ef2",
            "a0a494526f3b4e7fa824f2407407f2ca",
            "e842aa49cfcf4d9faa00fbb905119e79",
            "c84652f6e3cc41f3a1e54829ff611918",
            "a569588c2b3e4e0082a8b65ec60cd4a7",
            "4e1540e86a3f4bd88b65c8de8c013ab0",
            "cd41d901b85f45528db8965027700a88",
            "5a33a879484f45df81333c9602d011d0",
            "e8b87a292ceb4977acff23ce621b071e",
            "244301a89cbc409f976432e1af750a45",
            "dbf2e3389cda457c8c2e2c5aaf415313",
            "4e568bd18d2b4040aa4898d36c818c94",
            "109be86b3af94eef898da6051c83742c",
            "e40dae6ebef1476fbdabc146b527b34f"
          ]
        },
        "id": "VsoHmu7xHlUn",
        "outputId": "7fcd24c9-becc-480f-86d9-9ad9bd984936"
      },
      "execution_count": null,
      "outputs": [
        {
          "output_type": "display_data",
          "data": {
            "text/plain": [
              "Map:   0%|          | 0/30000 [00:00<?, ? examples/s]"
            ],
            "application/vnd.jupyter.widget-view+json": {
              "version_major": 2,
              "version_minor": 0,
              "model_id": "41050719a0c04dc6a8aa6e68898d8ce4"
            }
          },
          "metadata": {}
        },
        {
          "output_type": "display_data",
          "data": {
            "text/plain": [
              "Map:   0%|          | 0/10000 [00:00<?, ? examples/s]"
            ],
            "application/vnd.jupyter.widget-view+json": {
              "version_major": 2,
              "version_minor": 0,
              "model_id": "4ad3474f1da644768c68d2229fd57e3d"
            }
          },
          "metadata": {}
        },
        {
          "output_type": "display_data",
          "data": {
            "text/plain": [
              "Map:   0%|          | 0/10000 [00:00<?, ? examples/s]"
            ],
            "application/vnd.jupyter.widget-view+json": {
              "version_major": 2,
              "version_minor": 0,
              "model_id": "c84652f6e3cc41f3a1e54829ff611918"
            }
          },
          "metadata": {}
        }
      ]
    },
    {
      "cell_type": "code",
      "source": [
        "from transformers import TrainingArguments, Trainer\n",
        "\n",
        "# Defining training args\n",
        "batch_size = 32\n",
        "logging_steps = len(product_reviews_final_encoded['train']) // batch_size\n",
        "model_name_arg = f\"{model_name}-finetuned-product\"\n",
        "training_args = TrainingArguments(output_dir=model_name_arg,\n",
        "                                  num_train_epochs=3,\n",
        "                                  learning_rate=2e-5,\n",
        "                                  per_device_train_batch_size=batch_size,\n",
        "                                  per_device_eval_batch_size=batch_size,\n",
        "                                  weight_decay=0.01,\n",
        "                                  evaluation_strategy=\"epoch\",\n",
        "                                  save_strategy=\"epoch\",\n",
        "                                  disable_tqdm=False,\n",
        "                                  logging_steps=logging_steps,\n",
        "                                  push_to_hub=False,\n",
        "                                  load_best_model_at_end=True,\n",
        "                                  log_level=\"error\")"
      ],
      "metadata": {
        "id": "GRccWOXWHlIQ"
      },
      "execution_count": null,
      "outputs": []
    },
    {
      "cell_type": "code",
      "source": [
        "trainer_product = Trainer(\n",
        "    model=model,\n",
        "    args=training_args,\n",
        "    train_dataset=product_reviews_final_encoded['train'],\n",
        "    eval_dataset=product_reviews_final_encoded['validation'],\n",
        "    compute_metrics=compute_metrics,\n",
        "    tokenizer=tokenizer\n",
        ")\n"
      ],
      "metadata": {
        "colab": {
          "base_uri": "https://localhost:8080/"
        },
        "id": "vUbPwEgNIiMx",
        "outputId": "4ddca475-07f9-4ccc-aef0-71b4b2c56936"
      },
      "execution_count": null,
      "outputs": [
        {
          "output_type": "stream",
          "name": "stderr",
          "text": [
            "/usr/local/lib/python3.10/dist-packages/accelerate/accelerator.py:432: FutureWarning: Passing the following arguments to `Accelerator` is deprecated and will be removed in version 1.0 of Accelerate: dict_keys(['dispatch_batches', 'split_batches', 'even_batches', 'use_seedable_sampler']). Please pass an `accelerate.DataLoaderConfiguration` instead: \n",
            "dataloader_config = DataLoaderConfiguration(dispatch_batches=None, split_batches=False, even_batches=True, use_seedable_sampler=True)\n",
            "  warnings.warn(\n"
          ]
        }
      ]
    },
    {
      "cell_type": "code",
      "source": [
        "trainer_product.train()"
      ],
      "metadata": {
        "colab": {
          "base_uri": "https://localhost:8080/",
          "height": 223
        },
        "id": "d6SWxemkIpdm",
        "outputId": "1685468b-8ddd-41ee-c4d3-57398d7536ce"
      },
      "execution_count": null,
      "outputs": [
        {
          "output_type": "display_data",
          "data": {
            "text/plain": [
              "<IPython.core.display.HTML object>"
            ],
            "text/html": [
              "\n",
              "    <div>\n",
              "      \n",
              "      <progress value='2814' max='2814' style='width:300px; height:20px; vertical-align: middle;'></progress>\n",
              "      [2814/2814 11:51, Epoch 3/3]\n",
              "    </div>\n",
              "    <table border=\"1\" class=\"dataframe\">\n",
              "  <thead>\n",
              " <tr style=\"text-align: left;\">\n",
              "      <th>Epoch</th>\n",
              "      <th>Training Loss</th>\n",
              "      <th>Validation Loss</th>\n",
              "      <th>Accuracy</th>\n",
              "      <th>F1</th>\n",
              "      <th>Precision</th>\n",
              "      <th>Recall</th>\n",
              "    </tr>\n",
              "  </thead>\n",
              "  <tbody>\n",
              "    <tr>\n",
              "      <td>1</td>\n",
              "      <td>0.670800</td>\n",
              "      <td>0.502829</td>\n",
              "      <td>0.787800</td>\n",
              "      <td>0.790207</td>\n",
              "      <td>0.792971</td>\n",
              "      <td>0.787800</td>\n",
              "    </tr>\n",
              "    <tr>\n",
              "      <td>2</td>\n",
              "      <td>0.504900</td>\n",
              "      <td>0.540892</td>\n",
              "      <td>0.770100</td>\n",
              "      <td>0.786391</td>\n",
              "      <td>0.819514</td>\n",
              "      <td>0.770100</td>\n",
              "    </tr>\n",
              "    <tr>\n",
              "      <td>3</td>\n",
              "      <td>0.413400</td>\n",
              "      <td>0.572886</td>\n",
              "      <td>0.768700</td>\n",
              "      <td>0.785889</td>\n",
              "      <td>0.822910</td>\n",
              "      <td>0.768700</td>\n",
              "    </tr>\n",
              "  </tbody>\n",
              "</table><p>"
            ]
          },
          "metadata": {}
        },
        {
          "output_type": "execute_result",
          "data": {
            "text/plain": [
              "TrainOutput(global_step=2814, training_loss=0.5298344059539503, metrics={'train_runtime': 712.4728, 'train_samples_per_second': 126.321, 'train_steps_per_second': 3.95, 'total_flos': 5961139246080000.0, 'train_loss': 0.5298344059539503, 'epoch': 3.0})"
            ]
          },
          "metadata": {},
          "execution_count": 73
        }
      ]
    },
    {
      "cell_type": "markdown",
      "metadata": {
        "id": "uedbhGpEeEPF"
      },
      "source": [
        "# Performance fine-tuned models on test sets"
      ]
    },
    {
      "cell_type": "markdown",
      "metadata": {
        "id": "JG5yqc4Zhxy1"
      },
      "source": [
        "## Fine-tuned Yelp"
      ]
    },
    {
      "cell_type": "code",
      "source": [
        "from sklearn.metrics import accuracy_score, f1_score, precision_score, recall_score\n",
        "\n",
        "def compute_metrics(pred):\n",
        "    labels = pred['label_ids']\n",
        "    # If your predictions are logits (raw outputs from model), you'll need to apply argmax.\n",
        "    # If they are already class indices, you can skip the argmax step.\n",
        "    preds = pred['predictions'].argmax(-1)\n",
        "    acc = accuracy_score(labels, preds)\n",
        "    f1 = f1_score(labels, preds, average=\"weighted\")\n",
        "    precision = precision_score(labels, preds, average=\"weighted\", zero_division=0)\n",
        "    recall = recall_score(labels, preds, average=\"weighted\", zero_division=0)\n",
        "\n",
        "    return {\n",
        "        \"accuracy\": acc,\n",
        "        \"f1\": f1,\n",
        "        \"precision\": precision,\n",
        "        \"recall\": recall\n",
        "    }\n"
      ],
      "metadata": {
        "id": "tkIAwVsKwyGX"
      },
      "execution_count": null,
      "outputs": []
    },
    {
      "cell_type": "markdown",
      "source": [
        "**Yelp on Yelp**"
      ],
      "metadata": {
        "id": "eSi1-VrF7ZBo"
      }
    },
    {
      "cell_type": "code",
      "execution_count": null,
      "metadata": {
        "colab": {
          "base_uri": "https://localhost:8080/",
          "height": 180
        },
        "id": "w3c0cpMjeudP",
        "outputId": "17cf676c-9159-4c79-844a-d9bdf20bca80"
      },
      "outputs": [
        {
          "output_type": "error",
          "ename": "NameError",
          "evalue": "name 'trainer_yelp' is not defined",
          "traceback": [
            "\u001b[0;31m---------------------------------------------------------------------------\u001b[0m",
            "\u001b[0;31mNameError\u001b[0m                                 Traceback (most recent call last)",
            "\u001b[0;32m<ipython-input-67-814f71093a82>\u001b[0m in \u001b[0;36m<cell line: 2>\u001b[0;34m()\u001b[0m\n\u001b[1;32m      1\u001b[0m \u001b[0;31m# Tuned yelp on yelp set\u001b[0m\u001b[0;34m\u001b[0m\u001b[0;34m\u001b[0m\u001b[0m\n\u001b[0;32m----> 2\u001b[0;31m \u001b[0mpreds_tuned_yelp_on_yelp_test\u001b[0m \u001b[0;34m=\u001b[0m \u001b[0mtrainer_yelp\u001b[0m\u001b[0;34m.\u001b[0m\u001b[0mpredict\u001b[0m\u001b[0;34m(\u001b[0m\u001b[0myelp_reviews_final_encoded\u001b[0m\u001b[0;34m[\u001b[0m\u001b[0;34m'test'\u001b[0m\u001b[0;34m]\u001b[0m\u001b[0;34m)\u001b[0m\u001b[0;34m\u001b[0m\u001b[0;34m\u001b[0m\u001b[0m\n\u001b[0m\u001b[1;32m      3\u001b[0m \u001b[0mpreds_tuned_yelp_on_yelp_test\u001b[0m\u001b[0;34m.\u001b[0m\u001b[0mmetrics\u001b[0m\u001b[0;34m\u001b[0m\u001b[0;34m\u001b[0m\u001b[0m\n",
            "\u001b[0;31mNameError\u001b[0m: name 'trainer_yelp' is not defined"
          ]
        }
      ],
      "source": [
        "# Tuned yelp on yelp set\n",
        "preds_tuned_yelp_on_yelp_test = trainer_yelp.predict(yelp_reviews_final_encoded['test'])\n",
        "preds_tuned_yelp_on_yelp_test.metrics"
      ]
    },
    {
      "cell_type": "code",
      "source": [
        "# Accessing elements by index for a tuple return type\n",
        "predictions = preds_tuned_yelp_on_yelp_test[0]\n",
        "label_ids = preds_tuned_yelp_on_yelp_test[1]\n",
        "# The first element is the raw predictions (logits)\n",
        "# The second element is the label IDs,\n",
        "pred_tuned_yelp_on_yelp = {\n",
        "    'predictions': predictions,\n",
        "    'label_ids': label_ids\n",
        "}\n",
        "scores_tuned_yelp_on_yelp = compute_metrics(pred_tuned_yelp_on_yelp)\n",
        "# Print the custom metrics\n",
        "print(scores_tuned_yelp_on_yelp)"
      ],
      "metadata": {
        "colab": {
          "base_uri": "https://localhost:8080/"
        },
        "id": "4NuU1shEykxD",
        "outputId": "88611ed0-ec51-4f98-d087-74d5dbc8f673"
      },
      "execution_count": null,
      "outputs": [
        {
          "output_type": "stream",
          "name": "stdout",
          "text": [
            "{'accuracy': 0.7624, 'f1': 0.7777192062725786, 'precision': 0.8132917574072961, 'recall': 0.7624}\n"
          ]
        }
      ]
    },
    {
      "cell_type": "markdown",
      "source": [
        "**Yelp on App**"
      ],
      "metadata": {
        "id": "sKVVuxPS7c6E"
      }
    },
    {
      "cell_type": "code",
      "execution_count": null,
      "metadata": {
        "id": "Pf5rwtmuh8Fw",
        "colab": {
          "base_uri": "https://localhost:8080/",
          "height": 160
        },
        "outputId": "a3203fa6-21da-4703-88b4-1c7464069bf9"
      },
      "outputs": [
        {
          "output_type": "display_data",
          "data": {
            "text/plain": [
              "<IPython.core.display.HTML object>"
            ],
            "text/html": []
          },
          "metadata": {}
        },
        {
          "output_type": "execute_result",
          "data": {
            "text/plain": [
              "{'test_loss': 0.7535462379455566,\n",
              " 'test_accuracy': 0.6754,\n",
              " 'test_f1': 0.7156636431683326,\n",
              " 'test_precision': 0.7907947148912822,\n",
              " 'test_recall': 0.6754,\n",
              " 'test_runtime': 74.2393,\n",
              " 'test_samples_per_second': 134.7,\n",
              " 'test_steps_per_second': 4.216}"
            ]
          },
          "metadata": {},
          "execution_count": 78
        }
      ],
      "source": [
        "# Tuned yelp on app set\n",
        "preds_tuned_yelp_on_app_test = trainer_yelp.predict(app_reviews_final_encoded['test'])\n",
        "preds_tuned_yelp_on_app_test.metrics"
      ]
    },
    {
      "cell_type": "code",
      "source": [
        "# Accessing elements by index for a tuple return type\n",
        "predictions_yelp_on_app = preds_tuned_yelp_on_app_test[0]\n",
        "label_ids_yelp_on_app = preds_tuned_yelp_on_app_test[1]\n",
        "# The first element is the raw predictions (logits)\n",
        "# The second element is the label IDs,\n",
        "pred_yelp_on_app = {\n",
        "    'predictions': predictions_yelp_on_app,\n",
        "    'label_ids': label_ids_yelp_on_app\n",
        "}\n",
        "scores_yelp_on_app = compute_metrics(pred_yelp_on_app)\n",
        "# Print the custom metrics\n",
        "print(scores_yelp_on_app)\n"
      ],
      "metadata": {
        "colab": {
          "base_uri": "https://localhost:8080/"
        },
        "id": "Tw9kiHF_ynnL",
        "outputId": "8692099b-3fd5-4ae8-c527-192179c63d4b"
      },
      "execution_count": null,
      "outputs": [
        {
          "output_type": "stream",
          "name": "stdout",
          "text": [
            "{'accuracy': 0.6754, 'f1': 0.7156636431683326, 'precision': 0.7907947148912822, 'recall': 0.6754}\n"
          ]
        }
      ]
    },
    {
      "cell_type": "markdown",
      "source": [
        "**Yelp on Product**"
      ],
      "metadata": {
        "id": "Q3YBtuPS7gRk"
      }
    },
    {
      "cell_type": "code",
      "execution_count": null,
      "metadata": {
        "id": "L6yJ4G0SiJsJ",
        "colab": {
          "base_uri": "https://localhost:8080/",
          "height": 160
        },
        "outputId": "8e170219-a8dd-48e7-dbf9-5862bc38d73b"
      },
      "outputs": [
        {
          "output_type": "display_data",
          "data": {
            "text/plain": [
              "<IPython.core.display.HTML object>"
            ],
            "text/html": []
          },
          "metadata": {}
        },
        {
          "output_type": "execute_result",
          "data": {
            "text/plain": [
              "{'test_loss': 0.7175279259681702,\n",
              " 'test_accuracy': 0.6801,\n",
              " 'test_f1': 0.7123204002082916,\n",
              " 'test_precision': 0.7898235128382661,\n",
              " 'test_recall': 0.6801,\n",
              " 'test_runtime': 75.5914,\n",
              " 'test_samples_per_second': 132.29,\n",
              " 'test_steps_per_second': 4.141}"
            ]
          },
          "metadata": {},
          "execution_count": 81
        }
      ],
      "source": [
        "# Tuned yelp on product set\n",
        "preds_tuned_yelp_on_product_test = trainer_yelp.predict(product_reviews_final_encoded['test'])\n",
        "preds_tuned_yelp_on_product_test.metrics"
      ]
    },
    {
      "cell_type": "code",
      "source": [
        "# Accessing elements by index for a tuple return type\n",
        "predictions_yelp_on_product = preds_tuned_yelp_on_product_test[0]\n",
        "label_ids_yelp_on_product = preds_tuned_yelp_on_product_test[1]\n",
        "# The first element is the raw predictions (logits)\n",
        "# The second element is the label IDs,\n",
        "pred_yelp_on_product = {\n",
        "    'predictions': predictions_yelp_on_product,\n",
        "    'label_ids': label_ids_yelp_on_product\n",
        "}\n",
        "scores_yelp_on_product = compute_metrics(pred_yelp_on_product)\n",
        "# Print the custom metrics\n",
        "print(scores_yelp_on_product)\n"
      ],
      "metadata": {
        "colab": {
          "base_uri": "https://localhost:8080/"
        },
        "id": "ZakHwPlYzxhJ",
        "outputId": "8aa29c78-d20c-425f-c771-41c943d83ac4"
      },
      "execution_count": null,
      "outputs": [
        {
          "output_type": "stream",
          "name": "stdout",
          "text": [
            "{'accuracy': 0.6801, 'f1': 0.7123204002082916, 'precision': 0.7898235128382661, 'recall': 0.6801}\n"
          ]
        }
      ]
    },
    {
      "cell_type": "markdown",
      "metadata": {
        "id": "R8j7yY2Dh1CW"
      },
      "source": [
        "## Fine-tuned App"
      ]
    },
    {
      "cell_type": "markdown",
      "source": [
        "**App on App**"
      ],
      "metadata": {
        "id": "YIC8RlK-7qmT"
      }
    },
    {
      "cell_type": "code",
      "execution_count": null,
      "metadata": {
        "id": "ss1QrukjEJrs",
        "colab": {
          "base_uri": "https://localhost:8080/",
          "height": 160
        },
        "outputId": "9ef2e897-ea5d-43e9-a0f8-f4ad265e38ad"
      },
      "outputs": [
        {
          "output_type": "display_data",
          "data": {
            "text/plain": [
              "<IPython.core.display.HTML object>"
            ],
            "text/html": []
          },
          "metadata": {}
        },
        {
          "output_type": "execute_result",
          "data": {
            "text/plain": [
              "{'test_loss': 0.6522344946861267,\n",
              " 'test_accuracy': 0.7567,\n",
              " 'test_f1': 0.7851687098917554,\n",
              " 'test_precision': 0.8277145166740673,\n",
              " 'test_recall': 0.7567,\n",
              " 'test_runtime': 24.9745,\n",
              " 'test_samples_per_second': 400.409,\n",
              " 'test_steps_per_second': 12.533}"
            ]
          },
          "metadata": {},
          "execution_count": 75
        }
      ],
      "source": [
        "# Predictions on the app reviews test set\n",
        "preds_tuned_app_on_app_test = trainer_app.predict(app_reviews_final_encoded['test'])\n",
        "preds_tuned_app_on_app_test.metrics"
      ]
    },
    {
      "cell_type": "code",
      "source": [
        "# Accessing elements by index for a tuple return type\n",
        "predictions_app_on_app = preds_tuned_app_on_app_test[0]\n",
        "label_ids_app_on_app = preds_tuned_app_on_app_test[1]\n",
        "# The first element is the raw predictions (logits)\n",
        "# The second element is the label IDs,\n",
        "pred_app_on_app = {\n",
        "    'predictions': predictions_app_on_app,\n",
        "    'label_ids': label_ids_app_on_app\n",
        "}\n",
        "scores_app_on_app = compute_metrics(pred_app_on_app)\n",
        "# Print the custom metrics\n",
        "print(scores_app_on_app)"
      ],
      "metadata": {
        "id": "qJloP2bd0O7Q",
        "colab": {
          "base_uri": "https://localhost:8080/"
        },
        "outputId": "4ec9a950-6b16-4b9d-f162-df60d3595699"
      },
      "execution_count": null,
      "outputs": [
        {
          "output_type": "stream",
          "name": "stdout",
          "text": [
            "{'accuracy': 0.7567, 'f1': 0.7851687098917554, 'precision': 0.8277145166740673, 'recall': 0.7567}\n"
          ]
        }
      ]
    },
    {
      "cell_type": "markdown",
      "source": [
        "**App on Yelp**"
      ],
      "metadata": {
        "id": "aEdevKjD7vxY"
      }
    },
    {
      "cell_type": "code",
      "execution_count": null,
      "metadata": {
        "id": "C8PUwfMqy_Nr",
        "colab": {
          "base_uri": "https://localhost:8080/",
          "height": 160
        },
        "outputId": "16c12a41-eede-49b7-ec2d-e491501f39e0"
      },
      "outputs": [
        {
          "output_type": "display_data",
          "data": {
            "text/plain": [
              "<IPython.core.display.HTML object>"
            ],
            "text/html": []
          },
          "metadata": {}
        },
        {
          "output_type": "execute_result",
          "data": {
            "text/plain": [
              "{'test_loss': 0.7901890873908997,\n",
              " 'test_accuracy': 0.6056,\n",
              " 'test_f1': 0.6271471618646064,\n",
              " 'test_precision': 0.7630474953195813,\n",
              " 'test_recall': 0.6056,\n",
              " 'test_runtime': 27.6829,\n",
              " 'test_samples_per_second': 361.234,\n",
              " 'test_steps_per_second': 11.307}"
            ]
          },
          "metadata": {},
          "execution_count": 77
        }
      ],
      "source": [
        "# Tuned app on yelp set\n",
        "preds_tuned_app_on_yelp_test = trainer_app.predict(yelp_reviews_final_encoded['test'])\n",
        "preds_tuned_app_on_yelp_test.metrics"
      ]
    },
    {
      "cell_type": "code",
      "source": [
        "# Accessing elements by index for a tuple return type\n",
        "predictions_app_on_yelp = preds_tuned_app_on_yelp_test[0]\n",
        "label_ids_app_on_yelp = preds_tuned_app_on_yelp_test[1]\n",
        "# The first element is the raw predictions (logits)\n",
        "# The second element is the label IDs,\n",
        "pred_app_on_yelp = {\n",
        "    'predictions': predictions_app_on_yelp,\n",
        "    'label_ids': label_ids_app_on_yelp\n",
        "}\n",
        "scores_app_on_yelp = compute_metrics(pred_app_on_yelp)\n",
        "# Print the custom metrics\n",
        "print(scores_app_on_yelp)\n"
      ],
      "metadata": {
        "id": "BT7VAE_40GpY",
        "colab": {
          "base_uri": "https://localhost:8080/"
        },
        "outputId": "c0130536-1254-43e3-ace1-9e792c56a5f2"
      },
      "execution_count": null,
      "outputs": [
        {
          "output_type": "stream",
          "name": "stdout",
          "text": [
            "{'accuracy': 0.6056, 'f1': 0.6271471618646064, 'precision': 0.7630474953195813, 'recall': 0.6056}\n"
          ]
        }
      ]
    },
    {
      "cell_type": "markdown",
      "source": [
        "**App on Product**"
      ],
      "metadata": {
        "id": "C1ngNUg47yP9"
      }
    },
    {
      "cell_type": "code",
      "execution_count": null,
      "metadata": {
        "id": "QPKURxlYy_Bj",
        "colab": {
          "base_uri": "https://localhost:8080/",
          "height": 160
        },
        "outputId": "fd4dfa51-15bd-48d9-91c2-332a2e0549c8"
      },
      "outputs": [
        {
          "output_type": "display_data",
          "data": {
            "text/plain": [
              "<IPython.core.display.HTML object>"
            ],
            "text/html": []
          },
          "metadata": {}
        },
        {
          "output_type": "execute_result",
          "data": {
            "text/plain": [
              "{'test_loss': 0.9456729292869568,\n",
              " 'test_accuracy': 0.5327,\n",
              " 'test_f1': 0.5630394663130017,\n",
              " 'test_precision': 0.7817784946932784,\n",
              " 'test_recall': 0.5327,\n",
              " 'test_runtime': 25.0382,\n",
              " 'test_samples_per_second': 399.39,\n",
              " 'test_steps_per_second': 12.501}"
            ]
          },
          "metadata": {},
          "execution_count": 81
        }
      ],
      "source": [
        "# Tuned app on product set\n",
        "preds_tuned_app_on_product_test = trainer_app.predict(product_reviews_final_encoded['test'])\n",
        "preds_tuned_app_on_product_test.metrics"
      ]
    },
    {
      "cell_type": "code",
      "source": [
        "# Accessing elements by index for a tuple return type\n",
        "predictions_app_on_product = preds_tuned_app_on_product_test[0]\n",
        "label_ids_app_on_product = preds_tuned_app_on_product_test[1]\n",
        "# The first element is the raw predictions (logits)\n",
        "# The second element is the label IDs,\n",
        "pred_app_on_product = {\n",
        "    'predictions': predictions_app_on_product,\n",
        "    'label_ids': label_ids_app_on_product\n",
        "}\n",
        "scores_app_on_product = compute_metrics(pred_app_on_product)\n",
        "# Print the custom metrics\n",
        "print(scores_app_on_product)\n"
      ],
      "metadata": {
        "id": "Dmq533Wt0vDE",
        "colab": {
          "base_uri": "https://localhost:8080/"
        },
        "outputId": "fd6a5236-76bf-4f9a-dbc4-6ac94be59bff"
      },
      "execution_count": null,
      "outputs": [
        {
          "output_type": "stream",
          "name": "stdout",
          "text": [
            "{'accuracy': 0.5327, 'f1': 0.5630394663130017, 'precision': 0.7817784946932784, 'recall': 0.5327}\n"
          ]
        }
      ]
    },
    {
      "cell_type": "markdown",
      "metadata": {
        "id": "EGTPKtGkh2hf"
      },
      "source": [
        "## Fine-tuned Product"
      ]
    },
    {
      "cell_type": "markdown",
      "source": [
        "**Product on Product**"
      ],
      "metadata": {
        "id": "B1l7rbZC8Hsa"
      }
    },
    {
      "cell_type": "code",
      "execution_count": null,
      "metadata": {
        "colab": {
          "base_uri": "https://localhost:8080/",
          "height": 160
        },
        "id": "zThvQ0jpcVy-",
        "outputId": "d07783b4-19c9-452d-e130-5bb803e7f592"
      },
      "outputs": [
        {
          "output_type": "display_data",
          "data": {
            "text/plain": [
              "<IPython.core.display.HTML object>"
            ],
            "text/html": []
          },
          "metadata": {}
        },
        {
          "output_type": "execute_result",
          "data": {
            "text/plain": [
              "{'test_loss': 0.4986144006252289,\n",
              " 'test_accuracy': 0.7895,\n",
              " 'test_f1': 0.7915513911600687,\n",
              " 'test_precision': 0.793918453196783,\n",
              " 'test_recall': 0.7895,\n",
              " 'test_runtime': 25.4607,\n",
              " 'test_samples_per_second': 392.762,\n",
              " 'test_steps_per_second': 12.293}"
            ]
          },
          "metadata": {},
          "execution_count": 77
        }
      ],
      "source": [
        "# Predictions on the product reviews test set\n",
        "preds_tuned_product_on_product_test = trainer_product.predict(product_reviews_final_encoded['test'])\n",
        "preds_tuned_product_on_product_test.metrics"
      ]
    },
    {
      "cell_type": "code",
      "source": [
        "# Accessing elements by index for a tuple return type\n",
        "predictions_product_on_product = preds_tuned_product_on_product_test[0]\n",
        "label_ids_product_on_product = preds_tuned_product_on_product_test[1]\n",
        "# The first element is the raw predictions (logits)\n",
        "# The second element is the label IDs,\n",
        "pred_product_on_product = {\n",
        "    'predictions': predictions_product_on_product,\n",
        "    'label_ids': label_ids_product_on_product\n",
        "}\n",
        "scores_product_on_product = compute_metrics(pred_product_on_product)\n",
        "# Print the custom metrics\n",
        "print(scores_product_on_product)\n"
      ],
      "metadata": {
        "colab": {
          "base_uri": "https://localhost:8080/"
        },
        "id": "uGRmhDLN1cYv",
        "outputId": "15fc547d-647a-4e8d-ee00-0f16ea5f2b69"
      },
      "execution_count": null,
      "outputs": [
        {
          "output_type": "stream",
          "name": "stdout",
          "text": [
            "{'accuracy': 0.7895, 'f1': 0.7915513911600687, 'precision': 0.793918453196783, 'recall': 0.7895}\n"
          ]
        }
      ]
    },
    {
      "cell_type": "markdown",
      "source": [
        "**Product on Yelp**"
      ],
      "metadata": {
        "id": "ELB--Iec8L-o"
      }
    },
    {
      "cell_type": "code",
      "execution_count": null,
      "metadata": {
        "id": "HMvuCOVpzRjt",
        "colab": {
          "base_uri": "https://localhost:8080/",
          "height": 160
        },
        "outputId": "3cfa1cc2-1341-4499-e750-c8ce68d78030"
      },
      "outputs": [
        {
          "output_type": "display_data",
          "data": {
            "text/plain": [
              "<IPython.core.display.HTML object>"
            ],
            "text/html": []
          },
          "metadata": {}
        },
        {
          "output_type": "execute_result",
          "data": {
            "text/plain": [
              "{'test_loss': 0.5951917767524719,\n",
              " 'test_accuracy': 0.7496,\n",
              " 'test_f1': 0.7408329247755171,\n",
              " 'test_precision': 0.7362724087839024,\n",
              " 'test_recall': 0.7496,\n",
              " 'test_runtime': 27.6987,\n",
              " 'test_samples_per_second': 361.027,\n",
              " 'test_steps_per_second': 11.3}"
            ]
          },
          "metadata": {},
          "execution_count": 79
        }
      ],
      "source": [
        "# Tuned product on yelp set\n",
        "preds_tuned_product_on_yelp_test = trainer_product.predict(yelp_reviews_final_encoded['test'])\n",
        "preds_tuned_product_on_yelp_test.metrics"
      ]
    },
    {
      "cell_type": "code",
      "source": [
        "# Accessing elements by index for a tuple return type\n",
        "predictions_product_on_yelp = preds_tuned_product_on_yelp_test[0]\n",
        "label_ids_product_on_yelp = preds_tuned_product_on_yelp_test[1]\n",
        "# The first element is the raw predictions (logits)\n",
        "# The second element is the label IDs,\n",
        "pred_product_on_yelp = {\n",
        "    'predictions': predictions_product_on_yelp,\n",
        "    'label_ids': label_ids_product_on_yelp\n",
        "}\n",
        "scores_product_on_yelp = compute_metrics(pred_product_on_yelp)\n",
        "# Print the custom metrics\n",
        "print(scores_product_on_yelp)\n"
      ],
      "metadata": {
        "colab": {
          "base_uri": "https://localhost:8080/"
        },
        "id": "6PjVMVow1pJZ",
        "outputId": "d7ef49e7-76db-4379-e7fc-f17838d55cb2"
      },
      "execution_count": null,
      "outputs": [
        {
          "output_type": "stream",
          "name": "stdout",
          "text": [
            "{'accuracy': 0.7496, 'f1': 0.7408329247755171, 'precision': 0.7362724087839024, 'recall': 0.7496}\n"
          ]
        }
      ]
    },
    {
      "cell_type": "markdown",
      "source": [
        "**Product on App**"
      ],
      "metadata": {
        "id": "jtDDXXGH8PLb"
      }
    },
    {
      "cell_type": "code",
      "execution_count": null,
      "metadata": {
        "id": "juFrn-ArzRe_",
        "colab": {
          "base_uri": "https://localhost:8080/",
          "height": 160
        },
        "outputId": "4e0fe616-ebca-45d4-ef61-0fdd71a257dc"
      },
      "outputs": [
        {
          "output_type": "display_data",
          "data": {
            "text/plain": [
              "<IPython.core.display.HTML object>"
            ],
            "text/html": []
          },
          "metadata": {}
        },
        {
          "output_type": "execute_result",
          "data": {
            "text/plain": [
              "{'test_loss': 0.7379652857780457,\n",
              " 'test_accuracy': 0.7251,\n",
              " 'test_f1': 0.743593948999537,\n",
              " 'test_precision': 0.7847082476816891,\n",
              " 'test_recall': 0.7251,\n",
              " 'test_runtime': 33.179,\n",
              " 'test_samples_per_second': 301.396,\n",
              " 'test_steps_per_second': 9.434}"
            ]
          },
          "metadata": {},
          "execution_count": 81
        }
      ],
      "source": [
        "# Tuned product on app set\n",
        "preds_tuned_product_on_app_test = trainer_product.predict(app_reviews_final_encoded['test'])\n",
        "preds_tuned_product_on_app_test.metrics"
      ]
    },
    {
      "cell_type": "code",
      "source": [
        "# Accessing elements by index for a tuple return type\n",
        "predictions_product_on_app = preds_tuned_product_on_app_test[0]\n",
        "label_ids_product_on_app = preds_tuned_product_on_app_test[1]\n",
        "# The first element is the raw predictions (logits)\n",
        "# The second element is the label IDs,\n",
        "pred_product_on_app = {\n",
        "    'predictions': predictions_product_on_app,\n",
        "    'label_ids': label_ids_product_on_app\n",
        "}\n",
        "scores_product_on_app = compute_metrics(pred_product_on_app)\n",
        "# Print the custom metrics\n",
        "print(scores_product_on_app)\n"
      ],
      "metadata": {
        "colab": {
          "base_uri": "https://localhost:8080/"
        },
        "id": "EY0nENe910J7",
        "outputId": "b2005037-a724-41ca-ad18-f23d449ee905"
      },
      "execution_count": null,
      "outputs": [
        {
          "output_type": "stream",
          "name": "stdout",
          "text": [
            "{'accuracy': 0.7251, 'f1': 0.743593948999537, 'precision': 0.7847082476816891, 'recall': 0.7251}\n"
          ]
        }
      ]
    },
    {
      "cell_type": "markdown",
      "source": [
        "# Plots"
      ],
      "metadata": {
        "id": "syGO983J79mq"
      }
    },
    {
      "cell_type": "code",
      "source": [
        "import matplotlib.pyplot as plt\n",
        "import numpy as np\n",
        "\n",
        "# F1 scores for each model across three datasets\n",
        "f1_scores = {\n",
        "    'Zero-shot': [0.57, 0.77, 0.59],\n",
        "    'Fine-tuned (Yelp)': [0.78, 0.72, 0.71],\n",
        "    'Fine-tuned (App)': [0.63, 0.79, 0.56],\n",
        "    'Fine-tuned (Product)': [0.74, 0.74, 0.79]\n",
        "}\n",
        "\n",
        "# Datasets\n",
        "datasets = ['Yelp Reviews', 'App Reviews', 'Product Reviews']\n",
        "\n",
        "# Set up the figure and axis\n",
        "fig, ax = plt.subplots(figsize=(10, 6))\n",
        "\n",
        "\n",
        "# Set width of bars\n",
        "bar_width = 0.2\n",
        "\n",
        "# Set up positions for the bars\n",
        "index = np.arange(len(datasets))\n",
        "\n",
        "# Define colors for the bars\n",
        "colors = ['blue', 'green', 'red', 'purple']\n",
        "\n",
        "models = list(f1_scores.keys())\n",
        "handles = []  # to store custom legend handles\n",
        "for i, model in enumerate(models):\n",
        "    bar = plt.bar(index + i * bar_width, f1_scores[model], bar_width, label=model, color=colors[i], alpha=0.7, edgecolor='black')\n",
        "    handles.append(bar[0])  # append the bar as a custom legend handle\n",
        "    for j, score in enumerate(f1_scores[model]):\n",
        "        plt.text(index[j] + i * bar_width, score + 0.01, str(score), ha='center')\n",
        "\n",
        "# Plot an invisible bar to use as a custom legend handle\n",
        "invisible_bar = plt.bar(0, 0, color='white', hatch='', alpha=0)\n",
        "handles.append(invisible_bar[0])\n",
        "\n",
        "# Create legend with custom handles\n",
        "plt.legend(handles, models + [''], loc='upper right')\n",
        "\n",
        "\n",
        "\n",
        "# Labeling\n",
        "ax.set_xlabel('Dataset')\n",
        "ax.set_ylabel('F1 Score (weighted)')\n",
        "ax.set_title('F1 Scores by Model per Dataset')\n",
        "ax.set_xticks(index + bar_width * (len(models) - 1) / 2)\n",
        "ax.set_xticklabels(datasets)\n",
        "ax.set_ylim(0, 1)  # Set y-axis limit to 1\n",
        "ax.legend(loc='upper left', prop={'size': 9})  # Adjust legend size\n",
        "\n",
        "plt.tight_layout()\n",
        "\n",
        "plt.show()\n"
      ],
      "metadata": {
        "id": "qY8bZ9opTnz4",
        "colab": {
          "base_uri": "https://localhost:8080/",
          "height": 607
        },
        "outputId": "18f7a4b4-24f0-4836-db58-32ad57615007"
      },
      "execution_count": null,
      "outputs": [
        {
          "output_type": "display_data",
          "data": {
            "text/plain": [
              "<Figure size 1000x600 with 1 Axes>"
            ],
            "image/png": "[encoded data removed]"
          },
          "metadata": {}
        }
      ]
    },
    {
      "cell_type": "code",
      "source": [],
      "metadata": {
        "id": "nuMtwIrX8F_g"
      },
      "execution_count": null,
      "outputs": []
    }
  ],
  "metadata": {
    "accelerator": "GPU",
    "colab": {
      "gpuType": "V100",
      "provenance": []
    },
    "kernelspec": {
      "display_name": "Python 3",
      "name": "python3"
    },
    "language_info": {
      "name": "python"
    },
    "widgets": {
      "application/vnd.jupyter.widget-state+json": {
        "1788b3ee35e74658819a5a106227076d": {
          "model_module": "@jupyter-widgets/controls",
          "model_name": "HBoxModel",
          "model_module_version": "1.5.0",
          "state": {
            "_dom_classes": [],
            "_model_module": "@jupyter-widgets/controls",
            "_model_module_version": "1.5.0",
            "_model_name": "HBoxModel",
            "_view_count": null,
            "_view_module": "@jupyter-widgets/controls",
            "_view_module_version": "1.5.0",
            "_view_name": "HBoxView",
            "box_style": "",
            "children": [
              "IPY_MODEL_d9f583e3a5c749d195ce825013d047f9",
              "IPY_MODEL_3c4b5b6f92b24fc399e60a991d4c3af9",
              "IPY_MODEL_bf2f3b2d5fc9432cb4a37a9bba13b8ae"
            ],
            "layout": "IPY_MODEL_13ab4f1191f24f0392603bd15f11684f"
          }
        },
        "d9f583e3a5c749d195ce825013d047f9": {
          "model_module": "@jupyter-widgets/controls",
          "model_name": "HTMLModel",
          "model_module_version": "1.5.0",
          "state": {
            "_dom_classes": [],
            "_model_module": "@jupyter-widgets/controls",
            "_model_module_version": "1.5.0",
            "_model_name": "HTMLModel",
            "_view_count": null,
            "_view_module": "@jupyter-widgets/controls",
            "_view_module_version": "1.5.0",
            "_view_name": "HTMLView",
            "description": "",
            "description_tooltip": null,
            "layout": "IPY_MODEL_5f9ec544a41342a0b915840ab1eadb89",
            "placeholder": "​",
            "style": "IPY_MODEL_b9fd6bb9fc934fcab6c68d8fc5f0e7b0",
            "value": "Map: 100%"
          }
        },
        "3c4b5b6f92b24fc399e60a991d4c3af9": {
          "model_module": "@jupyter-widgets/controls",
          "model_name": "FloatProgressModel",
          "model_module_version": "1.5.0",
          "state": {
            "_dom_classes": [],
            "_model_module": "@jupyter-widgets/controls",
            "_model_module_version": "1.5.0",
            "_model_name": "FloatProgressModel",
            "_view_count": null,
            "_view_module": "@jupyter-widgets/controls",
            "_view_module_version": "1.5.0",
            "_view_name": "ProgressView",
            "bar_style": "success",
            "description": "",
            "description_tooltip": null,
            "layout": "IPY_MODEL_cd2219b2287746a78b60e4129881e430",
            "max": 30000,
            "min": 0,
            "orientation": "horizontal",
            "style": "IPY_MODEL_7ca31ae67634492a858ffec5e546b480",
            "value": 30000
          }
        },
        "bf2f3b2d5fc9432cb4a37a9bba13b8ae": {
          "model_module": "@jupyter-widgets/controls",
          "model_name": "HTMLModel",
          "model_module_version": "1.5.0",
          "state": {
            "_dom_classes": [],
            "_model_module": "@jupyter-widgets/controls",
            "_model_module_version": "1.5.0",
            "_model_name": "HTMLModel",
            "_view_count": null,
            "_view_module": "@jupyter-widgets/controls",
            "_view_module_version": "1.5.0",
            "_view_name": "HTMLView",
            "description": "",
            "description_tooltip": null,
            "layout": "IPY_MODEL_b7b86ff605ab4a9cb918cb28ce215f01",
            "placeholder": "​",
            "style": "IPY_MODEL_4dce776badf34d2197973d56fcada26a",
            "value": " 30000/30000 [00:22&lt;00:00, 1596.34 examples/s]"
          }
        },
        "13ab4f1191f24f0392603bd15f11684f": {
          "model_module": "@jupyter-widgets/base",
          "model_name": "LayoutModel",
          "model_module_version": "1.2.0",
          "state": {
            "_model_module": "@jupyter-widgets/base",
            "_model_module_version": "1.2.0",
            "_model_name": "LayoutModel",
            "_view_count": null,
            "_view_module": "@jupyter-widgets/base",
            "_view_module_version": "1.2.0",
            "_view_name": "LayoutView",
            "align_content": null,
            "align_items": null,
            "align_self": null,
            "border": null,
            "bottom": null,
            "display": null,
            "flex": null,
            "flex_flow": null,
            "grid_area": null,
            "grid_auto_columns": null,
            "grid_auto_flow": null,
            "grid_auto_rows": null,
            "grid_column": null,
            "grid_gap": null,
            "grid_row": null,
            "grid_template_areas": null,
            "grid_template_columns": null,
            "grid_template_rows": null,
            "height": null,
            "justify_content": null,
            "justify_items": null,
            "left": null,
            "margin": null,
            "max_height": null,
            "max_width": null,
            "min_height": null,
            "min_width": null,
            "object_fit": null,
            "object_position": null,
            "order": null,
            "overflow": null,
            "overflow_x": null,
            "overflow_y": null,
            "padding": null,
            "right": null,
            "top": null,
            "visibility": null,
            "width": null
          }
        },
        "5f9ec544a41342a0b915840ab1eadb89": {
          "model_module": "@jupyter-widgets/base",
          "model_name": "LayoutModel",
          "model_module_version": "1.2.0",
          "state": {
            "_model_module": "@jupyter-widgets/base",
            "_model_module_version": "1.2.0",
            "_model_name": "LayoutModel",
            "_view_count": null,
            "_view_module": "@jupyter-widgets/base",
            "_view_module_version": "1.2.0",
            "_view_name": "LayoutView",
            "align_content": null,
            "align_items": null,
            "align_self": null,
            "border": null,
            "bottom": null,
            "display": null,
            "flex": null,
            "flex_flow": null,
            "grid_area": null,
            "grid_auto_columns": null,
            "grid_auto_flow": null,
            "grid_auto_rows": null,
            "grid_column": null,
            "grid_gap": null,
            "grid_row": null,
            "grid_template_areas": null,
            "grid_template_columns": null,
            "grid_template_rows": null,
            "height": null,
            "justify_content": null,
            "justify_items": null,
            "left": null,
            "margin": null,
            "max_height": null,
            "max_width": null,
            "min_height": null,
            "min_width": null,
            "object_fit": null,
            "object_position": null,
            "order": null,
            "overflow": null,
            "overflow_x": null,
            "overflow_y": null,
            "padding": null,
            "right": null,
            "top": null,
            "visibility": null,
            "width": null
          }
        },
        "b9fd6bb9fc934fcab6c68d8fc5f0e7b0": {
          "model_module": "@jupyter-widgets/controls",
          "model_name": "DescriptionStyleModel",
          "model_module_version": "1.5.0",
          "state": {
            "_model_module": "@jupyter-widgets/controls",
            "_model_module_version": "1.5.0",
            "_model_name": "DescriptionStyleModel",
            "_view_count": null,
            "_view_module": "@jupyter-widgets/base",
            "_view_module_version": "1.2.0",
            "_view_name": "StyleView",
            "description_width": ""
          }
        },
        "cd2219b2287746a78b60e4129881e430": {
          "model_module": "@jupyter-widgets/base",
          "model_name": "LayoutModel",
          "model_module_version": "1.2.0",
          "state": {
            "_model_module": "@jupyter-widgets/base",
            "_model_module_version": "1.2.0",
            "_model_name": "LayoutModel",
            "_view_count": null,
            "_view_module": "@jupyter-widgets/base",
            "_view_module_version": "1.2.0",
            "_view_name": "LayoutView",
            "align_content": null,
            "align_items": null,
            "align_self": null,
            "border": null,
            "bottom": null,
            "display": null,
            "flex": null,
            "flex_flow": null,
            "grid_area": null,
            "grid_auto_columns": null,
            "grid_auto_flow": null,
            "grid_auto_rows": null,
            "grid_column": null,
            "grid_gap": null,
            "grid_row": null,
            "grid_template_areas": null,
            "grid_template_columns": null,
            "grid_template_rows": null,
            "height": null,
            "justify_content": null,
            "justify_items": null,
            "left": null,
            "margin": null,
            "max_height": null,
            "max_width": null,
            "min_height": null,
            "min_width": null,
            "object_fit": null,
            "object_position": null,
            "order": null,
            "overflow": null,
            "overflow_x": null,
            "overflow_y": null,
            "padding": null,
            "right": null,
            "top": null,
            "visibility": null,
            "width": null
          }
        },
        "7ca31ae67634492a858ffec5e546b480": {
          "model_module": "@jupyter-widgets/controls",
          "model_name": "ProgressStyleModel",
          "model_module_version": "1.5.0",
          "state": {
            "_model_module": "@jupyter-widgets/controls",
            "_model_module_version": "1.5.0",
            "_model_name": "ProgressStyleModel",
            "_view_count": null,
            "_view_module": "@jupyter-widgets/base",
            "_view_module_version": "1.2.0",
            "_view_name": "StyleView",
            "bar_color": null,
            "description_width": ""
          }
        },
        "b7b86ff605ab4a9cb918cb28ce215f01": {
          "model_module": "@jupyter-widgets/base",
          "model_name": "LayoutModel",
          "model_module_version": "1.2.0",
          "state": {
            "_model_module": "@jupyter-widgets/base",
            "_model_module_version": "1.2.0",
            "_model_name": "LayoutModel",
            "_view_count": null,
            "_view_module": "@jupyter-widgets/base",
            "_view_module_version": "1.2.0",
            "_view_name": "LayoutView",
            "align_content": null,
            "align_items": null,
            "align_self": null,
            "border": null,
            "bottom": null,
            "display": null,
            "flex": null,
            "flex_flow": null,
            "grid_area": null,
            "grid_auto_columns": null,
            "grid_auto_flow": null,
            "grid_auto_rows": null,
            "grid_column": null,
            "grid_gap": null,
            "grid_row": null,
            "grid_template_areas": null,
            "grid_template_columns": null,
            "grid_template_rows": null,
            "height": null,
            "justify_content": null,
            "justify_items": null,
            "left": null,
            "margin": null,
            "max_height": null,
            "max_width": null,
            "min_height": null,
            "min_width": null,
            "object_fit": null,
            "object_position": null,
            "order": null,
            "overflow": null,
            "overflow_x": null,
            "overflow_y": null,
            "padding": null,
            "right": null,
            "top": null,
            "visibility": null,
            "width": null
          }
        },
        "4dce776badf34d2197973d56fcada26a": {
          "model_module": "@jupyter-widgets/controls",
          "model_name": "DescriptionStyleModel",
          "model_module_version": "1.5.0",
          "state": {
            "_model_module": "@jupyter-widgets/controls",
            "_model_module_version": "1.5.0",
            "_model_name": "DescriptionStyleModel",
            "_view_count": null,
            "_view_module": "@jupyter-widgets/base",
            "_view_module_version": "1.2.0",
            "_view_name": "StyleView",
            "description_width": ""
          }
        },
        "c35a5edb07324aa88275e0cadfdbb596": {
          "model_module": "@jupyter-widgets/controls",
          "model_name": "HBoxModel",
          "model_module_version": "1.5.0",
          "state": {
            "_dom_classes": [],
            "_model_module": "@jupyter-widgets/controls",
            "_model_module_version": "1.5.0",
            "_model_name": "HBoxModel",
            "_view_count": null,
            "_view_module": "@jupyter-widgets/controls",
            "_view_module_version": "1.5.0",
            "_view_name": "HBoxView",
            "box_style": "",
            "children": [
              "IPY_MODEL_6fbc36b7939b45fc8650b1ef9022e84c",
              "IPY_MODEL_001849248ade49debcf4fd46dd0ba3df",
              "IPY_MODEL_482eee0caa2f4a28967e59a04bbfbe3c"
            ],
            "layout": "IPY_MODEL_731d488d6b7a4f0c849734d6bcf3cde3"
          }
        },
        "6fbc36b7939b45fc8650b1ef9022e84c": {
          "model_module": "@jupyter-widgets/controls",
          "model_name": "HTMLModel",
          "model_module_version": "1.5.0",
          "state": {
            "_dom_classes": [],
            "_model_module": "@jupyter-widgets/controls",
            "_model_module_version": "1.5.0",
            "_model_name": "HTMLModel",
            "_view_count": null,
            "_view_module": "@jupyter-widgets/controls",
            "_view_module_version": "1.5.0",
            "_view_name": "HTMLView",
            "description": "",
            "description_tooltip": null,
            "layout": "IPY_MODEL_1c377d077b124224bb3789a9d18f5185",
            "placeholder": "​",
            "style": "IPY_MODEL_34db9581c2ab475b940770497bb0eb51",
            "value": "Map: 100%"
          }
        },
        "001849248ade49debcf4fd46dd0ba3df": {
          "model_module": "@jupyter-widgets/controls",
          "model_name": "FloatProgressModel",
          "model_module_version": "1.5.0",
          "state": {
            "_dom_classes": [],
            "_model_module": "@jupyter-widgets/controls",
            "_model_module_version": "1.5.0",
            "_model_name": "FloatProgressModel",
            "_view_count": null,
            "_view_module": "@jupyter-widgets/controls",
            "_view_module_version": "1.5.0",
            "_view_name": "ProgressView",
            "bar_style": "success",
            "description": "",
            "description_tooltip": null,
            "layout": "IPY_MODEL_f64d0225a1734a1b94aa5aac3665e235",
            "max": 10000,
            "min": 0,
            "orientation": "horizontal",
            "style": "IPY_MODEL_631de77360be48798af3cfc488a29a5e",
            "value": 10000
          }
        },
        "482eee0caa2f4a28967e59a04bbfbe3c": {
          "model_module": "@jupyter-widgets/controls",
          "model_name": "HTMLModel",
          "model_module_version": "1.5.0",
          "state": {
            "_dom_classes": [],
            "_model_module": "@jupyter-widgets/controls",
            "_model_module_version": "1.5.0",
            "_model_name": "HTMLModel",
            "_view_count": null,
            "_view_module": "@jupyter-widgets/controls",
            "_view_module_version": "1.5.0",
            "_view_name": "HTMLView",
            "description": "",
            "description_tooltip": null,
            "layout": "IPY_MODEL_f6276a65d59742e1a331348ecc92315a",
            "placeholder": "​",
            "style": "IPY_MODEL_b3043b07403e4154b6a71685f481c8ff",
            "value": " 10000/10000 [00:06&lt;00:00, 1518.42 examples/s]"
          }
        },
        "731d488d6b7a4f0c849734d6bcf3cde3": {
          "model_module": "@jupyter-widgets/base",
          "model_name": "LayoutModel",
          "model_module_version": "1.2.0",
          "state": {
            "_model_module": "@jupyter-widgets/base",
            "_model_module_version": "1.2.0",
            "_model_name": "LayoutModel",
            "_view_count": null,
            "_view_module": "@jupyter-widgets/base",
            "_view_module_version": "1.2.0",
            "_view_name": "LayoutView",
            "align_content": null,
            "align_items": null,
            "align_self": null,
            "border": null,
            "bottom": null,
            "display": null,
            "flex": null,
            "flex_flow": null,
            "grid_area": null,
            "grid_auto_columns": null,
            "grid_auto_flow": null,
            "grid_auto_rows": null,
            "grid_column": null,
            "grid_gap": null,
            "grid_row": null,
            "grid_template_areas": null,
            "grid_template_columns": null,
            "grid_template_rows": null,
            "height": null,
            "justify_content": null,
            "justify_items": null,
            "left": null,
            "margin": null,
            "max_height": null,
            "max_width": null,
            "min_height": null,
            "min_width": null,
            "object_fit": null,
            "object_position": null,
            "order": null,
            "overflow": null,
            "overflow_x": null,
            "overflow_y": null,
            "padding": null,
            "right": null,
            "top": null,
            "visibility": null,
            "width": null
          }
        },
        "1c377d077b124224bb3789a9d18f5185": {
          "model_module": "@jupyter-widgets/base",
          "model_name": "LayoutModel",
          "model_module_version": "1.2.0",
          "state": {
            "_model_module": "@jupyter-widgets/base",
            "_model_module_version": "1.2.0",
            "_model_name": "LayoutModel",
            "_view_count": null,
            "_view_module": "@jupyter-widgets/base",
            "_view_module_version": "1.2.0",
            "_view_name": "LayoutView",
            "align_content": null,
            "align_items": null,
            "align_self": null,
            "border": null,
            "bottom": null,
            "display": null,
            "flex": null,
            "flex_flow": null,
            "grid_area": null,
            "grid_auto_columns": null,
            "grid_auto_flow": null,
            "grid_auto_rows": null,
            "grid_column": null,
            "grid_gap": null,
            "grid_row": null,
            "grid_template_areas": null,
            "grid_template_columns": null,
            "grid_template_rows": null,
            "height": null,
            "justify_content": null,
            "justify_items": null,
            "left": null,
            "margin": null,
            "max_height": null,
            "max_width": null,
            "min_height": null,
            "min_width": null,
            "object_fit": null,
            "object_position": null,
            "order": null,
            "overflow": null,
            "overflow_x": null,
            "overflow_y": null,
            "padding": null,
            "right": null,
            "top": null,
            "visibility": null,
            "width": null
          }
        },
        "34db9581c2ab475b940770497bb0eb51": {
          "model_module": "@jupyter-widgets/controls",
          "model_name": "DescriptionStyleModel",
          "model_module_version": "1.5.0",
          "state": {
            "_model_module": "@jupyter-widgets/controls",
            "_model_module_version": "1.5.0",
            "_model_name": "DescriptionStyleModel",
            "_view_count": null,
            "_view_module": "@jupyter-widgets/base",
            "_view_module_version": "1.2.0",
            "_view_name": "StyleView",
            "description_width": ""
          }
        },
        "f64d0225a1734a1b94aa5aac3665e235": {
          "model_module": "@jupyter-widgets/base",
          "model_name": "LayoutModel",
          "model_module_version": "1.2.0",
          "state": {
            "_model_module": "@jupyter-widgets/base",
            "_model_module_version": "1.2.0",
            "_model_name": "LayoutModel",
            "_view_count": null,
            "_view_module": "@jupyter-widgets/base",
            "_view_module_version": "1.2.0",
            "_view_name": "LayoutView",
            "align_content": null,
            "align_items": null,
            "align_self": null,
            "border": null,
            "bottom": null,
            "display": null,
            "flex": null,
            "flex_flow": null,
            "grid_area": null,
            "grid_auto_columns": null,
            "grid_auto_flow": null,
            "grid_auto_rows": null,
            "grid_column": null,
            "grid_gap": null,
            "grid_row": null,
            "grid_template_areas": null,
            "grid_template_columns": null,
            "grid_template_rows": null,
            "height": null,
            "justify_content": null,
            "justify_items": null,
            "left": null,
            "margin": null,
            "max_height": null,
            "max_width": null,
            "min_height": null,
            "min_width": null,
            "object_fit": null,
            "object_position": null,
            "order": null,
            "overflow": null,
            "overflow_x": null,
            "overflow_y": null,
            "padding": null,
            "right": null,
            "top": null,
            "visibility": null,
            "width": null
          }
        },
        "631de77360be48798af3cfc488a29a5e": {
          "model_module": "@jupyter-widgets/controls",
          "model_name": "ProgressStyleModel",
          "model_module_version": "1.5.0",
          "state": {
            "_model_module": "@jupyter-widgets/controls",
            "_model_module_version": "1.5.0",
            "_model_name": "ProgressStyleModel",
            "_view_count": null,
            "_view_module": "@jupyter-widgets/base",
            "_view_module_version": "1.2.0",
            "_view_name": "StyleView",
            "bar_color": null,
            "description_width": ""
          }
        },
        "f6276a65d59742e1a331348ecc92315a": {
          "model_module": "@jupyter-widgets/base",
          "model_name": "LayoutModel",
          "model_module_version": "1.2.0",
          "state": {
            "_model_module": "@jupyter-widgets/base",
            "_model_module_version": "1.2.0",
            "_model_name": "LayoutModel",
            "_view_count": null,
            "_view_module": "@jupyter-widgets/base",
            "_view_module_version": "1.2.0",
            "_view_name": "LayoutView",
            "align_content": null,
            "align_items": null,
            "align_self": null,
            "border": null,
            "bottom": null,
            "display": null,
            "flex": null,
            "flex_flow": null,
            "grid_area": null,
            "grid_auto_columns": null,
            "grid_auto_flow": null,
            "grid_auto_rows": null,
            "grid_column": null,
            "grid_gap": null,
            "grid_row": null,
            "grid_template_areas": null,
            "grid_template_columns": null,
            "grid_template_rows": null,
            "height": null,
            "justify_content": null,
            "justify_items": null,
            "left": null,
            "margin": null,
            "max_height": null,
            "max_width": null,
            "min_height": null,
            "min_width": null,
            "object_fit": null,
            "object_position": null,
            "order": null,
            "overflow": null,
            "overflow_x": null,
            "overflow_y": null,
            "padding": null,
            "right": null,
            "top": null,
            "visibility": null,
            "width": null
          }
        },
        "b3043b07403e4154b6a71685f481c8ff": {
          "model_module": "@jupyter-widgets/controls",
          "model_name": "DescriptionStyleModel",
          "model_module_version": "1.5.0",
          "state": {
            "_model_module": "@jupyter-widgets/controls",
            "_model_module_version": "1.5.0",
            "_model_name": "DescriptionStyleModel",
            "_view_count": null,
            "_view_module": "@jupyter-widgets/base",
            "_view_module_version": "1.2.0",
            "_view_name": "StyleView",
            "description_width": ""
          }
        },
        "84e6060e6f404184b8729cb7e1d0416a": {
          "model_module": "@jupyter-widgets/controls",
          "model_name": "HBoxModel",
          "model_module_version": "1.5.0",
          "state": {
            "_dom_classes": [],
            "_model_module": "@jupyter-widgets/controls",
            "_model_module_version": "1.5.0",
            "_model_name": "HBoxModel",
            "_view_count": null,
            "_view_module": "@jupyter-widgets/controls",
            "_view_module_version": "1.5.0",
            "_view_name": "HBoxView",
            "box_style": "",
            "children": [
              "IPY_MODEL_65f58d5b1cd841bd9071afbf62c26cfd",
              "IPY_MODEL_6df29b277d3c496dbabf738c82e88a90",
              "IPY_MODEL_851e64f152c64ff6af3af2675f58a67c"
            ],
            "layout": "IPY_MODEL_112c026b71024facbc3064c3fff4e797"
          }
        },
        "65f58d5b1cd841bd9071afbf62c26cfd": {
          "model_module": "@jupyter-widgets/controls",
          "model_name": "HTMLModel",
          "model_module_version": "1.5.0",
          "state": {
            "_dom_classes": [],
            "_model_module": "@jupyter-widgets/controls",
            "_model_module_version": "1.5.0",
            "_model_name": "HTMLModel",
            "_view_count": null,
            "_view_module": "@jupyter-widgets/controls",
            "_view_module_version": "1.5.0",
            "_view_name": "HTMLView",
            "description": "",
            "description_tooltip": null,
            "layout": "IPY_MODEL_c7cfc79ca9ad4de389a2264031408c6c",
            "placeholder": "​",
            "style": "IPY_MODEL_071e750a52014860b9d7167d9cbd9128",
            "value": "Map: 100%"
          }
        },
        "6df29b277d3c496dbabf738c82e88a90": {
          "model_module": "@jupyter-widgets/controls",
          "model_name": "FloatProgressModel",
          "model_module_version": "1.5.0",
          "state": {
            "_dom_classes": [],
            "_model_module": "@jupyter-widgets/controls",
            "_model_module_version": "1.5.0",
            "_model_name": "FloatProgressModel",
            "_view_count": null,
            "_view_module": "@jupyter-widgets/controls",
            "_view_module_version": "1.5.0",
            "_view_name": "ProgressView",
            "bar_style": "success",
            "description": "",
            "description_tooltip": null,
            "layout": "IPY_MODEL_d8f4bb7b84364c9c90da5c036f0c9756",
            "max": 10000,
            "min": 0,
            "orientation": "horizontal",
            "style": "IPY_MODEL_78414a8a10e44ef28d2efec8b24f1598",
            "value": 10000
          }
        },
        "851e64f152c64ff6af3af2675f58a67c": {
          "model_module": "@jupyter-widgets/controls",
          "model_name": "HTMLModel",
          "model_module_version": "1.5.0",
          "state": {
            "_dom_classes": [],
            "_model_module": "@jupyter-widgets/controls",
            "_model_module_version": "1.5.0",
            "_model_name": "HTMLModel",
            "_view_count": null,
            "_view_module": "@jupyter-widgets/controls",
            "_view_module_version": "1.5.0",
            "_view_name": "HTMLView",
            "description": "",
            "description_tooltip": null,
            "layout": "IPY_MODEL_39bae684957a4fb7aa6c1a0a67b2ff9e",
            "placeholder": "​",
            "style": "IPY_MODEL_5034e24f33ca41fab9dc5de28767be22",
            "value": " 10000/10000 [00:07&lt;00:00, 1557.72 examples/s]"
          }
        },
        "112c026b71024facbc3064c3fff4e797": {
          "model_module": "@jupyter-widgets/base",
          "model_name": "LayoutModel",
          "model_module_version": "1.2.0",
          "state": {
            "_model_module": "@jupyter-widgets/base",
            "_model_module_version": "1.2.0",
            "_model_name": "LayoutModel",
            "_view_count": null,
            "_view_module": "@jupyter-widgets/base",
            "_view_module_version": "1.2.0",
            "_view_name": "LayoutView",
            "align_content": null,
            "align_items": null,
            "align_self": null,
            "border": null,
            "bottom": null,
            "display": null,
            "flex": null,
            "flex_flow": null,
            "grid_area": null,
            "grid_auto_columns": null,
            "grid_auto_flow": null,
            "grid_auto_rows": null,
            "grid_column": null,
            "grid_gap": null,
            "grid_row": null,
            "grid_template_areas": null,
            "grid_template_columns": null,
            "grid_template_rows": null,
            "height": null,
            "justify_content": null,
            "justify_items": null,
            "left": null,
            "margin": null,
            "max_height": null,
            "max_width": null,
            "min_height": null,
            "min_width": null,
            "object_fit": null,
            "object_position": null,
            "order": null,
            "overflow": null,
            "overflow_x": null,
            "overflow_y": null,
            "padding": null,
            "right": null,
            "top": null,
            "visibility": null,
            "width": null
          }
        },
        "c7cfc79ca9ad4de389a2264031408c6c": {
          "model_module": "@jupyter-widgets/base",
          "model_name": "LayoutModel",
          "model_module_version": "1.2.0",
          "state": {
            "_model_module": "@jupyter-widgets/base",
            "_model_module_version": "1.2.0",
            "_model_name": "LayoutModel",
            "_view_count": null,
            "_view_module": "@jupyter-widgets/base",
            "_view_module_version": "1.2.0",
            "_view_name": "LayoutView",
            "align_content": null,
            "align_items": null,
            "align_self": null,
            "border": null,
            "bottom": null,
            "display": null,
            "flex": null,
            "flex_flow": null,
            "grid_area": null,
            "grid_auto_columns": null,
            "grid_auto_flow": null,
            "grid_auto_rows": null,
            "grid_column": null,
            "grid_gap": null,
            "grid_row": null,
            "grid_template_areas": null,
            "grid_template_columns": null,
            "grid_template_rows": null,
            "height": null,
            "justify_content": null,
            "justify_items": null,
            "left": null,
            "margin": null,
            "max_height": null,
            "max_width": null,
            "min_height": null,
            "min_width": null,
            "object_fit": null,
            "object_position": null,
            "order": null,
            "overflow": null,
            "overflow_x": null,
            "overflow_y": null,
            "padding": null,
            "right": null,
            "top": null,
            "visibility": null,
            "width": null
          }
        },
        "071e750a52014860b9d7167d9cbd9128": {
          "model_module": "@jupyter-widgets/controls",
          "model_name": "DescriptionStyleModel",
          "model_module_version": "1.5.0",
          "state": {
            "_model_module": "@jupyter-widgets/controls",
            "_model_module_version": "1.5.0",
            "_model_name": "DescriptionStyleModel",
            "_view_count": null,
            "_view_module": "@jupyter-widgets/base",
            "_view_module_version": "1.2.0",
            "_view_name": "StyleView",
            "description_width": ""
          }
        },
        "d8f4bb7b84364c9c90da5c036f0c9756": {
          "model_module": "@jupyter-widgets/base",
          "model_name": "LayoutModel",
          "model_module_version": "1.2.0",
          "state": {
            "_model_module": "@jupyter-widgets/base",
            "_model_module_version": "1.2.0",
            "_model_name": "LayoutModel",
            "_view_count": null,
            "_view_module": "@jupyter-widgets/base",
            "_view_module_version": "1.2.0",
            "_view_name": "LayoutView",
            "align_content": null,
            "align_items": null,
            "align_self": null,
            "border": null,
            "bottom": null,
            "display": null,
            "flex": null,
            "flex_flow": null,
            "grid_area": null,
            "grid_auto_columns": null,
            "grid_auto_flow": null,
            "grid_auto_rows": null,
            "grid_column": null,
            "grid_gap": null,
            "grid_row": null,
            "grid_template_areas": null,
            "grid_template_columns": null,
            "grid_template_rows": null,
            "height": null,
            "justify_content": null,
            "justify_items": null,
            "left": null,
            "margin": null,
            "max_height": null,
            "max_width": null,
            "min_height": null,
            "min_width": null,
            "object_fit": null,
            "object_position": null,
            "order": null,
            "overflow": null,
            "overflow_x": null,
            "overflow_y": null,
            "padding": null,
            "right": null,
            "top": null,
            "visibility": null,
            "width": null
          }
        },
        "78414a8a10e44ef28d2efec8b24f1598": {
          "model_module": "@jupyter-widgets/controls",
          "model_name": "ProgressStyleModel",
          "model_module_version": "1.5.0",
          "state": {
            "_model_module": "@jupyter-widgets/controls",
            "_model_module_version": "1.5.0",
            "_model_name": "ProgressStyleModel",
            "_view_count": null,
            "_view_module": "@jupyter-widgets/base",
            "_view_module_version": "1.2.0",
            "_view_name": "StyleView",
            "bar_color": null,
            "description_width": ""
          }
        },
        "39bae684957a4fb7aa6c1a0a67b2ff9e": {
          "model_module": "@jupyter-widgets/base",
          "model_name": "LayoutModel",
          "model_module_version": "1.2.0",
          "state": {
            "_model_module": "@jupyter-widgets/base",
            "_model_module_version": "1.2.0",
            "_model_name": "LayoutModel",
            "_view_count": null,
            "_view_module": "@jupyter-widgets/base",
            "_view_module_version": "1.2.0",
            "_view_name": "LayoutView",
            "align_content": null,
            "align_items": null,
            "align_self": null,
            "border": null,
            "bottom": null,
            "display": null,
            "flex": null,
            "flex_flow": null,
            "grid_area": null,
            "grid_auto_columns": null,
            "grid_auto_flow": null,
            "grid_auto_rows": null,
            "grid_column": null,
            "grid_gap": null,
            "grid_row": null,
            "grid_template_areas": null,
            "grid_template_columns": null,
            "grid_template_rows": null,
            "height": null,
            "justify_content": null,
            "justify_items": null,
            "left": null,
            "margin": null,
            "max_height": null,
            "max_width": null,
            "min_height": null,
            "min_width": null,
            "object_fit": null,
            "object_position": null,
            "order": null,
            "overflow": null,
            "overflow_x": null,
            "overflow_y": null,
            "padding": null,
            "right": null,
            "top": null,
            "visibility": null,
            "width": null
          }
        },
        "5034e24f33ca41fab9dc5de28767be22": {
          "model_module": "@jupyter-widgets/controls",
          "model_name": "DescriptionStyleModel",
          "model_module_version": "1.5.0",
          "state": {
            "_model_module": "@jupyter-widgets/controls",
            "_model_module_version": "1.5.0",
            "_model_name": "DescriptionStyleModel",
            "_view_count": null,
            "_view_module": "@jupyter-widgets/base",
            "_view_module_version": "1.2.0",
            "_view_name": "StyleView",
            "description_width": ""
          }
        },
        "7f43bbbc58f94ef3abc3259d8ebfc59f": {
          "model_module": "@jupyter-widgets/controls",
          "model_name": "HBoxModel",
          "model_module_version": "1.5.0",
          "state": {
            "_dom_classes": [],
            "_model_module": "@jupyter-widgets/controls",
            "_model_module_version": "1.5.0",
            "_model_name": "HBoxModel",
            "_view_count": null,
            "_view_module": "@jupyter-widgets/controls",
            "_view_module_version": "1.5.0",
            "_view_name": "HBoxView",
            "box_style": "",
            "children": [
              "IPY_MODEL_601e9ce2038345efb69db938d146ce8f",
              "IPY_MODEL_cd9c9a965d044ff1a06ea516c8d56ba9",
              "IPY_MODEL_bdab6c35a6e741dbad1d5a81d6a50480"
            ],
            "layout": "IPY_MODEL_13d4c55f2ccc4bf89041f98ee072d5b2"
          }
        },
        "601e9ce2038345efb69db938d146ce8f": {
          "model_module": "@jupyter-widgets/controls",
          "model_name": "HTMLModel",
          "model_module_version": "1.5.0",
          "state": {
            "_dom_classes": [],
            "_model_module": "@jupyter-widgets/controls",
            "_model_module_version": "1.5.0",
            "_model_name": "HTMLModel",
            "_view_count": null,
            "_view_module": "@jupyter-widgets/controls",
            "_view_module_version": "1.5.0",
            "_view_name": "HTMLView",
            "description": "",
            "description_tooltip": null,
            "layout": "IPY_MODEL_5b79f2f361aa4354acb2f88ac033bf40",
            "placeholder": "​",
            "style": "IPY_MODEL_bc35af5ed4664aacb92d834b23ad19d9",
            "value": "Map: 100%"
          }
        },
        "cd9c9a965d044ff1a06ea516c8d56ba9": {
          "model_module": "@jupyter-widgets/controls",
          "model_name": "FloatProgressModel",
          "model_module_version": "1.5.0",
          "state": {
            "_dom_classes": [],
            "_model_module": "@jupyter-widgets/controls",
            "_model_module_version": "1.5.0",
            "_model_name": "FloatProgressModel",
            "_view_count": null,
            "_view_module": "@jupyter-widgets/controls",
            "_view_module_version": "1.5.0",
            "_view_name": "ProgressView",
            "bar_style": "success",
            "description": "",
            "description_tooltip": null,
            "layout": "IPY_MODEL_78c88b8dde334b3aaef51d2984b35a7d",
            "max": 30000,
            "min": 0,
            "orientation": "horizontal",
            "style": "IPY_MODEL_b5f5ad39c80040b49683b24298f423fb",
            "value": 30000
          }
        },
        "bdab6c35a6e741dbad1d5a81d6a50480": {
          "model_module": "@jupyter-widgets/controls",
          "model_name": "HTMLModel",
          "model_module_version": "1.5.0",
          "state": {
            "_dom_classes": [],
            "_model_module": "@jupyter-widgets/controls",
            "_model_module_version": "1.5.0",
            "_model_name": "HTMLModel",
            "_view_count": null,
            "_view_module": "@jupyter-widgets/controls",
            "_view_module_version": "1.5.0",
            "_view_name": "HTMLView",
            "description": "",
            "description_tooltip": null,
            "layout": "IPY_MODEL_971ed83c826243508ec3777ab14d56f6",
            "placeholder": "​",
            "style": "IPY_MODEL_73ba2ac9698a48258164e4c32adc0bf8",
            "value": " 30000/30000 [00:06&lt;00:00, 4077.47 examples/s]"
          }
        },
        "13d4c55f2ccc4bf89041f98ee072d5b2": {
          "model_module": "@jupyter-widgets/base",
          "model_name": "LayoutModel",
          "model_module_version": "1.2.0",
          "state": {
            "_model_module": "@jupyter-widgets/base",
            "_model_module_version": "1.2.0",
            "_model_name": "LayoutModel",
            "_view_count": null,
            "_view_module": "@jupyter-widgets/base",
            "_view_module_version": "1.2.0",
            "_view_name": "LayoutView",
            "align_content": null,
            "align_items": null,
            "align_self": null,
            "border": null,
            "bottom": null,
            "display": null,
            "flex": null,
            "flex_flow": null,
            "grid_area": null,
            "grid_auto_columns": null,
            "grid_auto_flow": null,
            "grid_auto_rows": null,
            "grid_column": null,
            "grid_gap": null,
            "grid_row": null,
            "grid_template_areas": null,
            "grid_template_columns": null,
            "grid_template_rows": null,
            "height": null,
            "justify_content": null,
            "justify_items": null,
            "left": null,
            "margin": null,
            "max_height": null,
            "max_width": null,
            "min_height": null,
            "min_width": null,
            "object_fit": null,
            "object_position": null,
            "order": null,
            "overflow": null,
            "overflow_x": null,
            "overflow_y": null,
            "padding": null,
            "right": null,
            "top": null,
            "visibility": null,
            "width": null
          }
        },
        "5b79f2f361aa4354acb2f88ac033bf40": {
          "model_module": "@jupyter-widgets/base",
          "model_name": "LayoutModel",
          "model_module_version": "1.2.0",
          "state": {
            "_model_module": "@jupyter-widgets/base",
            "_model_module_version": "1.2.0",
            "_model_name": "LayoutModel",
            "_view_count": null,
            "_view_module": "@jupyter-widgets/base",
            "_view_module_version": "1.2.0",
            "_view_name": "LayoutView",
            "align_content": null,
            "align_items": null,
            "align_self": null,
            "border": null,
            "bottom": null,
            "display": null,
            "flex": null,
            "flex_flow": null,
            "grid_area": null,
            "grid_auto_columns": null,
            "grid_auto_flow": null,
            "grid_auto_rows": null,
            "grid_column": null,
            "grid_gap": null,
            "grid_row": null,
            "grid_template_areas": null,
            "grid_template_columns": null,
            "grid_template_rows": null,
            "height": null,
            "justify_content": null,
            "justify_items": null,
            "left": null,
            "margin": null,
            "max_height": null,
            "max_width": null,
            "min_height": null,
            "min_width": null,
            "object_fit": null,
            "object_position": null,
            "order": null,
            "overflow": null,
            "overflow_x": null,
            "overflow_y": null,
            "padding": null,
            "right": null,
            "top": null,
            "visibility": null,
            "width": null
          }
        },
        "bc35af5ed4664aacb92d834b23ad19d9": {
          "model_module": "@jupyter-widgets/controls",
          "model_name": "DescriptionStyleModel",
          "model_module_version": "1.5.0",
          "state": {
            "_model_module": "@jupyter-widgets/controls",
            "_model_module_version": "1.5.0",
            "_model_name": "DescriptionStyleModel",
            "_view_count": null,
            "_view_module": "@jupyter-widgets/base",
            "_view_module_version": "1.2.0",
            "_view_name": "StyleView",
            "description_width": ""
          }
        },
        "78c88b8dde334b3aaef51d2984b35a7d": {
          "model_module": "@jupyter-widgets/base",
          "model_name": "LayoutModel",
          "model_module_version": "1.2.0",
          "state": {
            "_model_module": "@jupyter-widgets/base",
            "_model_module_version": "1.2.0",
            "_model_name": "LayoutModel",
            "_view_count": null,
            "_view_module": "@jupyter-widgets/base",
            "_view_module_version": "1.2.0",
            "_view_name": "LayoutView",
            "align_content": null,
            "align_items": null,
            "align_self": null,
            "border": null,
            "bottom": null,
            "display": null,
            "flex": null,
            "flex_flow": null,
            "grid_area": null,
            "grid_auto_columns": null,
            "grid_auto_flow": null,
            "grid_auto_rows": null,
            "grid_column": null,
            "grid_gap": null,
            "grid_row": null,
            "grid_template_areas": null,
            "grid_template_columns": null,
            "grid_template_rows": null,
            "height": null,
            "justify_content": null,
            "justify_items": null,
            "left": null,
            "margin": null,
            "max_height": null,
            "max_width": null,
            "min_height": null,
            "min_width": null,
            "object_fit": null,
            "object_position": null,
            "order": null,
            "overflow": null,
            "overflow_x": null,
            "overflow_y": null,
            "padding": null,
            "right": null,
            "top": null,
            "visibility": null,
            "width": null
          }
        },
        "b5f5ad39c80040b49683b24298f423fb": {
          "model_module": "@jupyter-widgets/controls",
          "model_name": "ProgressStyleModel",
          "model_module_version": "1.5.0",
          "state": {
            "_model_module": "@jupyter-widgets/controls",
            "_model_module_version": "1.5.0",
            "_model_name": "ProgressStyleModel",
            "_view_count": null,
            "_view_module": "@jupyter-widgets/base",
            "_view_module_version": "1.2.0",
            "_view_name": "StyleView",
            "bar_color": null,
            "description_width": ""
          }
        },
        "971ed83c826243508ec3777ab14d56f6": {
          "model_module": "@jupyter-widgets/base",
          "model_name": "LayoutModel",
          "model_module_version": "1.2.0",
          "state": {
            "_model_module": "@jupyter-widgets/base",
            "_model_module_version": "1.2.0",
            "_model_name": "LayoutModel",
            "_view_count": null,
            "_view_module": "@jupyter-widgets/base",
            "_view_module_version": "1.2.0",
            "_view_name": "LayoutView",
            "align_content": null,
            "align_items": null,
            "align_self": null,
            "border": null,
            "bottom": null,
            "display": null,
            "flex": null,
            "flex_flow": null,
            "grid_area": null,
            "grid_auto_columns": null,
            "grid_auto_flow": null,
            "grid_auto_rows": null,
            "grid_column": null,
            "grid_gap": null,
            "grid_row": null,
            "grid_template_areas": null,
            "grid_template_columns": null,
            "grid_template_rows": null,
            "height": null,
            "justify_content": null,
            "justify_items": null,
            "left": null,
            "margin": null,
            "max_height": null,
            "max_width": null,
            "min_height": null,
            "min_width": null,
            "object_fit": null,
            "object_position": null,
            "order": null,
            "overflow": null,
            "overflow_x": null,
            "overflow_y": null,
            "padding": null,
            "right": null,
            "top": null,
            "visibility": null,
            "width": null
          }
        },
        "73ba2ac9698a48258164e4c32adc0bf8": {
          "model_module": "@jupyter-widgets/controls",
          "model_name": "DescriptionStyleModel",
          "model_module_version": "1.5.0",
          "state": {
            "_model_module": "@jupyter-widgets/controls",
            "_model_module_version": "1.5.0",
            "_model_name": "DescriptionStyleModel",
            "_view_count": null,
            "_view_module": "@jupyter-widgets/base",
            "_view_module_version": "1.2.0",
            "_view_name": "StyleView",
            "description_width": ""
          }
        },
        "a2dc6453b9944231ac1386e4b5477e8a": {
          "model_module": "@jupyter-widgets/controls",
          "model_name": "HBoxModel",
          "model_module_version": "1.5.0",
          "state": {
            "_dom_classes": [],
            "_model_module": "@jupyter-widgets/controls",
            "_model_module_version": "1.5.0",
            "_model_name": "HBoxModel",
            "_view_count": null,
            "_view_module": "@jupyter-widgets/controls",
            "_view_module_version": "1.5.0",
            "_view_name": "HBoxView",
            "box_style": "",
            "children": [
              "IPY_MODEL_5815dcbda4c349488b4aa4b572e8534a",
              "IPY_MODEL_3f6e4e15034d41e384ae71cf2432c595",
              "IPY_MODEL_5869b70f6bcf49f38eaf2daa0c36a327"
            ],
            "layout": "IPY_MODEL_3d98bdcdeac34c2d886ffca85929726f"
          }
        },
        "5815dcbda4c349488b4aa4b572e8534a": {
          "model_module": "@jupyter-widgets/controls",
          "model_name": "HTMLModel",
          "model_module_version": "1.5.0",
          "state": {
            "_dom_classes": [],
            "_model_module": "@jupyter-widgets/controls",
            "_model_module_version": "1.5.0",
            "_model_name": "HTMLModel",
            "_view_count": null,
            "_view_module": "@jupyter-widgets/controls",
            "_view_module_version": "1.5.0",
            "_view_name": "HTMLView",
            "description": "",
            "description_tooltip": null,
            "layout": "IPY_MODEL_8f332bf2a01a4cff936a8171f74f56be",
            "placeholder": "​",
            "style": "IPY_MODEL_ee9c59da7d424b14ba93a3bf1371de41",
            "value": "Map: 100%"
          }
        },
        "3f6e4e15034d41e384ae71cf2432c595": {
          "model_module": "@jupyter-widgets/controls",
          "model_name": "FloatProgressModel",
          "model_module_version": "1.5.0",
          "state": {
            "_dom_classes": [],
            "_model_module": "@jupyter-widgets/controls",
            "_model_module_version": "1.5.0",
            "_model_name": "FloatProgressModel",
            "_view_count": null,
            "_view_module": "@jupyter-widgets/controls",
            "_view_module_version": "1.5.0",
            "_view_name": "ProgressView",
            "bar_style": "success",
            "description": "",
            "description_tooltip": null,
            "layout": "IPY_MODEL_72579a0e3a014441acc8c97798764493",
            "max": 10000,
            "min": 0,
            "orientation": "horizontal",
            "style": "IPY_MODEL_1d0ee938a86a42199eacb0149d251554",
            "value": 10000
          }
        },
        "5869b70f6bcf49f38eaf2daa0c36a327": {
          "model_module": "@jupyter-widgets/controls",
          "model_name": "HTMLModel",
          "model_module_version": "1.5.0",
          "state": {
            "_dom_classes": [],
            "_model_module": "@jupyter-widgets/controls",
            "_model_module_version": "1.5.0",
            "_model_name": "HTMLModel",
            "_view_count": null,
            "_view_module": "@jupyter-widgets/controls",
            "_view_module_version": "1.5.0",
            "_view_name": "HTMLView",
            "description": "",
            "description_tooltip": null,
            "layout": "IPY_MODEL_798da163f33b4818ade5873ea63e8c51",
            "placeholder": "​",
            "style": "IPY_MODEL_f1f6bc31d36d4aaeadad5c3fce27925c",
            "value": " 10000/10000 [00:03&lt;00:00, 3710.26 examples/s]"
          }
        },
        "3d98bdcdeac34c2d886ffca85929726f": {
          "model_module": "@jupyter-widgets/base",
          "model_name": "LayoutModel",
          "model_module_version": "1.2.0",
          "state": {
            "_model_module": "@jupyter-widgets/base",
            "_model_module_version": "1.2.0",
            "_model_name": "LayoutModel",
            "_view_count": null,
            "_view_module": "@jupyter-widgets/base",
            "_view_module_version": "1.2.0",
            "_view_name": "LayoutView",
            "align_content": null,
            "align_items": null,
            "align_self": null,
            "border": null,
            "bottom": null,
            "display": null,
            "flex": null,
            "flex_flow": null,
            "grid_area": null,
            "grid_auto_columns": null,
            "grid_auto_flow": null,
            "grid_auto_rows": null,
            "grid_column": null,
            "grid_gap": null,
            "grid_row": null,
            "grid_template_areas": null,
            "grid_template_columns": null,
            "grid_template_rows": null,
            "height": null,
            "justify_content": null,
            "justify_items": null,
            "left": null,
            "margin": null,
            "max_height": null,
            "max_width": null,
            "min_height": null,
            "min_width": null,
            "object_fit": null,
            "object_position": null,
            "order": null,
            "overflow": null,
            "overflow_x": null,
            "overflow_y": null,
            "padding": null,
            "right": null,
            "top": null,
            "visibility": null,
            "width": null
          }
        },
        "8f332bf2a01a4cff936a8171f74f56be": {
          "model_module": "@jupyter-widgets/base",
          "model_name": "LayoutModel",
          "model_module_version": "1.2.0",
          "state": {
            "_model_module": "@jupyter-widgets/base",
            "_model_module_version": "1.2.0",
            "_model_name": "LayoutModel",
            "_view_count": null,
            "_view_module": "@jupyter-widgets/base",
            "_view_module_version": "1.2.0",
            "_view_name": "LayoutView",
            "align_content": null,
            "align_items": null,
            "align_self": null,
            "border": null,
            "bottom": null,
            "display": null,
            "flex": null,
            "flex_flow": null,
            "grid_area": null,
            "grid_auto_columns": null,
            "grid_auto_flow": null,
            "grid_auto_rows": null,
            "grid_column": null,
            "grid_gap": null,
            "grid_row": null,
            "grid_template_areas": null,
            "grid_template_columns": null,
            "grid_template_rows": null,
            "height": null,
            "justify_content": null,
            "justify_items": null,
            "left": null,
            "margin": null,
            "max_height": null,
            "max_width": null,
            "min_height": null,
            "min_width": null,
            "object_fit": null,
            "object_position": null,
            "order": null,
            "overflow": null,
            "overflow_x": null,
            "overflow_y": null,
            "padding": null,
            "right": null,
            "top": null,
            "visibility": null,
            "width": null
          }
        },
        "ee9c59da7d424b14ba93a3bf1371de41": {
          "model_module": "@jupyter-widgets/controls",
          "model_name": "DescriptionStyleModel",
          "model_module_version": "1.5.0",
          "state": {
            "_model_module": "@jupyter-widgets/controls",
            "_model_module_version": "1.5.0",
            "_model_name": "DescriptionStyleModel",
            "_view_count": null,
            "_view_module": "@jupyter-widgets/base",
            "_view_module_version": "1.2.0",
            "_view_name": "StyleView",
            "description_width": ""
          }
        },
        "72579a0e3a014441acc8c97798764493": {
          "model_module": "@jupyter-widgets/base",
          "model_name": "LayoutModel",
          "model_module_version": "1.2.0",
          "state": {
            "_model_module": "@jupyter-widgets/base",
            "_model_module_version": "1.2.0",
            "_model_name": "LayoutModel",
            "_view_count": null,
            "_view_module": "@jupyter-widgets/base",
            "_view_module_version": "1.2.0",
            "_view_name": "LayoutView",
            "align_content": null,
            "align_items": null,
            "align_self": null,
            "border": null,
            "bottom": null,
            "display": null,
            "flex": null,
            "flex_flow": null,
            "grid_area": null,
            "grid_auto_columns": null,
            "grid_auto_flow": null,
            "grid_auto_rows": null,
            "grid_column": null,
            "grid_gap": null,
            "grid_row": null,
            "grid_template_areas": null,
            "grid_template_columns": null,
            "grid_template_rows": null,
            "height": null,
            "justify_content": null,
            "justify_items": null,
            "left": null,
            "margin": null,
            "max_height": null,
            "max_width": null,
            "min_height": null,
            "min_width": null,
            "object_fit": null,
            "object_position": null,
            "order": null,
            "overflow": null,
            "overflow_x": null,
            "overflow_y": null,
            "padding": null,
            "right": null,
            "top": null,
            "visibility": null,
            "width": null
          }
        },
        "1d0ee938a86a42199eacb0149d251554": {
          "model_module": "@jupyter-widgets/controls",
          "model_name": "ProgressStyleModel",
          "model_module_version": "1.5.0",
          "state": {
            "_model_module": "@jupyter-widgets/controls",
            "_model_module_version": "1.5.0",
            "_model_name": "ProgressStyleModel",
            "_view_count": null,
            "_view_module": "@jupyter-widgets/base",
            "_view_module_version": "1.2.0",
            "_view_name": "StyleView",
            "bar_color": null,
            "description_width": ""
          }
        },
        "798da163f33b4818ade5873ea63e8c51": {
          "model_module": "@jupyter-widgets/base",
          "model_name": "LayoutModel",
          "model_module_version": "1.2.0",
          "state": {
            "_model_module": "@jupyter-widgets/base",
            "_model_module_version": "1.2.0",
            "_model_name": "LayoutModel",
            "_view_count": null,
            "_view_module": "@jupyter-widgets/base",
            "_view_module_version": "1.2.0",
            "_view_name": "LayoutView",
            "align_content": null,
            "align_items": null,
            "align_self": null,
            "border": null,
            "bottom": null,
            "display": null,
            "flex": null,
            "flex_flow": null,
            "grid_area": null,
            "grid_auto_columns": null,
            "grid_auto_flow": null,
            "grid_auto_rows": null,
            "grid_column": null,
            "grid_gap": null,
            "grid_row": null,
            "grid_template_areas": null,
            "grid_template_columns": null,
            "grid_template_rows": null,
            "height": null,
            "justify_content": null,
            "justify_items": null,
            "left": null,
            "margin": null,
            "max_height": null,
            "max_width": null,
            "min_height": null,
            "min_width": null,
            "object_fit": null,
            "object_position": null,
            "order": null,
            "overflow": null,
            "overflow_x": null,
            "overflow_y": null,
            "padding": null,
            "right": null,
            "top": null,
            "visibility": null,
            "width": null
          }
        },
        "f1f6bc31d36d4aaeadad5c3fce27925c": {
          "model_module": "@jupyter-widgets/controls",
          "model_name": "DescriptionStyleModel",
          "model_module_version": "1.5.0",
          "state": {
            "_model_module": "@jupyter-widgets/controls",
            "_model_module_version": "1.5.0",
            "_model_name": "DescriptionStyleModel",
            "_view_count": null,
            "_view_module": "@jupyter-widgets/base",
            "_view_module_version": "1.2.0",
            "_view_name": "StyleView",
            "description_width": ""
          }
        },
        "9db15662f4e9419cb1efdaf0bf63c1d2": {
          "model_module": "@jupyter-widgets/controls",
          "model_name": "HBoxModel",
          "model_module_version": "1.5.0",
          "state": {
            "_dom_classes": [],
            "_model_module": "@jupyter-widgets/controls",
            "_model_module_version": "1.5.0",
            "_model_name": "HBoxModel",
            "_view_count": null,
            "_view_module": "@jupyter-widgets/controls",
            "_view_module_version": "1.5.0",
            "_view_name": "HBoxView",
            "box_style": "",
            "children": [
              "IPY_MODEL_0377b70bbe8b4736bef7727ec6b9ca92",
              "IPY_MODEL_5f630c14c9414e7485bd6ae47bd9bc5e",
              "IPY_MODEL_06657b8f078e4176ba02094652b6d3b1"
            ],
            "layout": "IPY_MODEL_3e7ca380db084eedaebb6fbf97fb7175"
          }
        },
        "0377b70bbe8b4736bef7727ec6b9ca92": {
          "model_module": "@jupyter-widgets/controls",
          "model_name": "HTMLModel",
          "model_module_version": "1.5.0",
          "state": {
            "_dom_classes": [],
            "_model_module": "@jupyter-widgets/controls",
            "_model_module_version": "1.5.0",
            "_model_name": "HTMLModel",
            "_view_count": null,
            "_view_module": "@jupyter-widgets/controls",
            "_view_module_version": "1.5.0",
            "_view_name": "HTMLView",
            "description": "",
            "description_tooltip": null,
            "layout": "IPY_MODEL_035fa3a0f6ce49e0960f3beadfdf312d",
            "placeholder": "​",
            "style": "IPY_MODEL_c69701d3e7af4c97bce24112f4950753",
            "value": "Map: 100%"
          }
        },
        "5f630c14c9414e7485bd6ae47bd9bc5e": {
          "model_module": "@jupyter-widgets/controls",
          "model_name": "FloatProgressModel",
          "model_module_version": "1.5.0",
          "state": {
            "_dom_classes": [],
            "_model_module": "@jupyter-widgets/controls",
            "_model_module_version": "1.5.0",
            "_model_name": "FloatProgressModel",
            "_view_count": null,
            "_view_module": "@jupyter-widgets/controls",
            "_view_module_version": "1.5.0",
            "_view_name": "ProgressView",
            "bar_style": "success",
            "description": "",
            "description_tooltip": null,
            "layout": "IPY_MODEL_e63039ae1af14a92b65e14542d0e7f2b",
            "max": 10000,
            "min": 0,
            "orientation": "horizontal",
            "style": "IPY_MODEL_638345e670dc48f593ff02c6231063b0",
            "value": 10000
          }
        },
        "06657b8f078e4176ba02094652b6d3b1": {
          "model_module": "@jupyter-widgets/controls",
          "model_name": "HTMLModel",
          "model_module_version": "1.5.0",
          "state": {
            "_dom_classes": [],
            "_model_module": "@jupyter-widgets/controls",
            "_model_module_version": "1.5.0",
            "_model_name": "HTMLModel",
            "_view_count": null,
            "_view_module": "@jupyter-widgets/controls",
            "_view_module_version": "1.5.0",
            "_view_name": "HTMLView",
            "description": "",
            "description_tooltip": null,
            "layout": "IPY_MODEL_ab89d5b609d842eab87351d31945e29c",
            "placeholder": "​",
            "style": "IPY_MODEL_e31dcac2507e4241b180f8552ac96a77",
            "value": " 10000/10000 [00:02&lt;00:00, 3140.37 examples/s]"
          }
        },
        "3e7ca380db084eedaebb6fbf97fb7175": {
          "model_module": "@jupyter-widgets/base",
          "model_name": "LayoutModel",
          "model_module_version": "1.2.0",
          "state": {
            "_model_module": "@jupyter-widgets/base",
            "_model_module_version": "1.2.0",
            "_model_name": "LayoutModel",
            "_view_count": null,
            "_view_module": "@jupyter-widgets/base",
            "_view_module_version": "1.2.0",
            "_view_name": "LayoutView",
            "align_content": null,
            "align_items": null,
            "align_self": null,
            "border": null,
            "bottom": null,
            "display": null,
            "flex": null,
            "flex_flow": null,
            "grid_area": null,
            "grid_auto_columns": null,
            "grid_auto_flow": null,
            "grid_auto_rows": null,
            "grid_column": null,
            "grid_gap": null,
            "grid_row": null,
            "grid_template_areas": null,
            "grid_template_columns": null,
            "grid_template_rows": null,
            "height": null,
            "justify_content": null,
            "justify_items": null,
            "left": null,
            "margin": null,
            "max_height": null,
            "max_width": null,
            "min_height": null,
            "min_width": null,
            "object_fit": null,
            "object_position": null,
            "order": null,
            "overflow": null,
            "overflow_x": null,
            "overflow_y": null,
            "padding": null,
            "right": null,
            "top": null,
            "visibility": null,
            "width": null
          }
        },
        "035fa3a0f6ce49e0960f3beadfdf312d": {
          "model_module": "@jupyter-widgets/base",
          "model_name": "LayoutModel",
          "model_module_version": "1.2.0",
          "state": {
            "_model_module": "@jupyter-widgets/base",
            "_model_module_version": "1.2.0",
            "_model_name": "LayoutModel",
            "_view_count": null,
            "_view_module": "@jupyter-widgets/base",
            "_view_module_version": "1.2.0",
            "_view_name": "LayoutView",
            "align_content": null,
            "align_items": null,
            "align_self": null,
            "border": null,
            "bottom": null,
            "display": null,
            "flex": null,
            "flex_flow": null,
            "grid_area": null,
            "grid_auto_columns": null,
            "grid_auto_flow": null,
            "grid_auto_rows": null,
            "grid_column": null,
            "grid_gap": null,
            "grid_row": null,
            "grid_template_areas": null,
            "grid_template_columns": null,
            "grid_template_rows": null,
            "height": null,
            "justify_content": null,
            "justify_items": null,
            "left": null,
            "margin": null,
            "max_height": null,
            "max_width": null,
            "min_height": null,
            "min_width": null,
            "object_fit": null,
            "object_position": null,
            "order": null,
            "overflow": null,
            "overflow_x": null,
            "overflow_y": null,
            "padding": null,
            "right": null,
            "top": null,
            "visibility": null,
            "width": null
          }
        },
        "c69701d3e7af4c97bce24112f4950753": {
          "model_module": "@jupyter-widgets/controls",
          "model_name": "DescriptionStyleModel",
          "model_module_version": "1.5.0",
          "state": {
            "_model_module": "@jupyter-widgets/controls",
            "_model_module_version": "1.5.0",
            "_model_name": "DescriptionStyleModel",
            "_view_count": null,
            "_view_module": "@jupyter-widgets/base",
            "_view_module_version": "1.2.0",
            "_view_name": "StyleView",
            "description_width": ""
          }
        },
        "e63039ae1af14a92b65e14542d0e7f2b": {
          "model_module": "@jupyter-widgets/base",
          "model_name": "LayoutModel",
          "model_module_version": "1.2.0",
          "state": {
            "_model_module": "@jupyter-widgets/base",
            "_model_module_version": "1.2.0",
            "_model_name": "LayoutModel",
            "_view_count": null,
            "_view_module": "@jupyter-widgets/base",
            "_view_module_version": "1.2.0",
            "_view_name": "LayoutView",
            "align_content": null,
            "align_items": null,
            "align_self": null,
            "border": null,
            "bottom": null,
            "display": null,
            "flex": null,
            "flex_flow": null,
            "grid_area": null,
            "grid_auto_columns": null,
            "grid_auto_flow": null,
            "grid_auto_rows": null,
            "grid_column": null,
            "grid_gap": null,
            "grid_row": null,
            "grid_template_areas": null,
            "grid_template_columns": null,
            "grid_template_rows": null,
            "height": null,
            "justify_content": null,
            "justify_items": null,
            "left": null,
            "margin": null,
            "max_height": null,
            "max_width": null,
            "min_height": null,
            "min_width": null,
            "object_fit": null,
            "object_position": null,
            "order": null,
            "overflow": null,
            "overflow_x": null,
            "overflow_y": null,
            "padding": null,
            "right": null,
            "top": null,
            "visibility": null,
            "width": null
          }
        },
        "638345e670dc48f593ff02c6231063b0": {
          "model_module": "@jupyter-widgets/controls",
          "model_name": "ProgressStyleModel",
          "model_module_version": "1.5.0",
          "state": {
            "_model_module": "@jupyter-widgets/controls",
            "_model_module_version": "1.5.0",
            "_model_name": "ProgressStyleModel",
            "_view_count": null,
            "_view_module": "@jupyter-widgets/base",
            "_view_module_version": "1.2.0",
            "_view_name": "StyleView",
            "bar_color": null,
            "description_width": ""
          }
        },
        "ab89d5b609d842eab87351d31945e29c": {
          "model_module": "@jupyter-widgets/base",
          "model_name": "LayoutModel",
          "model_module_version": "1.2.0",
          "state": {
            "_model_module": "@jupyter-widgets/base",
            "_model_module_version": "1.2.0",
            "_model_name": "LayoutModel",
            "_view_count": null,
            "_view_module": "@jupyter-widgets/base",
            "_view_module_version": "1.2.0",
            "_view_name": "LayoutView",
            "align_content": null,
            "align_items": null,
            "align_self": null,
            "border": null,
            "bottom": null,
            "display": null,
            "flex": null,
            "flex_flow": null,
            "grid_area": null,
            "grid_auto_columns": null,
            "grid_auto_flow": null,
            "grid_auto_rows": null,
            "grid_column": null,
            "grid_gap": null,
            "grid_row": null,
            "grid_template_areas": null,
            "grid_template_columns": null,
            "grid_template_rows": null,
            "height": null,
            "justify_content": null,
            "justify_items": null,
            "left": null,
            "margin": null,
            "max_height": null,
            "max_width": null,
            "min_height": null,
            "min_width": null,
            "object_fit": null,
            "object_position": null,
            "order": null,
            "overflow": null,
            "overflow_x": null,
            "overflow_y": null,
            "padding": null,
            "right": null,
            "top": null,
            "visibility": null,
            "width": null
          }
        },
        "e31dcac2507e4241b180f8552ac96a77": {
          "model_module": "@jupyter-widgets/controls",
          "model_name": "DescriptionStyleModel",
          "model_module_version": "1.5.0",
          "state": {
            "_model_module": "@jupyter-widgets/controls",
            "_model_module_version": "1.5.0",
            "_model_name": "DescriptionStyleModel",
            "_view_count": null,
            "_view_module": "@jupyter-widgets/base",
            "_view_module_version": "1.2.0",
            "_view_name": "StyleView",
            "description_width": ""
          }
        },
        "41050719a0c04dc6a8aa6e68898d8ce4": {
          "model_module": "@jupyter-widgets/controls",
          "model_name": "HBoxModel",
          "model_module_version": "1.5.0",
          "state": {
            "_dom_classes": [],
            "_model_module": "@jupyter-widgets/controls",
            "_model_module_version": "1.5.0",
            "_model_name": "HBoxModel",
            "_view_count": null,
            "_view_module": "@jupyter-widgets/controls",
            "_view_module_version": "1.5.0",
            "_view_name": "HBoxView",
            "box_style": "",
            "children": [
              "IPY_MODEL_f675ae4a72d04d42b2e48b5ebc0b737e",
              "IPY_MODEL_7bf0183869cf4452a5a0d89f052aa361",
              "IPY_MODEL_62cb9cf03fd84a1080a419cab75d4aab"
            ],
            "layout": "IPY_MODEL_bef0a79da547446cba470d434903a9a9"
          }
        },
        "f675ae4a72d04d42b2e48b5ebc0b737e": {
          "model_module": "@jupyter-widgets/controls",
          "model_name": "HTMLModel",
          "model_module_version": "1.5.0",
          "state": {
            "_dom_classes": [],
            "_model_module": "@jupyter-widgets/controls",
            "_model_module_version": "1.5.0",
            "_model_name": "HTMLModel",
            "_view_count": null,
            "_view_module": "@jupyter-widgets/controls",
            "_view_module_version": "1.5.0",
            "_view_name": "HTMLView",
            "description": "",
            "description_tooltip": null,
            "layout": "IPY_MODEL_49de40e1ae924249ab640be7e8811c62",
            "placeholder": "​",
            "style": "IPY_MODEL_b46d7b7341cf4fdaac60e67d0e3ef36a",
            "value": "Map: 100%"
          }
        },
        "7bf0183869cf4452a5a0d89f052aa361": {
          "model_module": "@jupyter-widgets/controls",
          "model_name": "FloatProgressModel",
          "model_module_version": "1.5.0",
          "state": {
            "_dom_classes": [],
            "_model_module": "@jupyter-widgets/controls",
            "_model_module_version": "1.5.0",
            "_model_name": "FloatProgressModel",
            "_view_count": null,
            "_view_module": "@jupyter-widgets/controls",
            "_view_module_version": "1.5.0",
            "_view_name": "ProgressView",
            "bar_style": "success",
            "description": "",
            "description_tooltip": null,
            "layout": "IPY_MODEL_e4552804fd4e4ee09e1fd6a4464c162c",
            "max": 30000,
            "min": 0,
            "orientation": "horizontal",
            "style": "IPY_MODEL_84a488f18e8242b4835fefdf19c45b55",
            "value": 30000
          }
        },
        "62cb9cf03fd84a1080a419cab75d4aab": {
          "model_module": "@jupyter-widgets/controls",
          "model_name": "HTMLModel",
          "model_module_version": "1.5.0",
          "state": {
            "_dom_classes": [],
            "_model_module": "@jupyter-widgets/controls",
            "_model_module_version": "1.5.0",
            "_model_name": "HTMLModel",
            "_view_count": null,
            "_view_module": "@jupyter-widgets/controls",
            "_view_module_version": "1.5.0",
            "_view_name": "HTMLView",
            "description": "",
            "description_tooltip": null,
            "layout": "IPY_MODEL_1bda490d86b1498f943b34beaaa919e9",
            "placeholder": "​",
            "style": "IPY_MODEL_0eaa00b622824c54a40dee9da47d52fb",
            "value": " 30000/30000 [00:12&lt;00:00, 2876.33 examples/s]"
          }
        },
        "bef0a79da547446cba470d434903a9a9": {
          "model_module": "@jupyter-widgets/base",
          "model_name": "LayoutModel",
          "model_module_version": "1.2.0",
          "state": {
            "_model_module": "@jupyter-widgets/base",
            "_model_module_version": "1.2.0",
            "_model_name": "LayoutModel",
            "_view_count": null,
            "_view_module": "@jupyter-widgets/base",
            "_view_module_version": "1.2.0",
            "_view_name": "LayoutView",
            "align_content": null,
            "align_items": null,
            "align_self": null,
            "border": null,
            "bottom": null,
            "display": null,
            "flex": null,
            "flex_flow": null,
            "grid_area": null,
            "grid_auto_columns": null,
            "grid_auto_flow": null,
            "grid_auto_rows": null,
            "grid_column": null,
            "grid_gap": null,
            "grid_row": null,
            "grid_template_areas": null,
            "grid_template_columns": null,
            "grid_template_rows": null,
            "height": null,
            "justify_content": null,
            "justify_items": null,
            "left": null,
            "margin": null,
            "max_height": null,
            "max_width": null,
            "min_height": null,
            "min_width": null,
            "object_fit": null,
            "object_position": null,
            "order": null,
            "overflow": null,
            "overflow_x": null,
            "overflow_y": null,
            "padding": null,
            "right": null,
            "top": null,
            "visibility": null,
            "width": null
          }
        },
        "49de40e1ae924249ab640be7e8811c62": {
          "model_module": "@jupyter-widgets/base",
          "model_name": "LayoutModel",
          "model_module_version": "1.2.0",
          "state": {
            "_model_module": "@jupyter-widgets/base",
            "_model_module_version": "1.2.0",
            "_model_name": "LayoutModel",
            "_view_count": null,
            "_view_module": "@jupyter-widgets/base",
            "_view_module_version": "1.2.0",
            "_view_name": "LayoutView",
            "align_content": null,
            "align_items": null,
            "align_self": null,
            "border": null,
            "bottom": null,
            "display": null,
            "flex": null,
            "flex_flow": null,
            "grid_area": null,
            "grid_auto_columns": null,
            "grid_auto_flow": null,
            "grid_auto_rows": null,
            "grid_column": null,
            "grid_gap": null,
            "grid_row": null,
            "grid_template_areas": null,
            "grid_template_columns": null,
            "grid_template_rows": null,
            "height": null,
            "justify_content": null,
            "justify_items": null,
            "left": null,
            "margin": null,
            "max_height": null,
            "max_width": null,
            "min_height": null,
            "min_width": null,
            "object_fit": null,
            "object_position": null,
            "order": null,
            "overflow": null,
            "overflow_x": null,
            "overflow_y": null,
            "padding": null,
            "right": null,
            "top": null,
            "visibility": null,
            "width": null
          }
        },
        "b46d7b7341cf4fdaac60e67d0e3ef36a": {
          "model_module": "@jupyter-widgets/controls",
          "model_name": "DescriptionStyleModel",
          "model_module_version": "1.5.0",
          "state": {
            "_model_module": "@jupyter-widgets/controls",
            "_model_module_version": "1.5.0",
            "_model_name": "DescriptionStyleModel",
            "_view_count": null,
            "_view_module": "@jupyter-widgets/base",
            "_view_module_version": "1.2.0",
            "_view_name": "StyleView",
            "description_width": ""
          }
        },
        "e4552804fd4e4ee09e1fd6a4464c162c": {
          "model_module": "@jupyter-widgets/base",
          "model_name": "LayoutModel",
          "model_module_version": "1.2.0",
          "state": {
            "_model_module": "@jupyter-widgets/base",
            "_model_module_version": "1.2.0",
            "_model_name": "LayoutModel",
            "_view_count": null,
            "_view_module": "@jupyter-widgets/base",
            "_view_module_version": "1.2.0",
            "_view_name": "LayoutView",
            "align_content": null,
            "align_items": null,
            "align_self": null,
            "border": null,
            "bottom": null,
            "display": null,
            "flex": null,
            "flex_flow": null,
            "grid_area": null,
            "grid_auto_columns": null,
            "grid_auto_flow": null,
            "grid_auto_rows": null,
            "grid_column": null,
            "grid_gap": null,
            "grid_row": null,
            "grid_template_areas": null,
            "grid_template_columns": null,
            "grid_template_rows": null,
            "height": null,
            "justify_content": null,
            "justify_items": null,
            "left": null,
            "margin": null,
            "max_height": null,
            "max_width": null,
            "min_height": null,
            "min_width": null,
            "object_fit": null,
            "object_position": null,
            "order": null,
            "overflow": null,
            "overflow_x": null,
            "overflow_y": null,
            "padding": null,
            "right": null,
            "top": null,
            "visibility": null,
            "width": null
          }
        },
        "84a488f18e8242b4835fefdf19c45b55": {
          "model_module": "@jupyter-widgets/controls",
          "model_name": "ProgressStyleModel",
          "model_module_version": "1.5.0",
          "state": {
            "_model_module": "@jupyter-widgets/controls",
            "_model_module_version": "1.5.0",
            "_model_name": "ProgressStyleModel",
            "_view_count": null,
            "_view_module": "@jupyter-widgets/base",
            "_view_module_version": "1.2.0",
            "_view_name": "StyleView",
            "bar_color": null,
            "description_width": ""
          }
        },
        "1bda490d86b1498f943b34beaaa919e9": {
          "model_module": "@jupyter-widgets/base",
          "model_name": "LayoutModel",
          "model_module_version": "1.2.0",
          "state": {
            "_model_module": "@jupyter-widgets/base",
            "_model_module_version": "1.2.0",
            "_model_name": "LayoutModel",
            "_view_count": null,
            "_view_module": "@jupyter-widgets/base",
            "_view_module_version": "1.2.0",
            "_view_name": "LayoutView",
            "align_content": null,
            "align_items": null,
            "align_self": null,
            "border": null,
            "bottom": null,
            "display": null,
            "flex": null,
            "flex_flow": null,
            "grid_area": null,
            "grid_auto_columns": null,
            "grid_auto_flow": null,
            "grid_auto_rows": null,
            "grid_column": null,
            "grid_gap": null,
            "grid_row": null,
            "grid_template_areas": null,
            "grid_template_columns": null,
            "grid_template_rows": null,
            "height": null,
            "justify_content": null,
            "justify_items": null,
            "left": null,
            "margin": null,
            "max_height": null,
            "max_width": null,
            "min_height": null,
            "min_width": null,
            "object_fit": null,
            "object_position": null,
            "order": null,
            "overflow": null,
            "overflow_x": null,
            "overflow_y": null,
            "padding": null,
            "right": null,
            "top": null,
            "visibility": null,
            "width": null
          }
        },
        "0eaa00b622824c54a40dee9da47d52fb": {
          "model_module": "@jupyter-widgets/controls",
          "model_name": "DescriptionStyleModel",
          "model_module_version": "1.5.0",
          "state": {
            "_model_module": "@jupyter-widgets/controls",
            "_model_module_version": "1.5.0",
            "_model_name": "DescriptionStyleModel",
            "_view_count": null,
            "_view_module": "@jupyter-widgets/base",
            "_view_module_version": "1.2.0",
            "_view_name": "StyleView",
            "description_width": ""
          }
        },
        "4ad3474f1da644768c68d2229fd57e3d": {
          "model_module": "@jupyter-widgets/controls",
          "model_name": "HBoxModel",
          "model_module_version": "1.5.0",
          "state": {
            "_dom_classes": [],
            "_model_module": "@jupyter-widgets/controls",
            "_model_module_version": "1.5.0",
            "_model_name": "HBoxModel",
            "_view_count": null,
            "_view_module": "@jupyter-widgets/controls",
            "_view_module_version": "1.5.0",
            "_view_name": "HBoxView",
            "box_style": "",
            "children": [
              "IPY_MODEL_3a27c0994c8c4fd89a7af1c09d03d7fb",
              "IPY_MODEL_47a251ac7a4f435d83205f03d8d57544",
              "IPY_MODEL_7a9ee91226df485f90324404b68dd272"
            ],
            "layout": "IPY_MODEL_e6b1cda0a005448b829590e0d7dedee4"
          }
        },
        "3a27c0994c8c4fd89a7af1c09d03d7fb": {
          "model_module": "@jupyter-widgets/controls",
          "model_name": "HTMLModel",
          "model_module_version": "1.5.0",
          "state": {
            "_dom_classes": [],
            "_model_module": "@jupyter-widgets/controls",
            "_model_module_version": "1.5.0",
            "_model_name": "HTMLModel",
            "_view_count": null,
            "_view_module": "@jupyter-widgets/controls",
            "_view_module_version": "1.5.0",
            "_view_name": "HTMLView",
            "description": "",
            "description_tooltip": null,
            "layout": "IPY_MODEL_2fcd820855784a678c2e4a9fcff2ec7e",
            "placeholder": "​",
            "style": "IPY_MODEL_ede422deea0e4ac7aec383a0568c4f8a",
            "value": "Map: 100%"
          }
        },
        "47a251ac7a4f435d83205f03d8d57544": {
          "model_module": "@jupyter-widgets/controls",
          "model_name": "FloatProgressModel",
          "model_module_version": "1.5.0",
          "state": {
            "_dom_classes": [],
            "_model_module": "@jupyter-widgets/controls",
            "_model_module_version": "1.5.0",
            "_model_name": "FloatProgressModel",
            "_view_count": null,
            "_view_module": "@jupyter-widgets/controls",
            "_view_module_version": "1.5.0",
            "_view_name": "ProgressView",
            "bar_style": "success",
            "description": "",
            "description_tooltip": null,
            "layout": "IPY_MODEL_433075d7dcc441fbba4b440d38f79fc6",
            "max": 10000,
            "min": 0,
            "orientation": "horizontal",
            "style": "IPY_MODEL_091f405dc77f45cd838f657c07b58ef2",
            "value": 10000
          }
        },
        "7a9ee91226df485f90324404b68dd272": {
          "model_module": "@jupyter-widgets/controls",
          "model_name": "HTMLModel",
          "model_module_version": "1.5.0",
          "state": {
            "_dom_classes": [],
            "_model_module": "@jupyter-widgets/controls",
            "_model_module_version": "1.5.0",
            "_model_name": "HTMLModel",
            "_view_count": null,
            "_view_module": "@jupyter-widgets/controls",
            "_view_module_version": "1.5.0",
            "_view_name": "HTMLView",
            "description": "",
            "description_tooltip": null,
            "layout": "IPY_MODEL_a0a494526f3b4e7fa824f2407407f2ca",
            "placeholder": "​",
            "style": "IPY_MODEL_e842aa49cfcf4d9faa00fbb905119e79",
            "value": " 10000/10000 [00:03&lt;00:00, 3043.02 examples/s]"
          }
        },
        "e6b1cda0a005448b829590e0d7dedee4": {
          "model_module": "@jupyter-widgets/base",
          "model_name": "LayoutModel",
          "model_module_version": "1.2.0",
          "state": {
            "_model_module": "@jupyter-widgets/base",
            "_model_module_version": "1.2.0",
            "_model_name": "LayoutModel",
            "_view_count": null,
            "_view_module": "@jupyter-widgets/base",
            "_view_module_version": "1.2.0",
            "_view_name": "LayoutView",
            "align_content": null,
            "align_items": null,
            "align_self": null,
            "border": null,
            "bottom": null,
            "display": null,
            "flex": null,
            "flex_flow": null,
            "grid_area": null,
            "grid_auto_columns": null,
            "grid_auto_flow": null,
            "grid_auto_rows": null,
            "grid_column": null,
            "grid_gap": null,
            "grid_row": null,
            "grid_template_areas": null,
            "grid_template_columns": null,
            "grid_template_rows": null,
            "height": null,
            "justify_content": null,
            "justify_items": null,
            "left": null,
            "margin": null,
            "max_height": null,
            "max_width": null,
            "min_height": null,
            "min_width": null,
            "object_fit": null,
            "object_position": null,
            "order": null,
            "overflow": null,
            "overflow_x": null,
            "overflow_y": null,
            "padding": null,
            "right": null,
            "top": null,
            "visibility": null,
            "width": null
          }
        },
        "2fcd820855784a678c2e4a9fcff2ec7e": {
          "model_module": "@jupyter-widgets/base",
          "model_name": "LayoutModel",
          "model_module_version": "1.2.0",
          "state": {
            "_model_module": "@jupyter-widgets/base",
            "_model_module_version": "1.2.0",
            "_model_name": "LayoutModel",
            "_view_count": null,
            "_view_module": "@jupyter-widgets/base",
            "_view_module_version": "1.2.0",
            "_view_name": "LayoutView",
            "align_content": null,
            "align_items": null,
            "align_self": null,
            "border": null,
            "bottom": null,
            "display": null,
            "flex": null,
            "flex_flow": null,
            "grid_area": null,
            "grid_auto_columns": null,
            "grid_auto_flow": null,
            "grid_auto_rows": null,
            "grid_column": null,
            "grid_gap": null,
            "grid_row": null,
            "grid_template_areas": null,
            "grid_template_columns": null,
            "grid_template_rows": null,
            "height": null,
            "justify_content": null,
            "justify_items": null,
            "left": null,
            "margin": null,
            "max_height": null,
            "max_width": null,
            "min_height": null,
            "min_width": null,
            "object_fit": null,
            "object_position": null,
            "order": null,
            "overflow": null,
            "overflow_x": null,
            "overflow_y": null,
            "padding": null,
            "right": null,
            "top": null,
            "visibility": null,
            "width": null
          }
        },
        "ede422deea0e4ac7aec383a0568c4f8a": {
          "model_module": "@jupyter-widgets/controls",
          "model_name": "DescriptionStyleModel",
          "model_module_version": "1.5.0",
          "state": {
            "_model_module": "@jupyter-widgets/controls",
            "_model_module_version": "1.5.0",
            "_model_name": "DescriptionStyleModel",
            "_view_count": null,
            "_view_module": "@jupyter-widgets/base",
            "_view_module_version": "1.2.0",
            "_view_name": "StyleView",
            "description_width": ""
          }
        },
        "433075d7dcc441fbba4b440d38f79fc6": {
          "model_module": "@jupyter-widgets/base",
          "model_name": "LayoutModel",
          "model_module_version": "1.2.0",
          "state": {
            "_model_module": "@jupyter-widgets/base",
            "_model_module_version": "1.2.0",
            "_model_name": "LayoutModel",
            "_view_count": null,
            "_view_module": "@jupyter-widgets/base",
            "_view_module_version": "1.2.0",
            "_view_name": "LayoutView",
            "align_content": null,
            "align_items": null,
            "align_self": null,
            "border": null,
            "bottom": null,
            "display": null,
            "flex": null,
            "flex_flow": null,
            "grid_area": null,
            "grid_auto_columns": null,
            "grid_auto_flow": null,
            "grid_auto_rows": null,
            "grid_column": null,
            "grid_gap": null,
            "grid_row": null,
            "grid_template_areas": null,
            "grid_template_columns": null,
            "grid_template_rows": null,
            "height": null,
            "justify_content": null,
            "justify_items": null,
            "left": null,
            "margin": null,
            "max_height": null,
            "max_width": null,
            "min_height": null,
            "min_width": null,
            "object_fit": null,
            "object_position": null,
            "order": null,
            "overflow": null,
            "overflow_x": null,
            "overflow_y": null,
            "padding": null,
            "right": null,
            "top": null,
            "visibility": null,
            "width": null
          }
        },
        "091f405dc77f45cd838f657c07b58ef2": {
          "model_module": "@jupyter-widgets/controls",
          "model_name": "ProgressStyleModel",
          "model_module_version": "1.5.0",
          "state": {
            "_model_module": "@jupyter-widgets/controls",
            "_model_module_version": "1.5.0",
            "_model_name": "ProgressStyleModel",
            "_view_count": null,
            "_view_module": "@jupyter-widgets/base",
            "_view_module_version": "1.2.0",
            "_view_name": "StyleView",
            "bar_color": null,
            "description_width": ""
          }
        },
        "a0a494526f3b4e7fa824f2407407f2ca": {
          "model_module": "@jupyter-widgets/base",
          "model_name": "LayoutModel",
          "model_module_version": "1.2.0",
          "state": {
            "_model_module": "@jupyter-widgets/base",
            "_model_module_version": "1.2.0",
            "_model_name": "LayoutModel",
            "_view_count": null,
            "_view_module": "@jupyter-widgets/base",
            "_view_module_version": "1.2.0",
            "_view_name": "LayoutView",
            "align_content": null,
            "align_items": null,
            "align_self": null,
            "border": null,
            "bottom": null,
            "display": null,
            "flex": null,
            "flex_flow": null,
            "grid_area": null,
            "grid_auto_columns": null,
            "grid_auto_flow": null,
            "grid_auto_rows": null,
            "grid_column": null,
            "grid_gap": null,
            "grid_row": null,
            "grid_template_areas": null,
            "grid_template_columns": null,
            "grid_template_rows": null,
            "height": null,
            "justify_content": null,
            "justify_items": null,
            "left": null,
            "margin": null,
            "max_height": null,
            "max_width": null,
            "min_height": null,
            "min_width": null,
            "object_fit": null,
            "object_position": null,
            "order": null,
            "overflow": null,
            "overflow_x": null,
            "overflow_y": null,
            "padding": null,
            "right": null,
            "top": null,
            "visibility": null,
            "width": null
          }
        },
        "e842aa49cfcf4d9faa00fbb905119e79": {
          "model_module": "@jupyter-widgets/controls",
          "model_name": "DescriptionStyleModel",
          "model_module_version": "1.5.0",
          "state": {
            "_model_module": "@jupyter-widgets/controls",
            "_model_module_version": "1.5.0",
            "_model_name": "DescriptionStyleModel",
            "_view_count": null,
            "_view_module": "@jupyter-widgets/base",
            "_view_module_version": "1.2.0",
            "_view_name": "StyleView",
            "description_width": ""
          }
        },
        "c84652f6e3cc41f3a1e54829ff611918": {
          "model_module": "@jupyter-widgets/controls",
          "model_name": "HBoxModel",
          "model_module_version": "1.5.0",
          "state": {
            "_dom_classes": [],
            "_model_module": "@jupyter-widgets/controls",
            "_model_module_version": "1.5.0",
            "_model_name": "HBoxModel",
            "_view_count": null,
            "_view_module": "@jupyter-widgets/controls",
            "_view_module_version": "1.5.0",
            "_view_name": "HBoxView",
            "box_style": "",
            "children": [
              "IPY_MODEL_a569588c2b3e4e0082a8b65ec60cd4a7",
              "IPY_MODEL_4e1540e86a3f4bd88b65c8de8c013ab0",
              "IPY_MODEL_cd41d901b85f45528db8965027700a88"
            ],
            "layout": "IPY_MODEL_5a33a879484f45df81333c9602d011d0"
          }
        },
        "a569588c2b3e4e0082a8b65ec60cd4a7": {
          "model_module": "@jupyter-widgets/controls",
          "model_name": "HTMLModel",
          "model_module_version": "1.5.0",
          "state": {
            "_dom_classes": [],
            "_model_module": "@jupyter-widgets/controls",
            "_model_module_version": "1.5.0",
            "_model_name": "HTMLModel",
            "_view_count": null,
            "_view_module": "@jupyter-widgets/controls",
            "_view_module_version": "1.5.0",
            "_view_name": "HTMLView",
            "description": "",
            "description_tooltip": null,
            "layout": "IPY_MODEL_e8b87a292ceb4977acff23ce621b071e",
            "placeholder": "​",
            "style": "IPY_MODEL_244301a89cbc409f976432e1af750a45",
            "value": "Map: 100%"
          }
        },
        "4e1540e86a3f4bd88b65c8de8c013ab0": {
          "model_module": "@jupyter-widgets/controls",
          "model_name": "FloatProgressModel",
          "model_module_version": "1.5.0",
          "state": {
            "_dom_classes": [],
            "_model_module": "@jupyter-widgets/controls",
            "_model_module_version": "1.5.0",
            "_model_name": "FloatProgressModel",
            "_view_count": null,
            "_view_module": "@jupyter-widgets/controls",
            "_view_module_version": "1.5.0",
            "_view_name": "ProgressView",
            "bar_style": "success",
            "description": "",
            "description_tooltip": null,
            "layout": "IPY_MODEL_dbf2e3389cda457c8c2e2c5aaf415313",
            "max": 10000,
            "min": 0,
            "orientation": "horizontal",
            "style": "IPY_MODEL_4e568bd18d2b4040aa4898d36c818c94",
            "value": 10000
          }
        },
        "cd41d901b85f45528db8965027700a88": {
          "model_module": "@jupyter-widgets/controls",
          "model_name": "HTMLModel",
          "model_module_version": "1.5.0",
          "state": {
            "_dom_classes": [],
            "_model_module": "@jupyter-widgets/controls",
            "_model_module_version": "1.5.0",
            "_model_name": "HTMLModel",
            "_view_count": null,
            "_view_module": "@jupyter-widgets/controls",
            "_view_module_version": "1.5.0",
            "_view_name": "HTMLView",
            "description": "",
            "description_tooltip": null,
            "layout": "IPY_MODEL_109be86b3af94eef898da6051c83742c",
            "placeholder": "​",
            "style": "IPY_MODEL_e40dae6ebef1476fbdabc146b527b34f",
            "value": " 10000/10000 [00:03&lt;00:00, 2929.48 examples/s]"
          }
        },
        "5a33a879484f45df81333c9602d011d0": {
          "model_module": "@jupyter-widgets/base",
          "model_name": "LayoutModel",
          "model_module_version": "1.2.0",
          "state": {
            "_model_module": "@jupyter-widgets/base",
            "_model_module_version": "1.2.0",
            "_model_name": "LayoutModel",
            "_view_count": null,
            "_view_module": "@jupyter-widgets/base",
            "_view_module_version": "1.2.0",
            "_view_name": "LayoutView",
            "align_content": null,
            "align_items": null,
            "align_self": null,
            "border": null,
            "bottom": null,
            "display": null,
            "flex": null,
            "flex_flow": null,
            "grid_area": null,
            "grid_auto_columns": null,
            "grid_auto_flow": null,
            "grid_auto_rows": null,
            "grid_column": null,
            "grid_gap": null,
            "grid_row": null,
            "grid_template_areas": null,
            "grid_template_columns": null,
            "grid_template_rows": null,
            "height": null,
            "justify_content": null,
            "justify_items": null,
            "left": null,
            "margin": null,
            "max_height": null,
            "max_width": null,
            "min_height": null,
            "min_width": null,
            "object_fit": null,
            "object_position": null,
            "order": null,
            "overflow": null,
            "overflow_x": null,
            "overflow_y": null,
            "padding": null,
            "right": null,
            "top": null,
            "visibility": null,
            "width": null
          }
        },
        "e8b87a292ceb4977acff23ce621b071e": {
          "model_module": "@jupyter-widgets/base",
          "model_name": "LayoutModel",
          "model_module_version": "1.2.0",
          "state": {
            "_model_module": "@jupyter-widgets/base",
            "_model_module_version": "1.2.0",
            "_model_name": "LayoutModel",
            "_view_count": null,
            "_view_module": "@jupyter-widgets/base",
            "_view_module_version": "1.2.0",
            "_view_name": "LayoutView",
            "align_content": null,
            "align_items": null,
            "align_self": null,
            "border": null,
            "bottom": null,
            "display": null,
            "flex": null,
            "flex_flow": null,
            "grid_area": null,
            "grid_auto_columns": null,
            "grid_auto_flow": null,
            "grid_auto_rows": null,
            "grid_column": null,
            "grid_gap": null,
            "grid_row": null,
            "grid_template_areas": null,
            "grid_template_columns": null,
            "grid_template_rows": null,
            "height": null,
            "justify_content": null,
            "justify_items": null,
            "left": null,
            "margin": null,
            "max_height": null,
            "max_width": null,
            "min_height": null,
            "min_width": null,
            "object_fit": null,
            "object_position": null,
            "order": null,
            "overflow": null,
            "overflow_x": null,
            "overflow_y": null,
            "padding": null,
            "right": null,
            "top": null,
            "visibility": null,
            "width": null
          }
        },
        "244301a89cbc409f976432e1af750a45": {
          "model_module": "@jupyter-widgets/controls",
          "model_name": "DescriptionStyleModel",
          "model_module_version": "1.5.0",
          "state": {
            "_model_module": "@jupyter-widgets/controls",
            "_model_module_version": "1.5.0",
            "_model_name": "DescriptionStyleModel",
            "_view_count": null,
            "_view_module": "@jupyter-widgets/base",
            "_view_module_version": "1.2.0",
            "_view_name": "StyleView",
            "description_width": ""
          }
        },
        "dbf2e3389cda457c8c2e2c5aaf415313": {
          "model_module": "@jupyter-widgets/base",
          "model_name": "LayoutModel",
          "model_module_version": "1.2.0",
          "state": {
            "_model_module": "@jupyter-widgets/base",
            "_model_module_version": "1.2.0",
            "_model_name": "LayoutModel",
            "_view_count": null,
            "_view_module": "@jupyter-widgets/base",
            "_view_module_version": "1.2.0",
            "_view_name": "LayoutView",
            "align_content": null,
            "align_items": null,
            "align_self": null,
            "border": null,
            "bottom": null,
            "display": null,
            "flex": null,
            "flex_flow": null,
            "grid_area": null,
            "grid_auto_columns": null,
            "grid_auto_flow": null,
            "grid_auto_rows": null,
            "grid_column": null,
            "grid_gap": null,
            "grid_row": null,
            "grid_template_areas": null,
            "grid_template_columns": null,
            "grid_template_rows": null,
            "height": null,
            "justify_content": null,
            "justify_items": null,
            "left": null,
            "margin": null,
            "max_height": null,
            "max_width": null,
            "min_height": null,
            "min_width": null,
            "object_fit": null,
            "object_position": null,
            "order": null,
            "overflow": null,
            "overflow_x": null,
            "overflow_y": null,
            "padding": null,
            "right": null,
            "top": null,
            "visibility": null,
            "width": null
          }
        },
        "4e568bd18d2b4040aa4898d36c818c94": {
          "model_module": "@jupyter-widgets/controls",
          "model_name": "ProgressStyleModel",
          "model_module_version": "1.5.0",
          "state": {
            "_model_module": "@jupyter-widgets/controls",
            "_model_module_version": "1.5.0",
            "_model_name": "ProgressStyleModel",
            "_view_count": null,
            "_view_module": "@jupyter-widgets/base",
            "_view_module_version": "1.2.0",
            "_view_name": "StyleView",
            "bar_color": null,
            "description_width": ""
          }
        },
        "109be86b3af94eef898da6051c83742c": {
          "model_module": "@jupyter-widgets/base",
          "model_name": "LayoutModel",
          "model_module_version": "1.2.0",
          "state": {
            "_model_module": "@jupyter-widgets/base",
            "_model_module_version": "1.2.0",
            "_model_name": "LayoutModel",
            "_view_count": null,
            "_view_module": "@jupyter-widgets/base",
            "_view_module_version": "1.2.0",
            "_view_name": "LayoutView",
            "align_content": null,
            "align_items": null,
            "align_self": null,
            "border": null,
            "bottom": null,
            "display": null,
            "flex": null,
            "flex_flow": null,
            "grid_area": null,
            "grid_auto_columns": null,
            "grid_auto_flow": null,
            "grid_auto_rows": null,
            "grid_column": null,
            "grid_gap": null,
            "grid_row": null,
            "grid_template_areas": null,
            "grid_template_columns": null,
            "grid_template_rows": null,
            "height": null,
            "justify_content": null,
            "justify_items": null,
            "left": null,
            "margin": null,
            "max_height": null,
            "max_width": null,
            "min_height": null,
            "min_width": null,
            "object_fit": null,
            "object_position": null,
            "order": null,
            "overflow": null,
            "overflow_x": null,
            "overflow_y": null,
            "padding": null,
            "right": null,
            "top": null,
            "visibility": null,
            "width": null
          }
        },
        "e40dae6ebef1476fbdabc146b527b34f": {
          "model_module": "@jupyter-widgets/controls",
          "model_name": "DescriptionStyleModel",
          "model_module_version": "1.5.0",
          "state": {
            "_model_module": "@jupyter-widgets/controls",
            "_model_module_version": "1.5.0",
            "_model_name": "DescriptionStyleModel",
            "_view_count": null,
            "_view_module": "@jupyter-widgets/base",
            "_view_module_version": "1.2.0",
            "_view_name": "StyleView",
            "description_width": ""
          }
        }
      }
    }
  },
  "nbformat": 4,
  "nbformat_minor": 0
}